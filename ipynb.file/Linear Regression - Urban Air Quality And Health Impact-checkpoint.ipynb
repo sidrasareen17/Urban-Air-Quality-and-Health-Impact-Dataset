{
 "cells": [
  {
   "cell_type": "code",
   "execution_count": 350,
   "id": "ef990522-68b0-4295-bf21-9ec4123c816a",
   "metadata": {},
   "outputs": [],
   "source": [
    "import numpy as np\n",
    "import pandas as pd\n",
    "import seaborn as sns\n",
    "\n",
    "from sklearn.model_selection import train_test_split\n",
    "from sklearn.linear_model import LinearRegression\n",
    "from sklearn.metrics import mean_absolute_error, mean_squared_error, r2_score\n",
    "import matplotlib.pyplot as plt\n",
    "import seaborn as sns\n",
    "\n",
    "\n",
    "import pickle\n",
    "import json\n",
    "\n",
    "\n",
    "import warnings\n",
    "warnings.filterwarnings('ignore')\n"
   ]
  },
  {
   "cell_type": "markdown",
   "id": "c6b40d3a-b69d-48f3-8781-7029875a9979",
   "metadata": {},
   "source": []
  },
  {
   "cell_type": "raw",
   "id": "b5ea694e-baf8-4dea-83c0-0cf75b05d50d",
   "metadata": {},
   "source": [
    "Dataset Title:\n",
    "                Urban Air Quality and Health Impact Dataset: A Comprehensive Overview of U.S. Cities\n",
    "\n",
    "\n",
    "Description:\n",
    "\n",
    "This dataset provides an extensive collection of synthetic data related to urban air quality and its potential health impacts across major\n",
    "U.S. cities. The data has been augmented to include a wide range of features, making it a valuable resource for research and analysis in the \n",
    "fields of environmental science, public health, and urban studies.\n",
    "\n",
    "\n",
    "Features:\n",
    "\n",
    "DateTime: Timestamp of the recorded data.\n",
    "City: The U.S. city where the data was recorded (e.g., Phoenix, San Diego, New York City).\n",
    "Temp_Max: Maximum temperature for the day (°F).\n",
    "Temp_Min: Minimum temperature for the day (°F).\n",
    "Temp_Avg: Average temperature for the day (°F).\n",
    "Feels_Like_Max: Maximum \"feels like\" temperature for the day (°F).\n",
    "Feels_Like_Min: Minimum \"feels like\" temperature for the day (°F).\n",
    "Feels_Like_Avg: Average \"feels like\" temperature for the day (°F).\n",
    "Dew_Point: Dew point temperature (°F).\n",
    "Humidity: Relative humidity percentage.\n",
    "Precipitation: Total precipitation for the day (inches).\n",
    "Precip_Prob: Probability of precipitation (percentage).\n",
    "Precip_Cover: Coverage of precipitation (percentage).\n",
    "Precip_Type: Type of precipitation (e.g., rain, snow).\n",
    "Snow: Amount of snowfall (inches).\n",
    "Snow_Depth: Snow depth (inches).\n",
    "Wind_Gust: Maximum wind gust speed (mph).\n",
    "Wind_Speed: Average wind speed (mph).\n",
    "Wind_Direction: Wind direction (degrees).\n",
    "Pressure: Atmospheric pressure (hPa).\n",
    "Cloud_Cover: Cloud cover percentage.\n",
    "Visibility: Visibility distance (miles).\n",
    "Solar_Radiation: Solar radiation (W/m²).\n",
    "Solar_Energy: Solar energy received (kWh).\n",
    "UV_Index: UV index level.\n",
    "Severe_Risk: Risk level of severe weather (e.g., low, moderate, high).\n",
    "Sunrise: Sunrise time (HH:MM:SS).\n",
    "Sunset: Sunset time (HH:MM:SS).\n",
    "Moon_Phase: Phase of the moon (e.g., new moon, full moon).\n",
    "Conditions: General weather conditions (e.g., clear, cloudy).\n",
    "Description: Detailed description of the weather conditions.\n",
    "Icon: Weather icon representation.\n",
    "Stations: Weather stations reporting data.\n",
    "Source: Data source information.\n",
    "Temp_Range: Temperature range for the day (difference between max and min temperatures).\n",
    "Heat_Index: Heat index value for the day.\n",
    "Severity_Score: Score representing the severity of weather conditions.\n",
    "Condition_Code: Code representing specific weather conditions.\n",
    "Month: Month of the year.\n",
    "Season: Season of the year (e.g., winter, spring).\n",
    "Day_of_Week: Day of the week.\n",
    "Is_Weekend: Indicator if the day is a weekend.\n",
    "Health_Risk_Score: Score representing the potential health risk based on weather and air quality conditions.\n",
    "\n",
    "\n",
    ">>>>> Predict on logistic Regression model : Health_Risk_Score"
   ]
  },
  {
   "cell_type": "markdown",
   "id": "19a740af-f1cf-4053-84b9-a55fbc45de4e",
   "metadata": {},
   "source": [
    "### 2. Data Gathering"
   ]
  },
  {
   "cell_type": "code",
   "execution_count": 180,
   "id": "876d9cff-f760-4f52-95e5-d92d0b4beafb",
   "metadata": {},
   "outputs": [
    {
     "data": {
      "text/html": [
       "<div>\n",
       "<style scoped>\n",
       "    .dataframe tbody tr th:only-of-type {\n",
       "        vertical-align: middle;\n",
       "    }\n",
       "\n",
       "    .dataframe tbody tr th {\n",
       "        vertical-align: top;\n",
       "    }\n",
       "\n",
       "    .dataframe thead th {\n",
       "        text-align: right;\n",
       "    }\n",
       "</style>\n",
       "<table border=\"1\" class=\"dataframe\">\n",
       "  <thead>\n",
       "    <tr style=\"text-align: right;\">\n",
       "      <th></th>\n",
       "      <th>datetime</th>\n",
       "      <th>monthtime</th>\n",
       "      <th>yeartime</th>\n",
       "      <th>datetimeEpoch</th>\n",
       "      <th>tempmax</th>\n",
       "      <th>tempmin</th>\n",
       "      <th>temp</th>\n",
       "      <th>feelslikemax</th>\n",
       "      <th>feelslikemin</th>\n",
       "      <th>feelslike</th>\n",
       "      <th>...</th>\n",
       "      <th>City</th>\n",
       "      <th>Temp_Range</th>\n",
       "      <th>Heat_Index</th>\n",
       "      <th>Severity_Score</th>\n",
       "      <th>Condition_Code</th>\n",
       "      <th>Month</th>\n",
       "      <th>Season</th>\n",
       "      <th>Day_of_Week</th>\n",
       "      <th>Is_Weekend</th>\n",
       "      <th>Health_Risk_Score</th>\n",
       "    </tr>\n",
       "  </thead>\n",
       "  <tbody>\n",
       "    <tr>\n",
       "      <th>0</th>\n",
       "      <td>7</td>\n",
       "      <td>9</td>\n",
       "      <td>2024</td>\n",
       "      <td>1725692400</td>\n",
       "      <td>106.100000</td>\n",
       "      <td>91.000000</td>\n",
       "      <td>98.500000</td>\n",
       "      <td>104.000000</td>\n",
       "      <td>88.100000</td>\n",
       "      <td>95.900000</td>\n",
       "      <td>...</td>\n",
       "      <td>Phoenix</td>\n",
       "      <td>15.100000</td>\n",
       "      <td>95.918703</td>\n",
       "      <td>4.430000</td>\n",
       "      <td>0</td>\n",
       "      <td>9</td>\n",
       "      <td>Fall</td>\n",
       "      <td>Saturday</td>\n",
       "      <td>True</td>\n",
       "      <td>10.522170</td>\n",
       "    </tr>\n",
       "    <tr>\n",
       "      <th>1</th>\n",
       "      <td>8</td>\n",
       "      <td>9</td>\n",
       "      <td>2024</td>\n",
       "      <td>1725778800</td>\n",
       "      <td>103.900000</td>\n",
       "      <td>87.000000</td>\n",
       "      <td>95.400000</td>\n",
       "      <td>100.500000</td>\n",
       "      <td>84.700000</td>\n",
       "      <td>92.300000</td>\n",
       "      <td>...</td>\n",
       "      <td>Phoenix</td>\n",
       "      <td>16.900000</td>\n",
       "      <td>92.281316</td>\n",
       "      <td>3.880000</td>\n",
       "      <td>0</td>\n",
       "      <td>9</td>\n",
       "      <td>Fall</td>\n",
       "      <td>Sunday</td>\n",
       "      <td>True</td>\n",
       "      <td>10.062332</td>\n",
       "    </tr>\n",
       "    <tr>\n",
       "      <th>2</th>\n",
       "      <td>9</td>\n",
       "      <td>9</td>\n",
       "      <td>2024</td>\n",
       "      <td>1725865200</td>\n",
       "      <td>105.000000</td>\n",
       "      <td>83.900000</td>\n",
       "      <td>94.700000</td>\n",
       "      <td>99.900000</td>\n",
       "      <td>81.600000</td>\n",
       "      <td>90.600000</td>\n",
       "      <td>...</td>\n",
       "      <td>Phoenix</td>\n",
       "      <td>21.100000</td>\n",
       "      <td>90.599165</td>\n",
       "      <td>3.630000</td>\n",
       "      <td>0</td>\n",
       "      <td>9</td>\n",
       "      <td>Fall</td>\n",
       "      <td>Monday</td>\n",
       "      <td>False</td>\n",
       "      <td>9.673387</td>\n",
       "    </tr>\n",
       "    <tr>\n",
       "      <th>3</th>\n",
       "      <td>10</td>\n",
       "      <td>9</td>\n",
       "      <td>2024</td>\n",
       "      <td>1725951600</td>\n",
       "      <td>106.100000</td>\n",
       "      <td>81.200000</td>\n",
       "      <td>93.900000</td>\n",
       "      <td>100.600000</td>\n",
       "      <td>79.500000</td>\n",
       "      <td>89.800000</td>\n",
       "      <td>...</td>\n",
       "      <td>Phoenix</td>\n",
       "      <td>24.900000</td>\n",
       "      <td>89.638811</td>\n",
       "      <td>2.851200</td>\n",
       "      <td>0</td>\n",
       "      <td>9</td>\n",
       "      <td>Fall</td>\n",
       "      <td>Tuesday</td>\n",
       "      <td>False</td>\n",
       "      <td>9.411519</td>\n",
       "    </tr>\n",
       "    <tr>\n",
       "      <th>4</th>\n",
       "      <td>11</td>\n",
       "      <td>9</td>\n",
       "      <td>2024</td>\n",
       "      <td>1726038000</td>\n",
       "      <td>106.100000</td>\n",
       "      <td>82.100000</td>\n",
       "      <td>94.000000</td>\n",
       "      <td>101.000000</td>\n",
       "      <td>80.000000</td>\n",
       "      <td>90.000000</td>\n",
       "      <td>...</td>\n",
       "      <td>Phoenix</td>\n",
       "      <td>24.000000</td>\n",
       "      <td>89.760414</td>\n",
       "      <td>3.390800</td>\n",
       "      <td>0</td>\n",
       "      <td>9</td>\n",
       "      <td>Fall</td>\n",
       "      <td>Wednesday</td>\n",
       "      <td>False</td>\n",
       "      <td>9.515179</td>\n",
       "    </tr>\n",
       "    <tr>\n",
       "      <th>...</th>\n",
       "      <td>...</td>\n",
       "      <td>...</td>\n",
       "      <td>...</td>\n",
       "      <td>...</td>\n",
       "      <td>...</td>\n",
       "      <td>...</td>\n",
       "      <td>...</td>\n",
       "      <td>...</td>\n",
       "      <td>...</td>\n",
       "      <td>...</td>\n",
       "      <td>...</td>\n",
       "      <td>...</td>\n",
       "      <td>...</td>\n",
       "      <td>...</td>\n",
       "      <td>...</td>\n",
       "      <td>...</td>\n",
       "      <td>...</td>\n",
       "      <td>...</td>\n",
       "      <td>...</td>\n",
       "      <td>...</td>\n",
       "      <td>...</td>\n",
       "    </tr>\n",
       "    <tr>\n",
       "      <th>995</th>\n",
       "      <td>18</td>\n",
       "      <td>9</td>\n",
       "      <td>2024</td>\n",
       "      <td>1726632592</td>\n",
       "      <td>76.060546</td>\n",
       "      <td>64.359387</td>\n",
       "      <td>69.002142</td>\n",
       "      <td>77.673823</td>\n",
       "      <td>63.510920</td>\n",
       "      <td>67.003338</td>\n",
       "      <td>...</td>\n",
       "      <td>Philadelphia</td>\n",
       "      <td>12.886665</td>\n",
       "      <td>71.837558</td>\n",
       "      <td>1.957318</td>\n",
       "      <td>0</td>\n",
       "      <td>9</td>\n",
       "      <td>Fall</td>\n",
       "      <td>Wednesday</td>\n",
       "      <td>False</td>\n",
       "      <td>8.750142</td>\n",
       "    </tr>\n",
       "    <tr>\n",
       "      <th>996</th>\n",
       "      <td>17</td>\n",
       "      <td>9</td>\n",
       "      <td>2024</td>\n",
       "      <td>1726550178</td>\n",
       "      <td>68.409198</td>\n",
       "      <td>65.939319</td>\n",
       "      <td>66.567410</td>\n",
       "      <td>68.956722</td>\n",
       "      <td>64.805635</td>\n",
       "      <td>65.992526</td>\n",
       "      <td>...</td>\n",
       "      <td>San Diego</td>\n",
       "      <td>2.613629</td>\n",
       "      <td>72.463491</td>\n",
       "      <td>2.537413</td>\n",
       "      <td>0</td>\n",
       "      <td>9</td>\n",
       "      <td>Fall</td>\n",
       "      <td>Tuesday</td>\n",
       "      <td>False</td>\n",
       "      <td>9.118198</td>\n",
       "    </tr>\n",
       "    <tr>\n",
       "      <th>997</th>\n",
       "      <td>12</td>\n",
       "      <td>9</td>\n",
       "      <td>2024</td>\n",
       "      <td>1726121998</td>\n",
       "      <td>69.756690</td>\n",
       "      <td>65.286919</td>\n",
       "      <td>65.919492</td>\n",
       "      <td>68.158536</td>\n",
       "      <td>63.662942</td>\n",
       "      <td>67.313322</td>\n",
       "      <td>...</td>\n",
       "      <td>San Diego</td>\n",
       "      <td>4.598936</td>\n",
       "      <td>67.560060</td>\n",
       "      <td>3.595470</td>\n",
       "      <td>0</td>\n",
       "      <td>9</td>\n",
       "      <td>Fall</td>\n",
       "      <td>Thursday</td>\n",
       "      <td>False</td>\n",
       "      <td>9.880093</td>\n",
       "    </tr>\n",
       "    <tr>\n",
       "      <th>998</th>\n",
       "      <td>14</td>\n",
       "      <td>9</td>\n",
       "      <td>2024</td>\n",
       "      <td>1726283774</td>\n",
       "      <td>77.106797</td>\n",
       "      <td>61.481724</td>\n",
       "      <td>68.106569</td>\n",
       "      <td>76.426959</td>\n",
       "      <td>60.901526</td>\n",
       "      <td>68.094309</td>\n",
       "      <td>...</td>\n",
       "      <td>Los Angeles</td>\n",
       "      <td>15.477717</td>\n",
       "      <td>67.930437</td>\n",
       "      <td>3.498942</td>\n",
       "      <td>0</td>\n",
       "      <td>9</td>\n",
       "      <td>Fall</td>\n",
       "      <td>Saturday</td>\n",
       "      <td>True</td>\n",
       "      <td>9.561602</td>\n",
       "    </tr>\n",
       "    <tr>\n",
       "      <th>999</th>\n",
       "      <td>18</td>\n",
       "      <td>9</td>\n",
       "      <td>2024</td>\n",
       "      <td>1726618425</td>\n",
       "      <td>90.923080</td>\n",
       "      <td>79.296868</td>\n",
       "      <td>81.636991</td>\n",
       "      <td>94.180423</td>\n",
       "      <td>78.071851</td>\n",
       "      <td>84.987113</td>\n",
       "      <td>...</td>\n",
       "      <td>Houston</td>\n",
       "      <td>11.017871</td>\n",
       "      <td>86.802712</td>\n",
       "      <td>3.040020</td>\n",
       "      <td>0</td>\n",
       "      <td>9</td>\n",
       "      <td>Fall</td>\n",
       "      <td>Wednesday</td>\n",
       "      <td>False</td>\n",
       "      <td>10.978044</td>\n",
       "    </tr>\n",
       "  </tbody>\n",
       "</table>\n",
       "<p>1000 rows × 52 columns</p>\n",
       "</div>"
      ],
      "text/plain": [
       "     datetime  monthtime  yeartime  datetimeEpoch     tempmax    tempmin  \\\n",
       "0           7          9      2024     1725692400  106.100000  91.000000   \n",
       "1           8          9      2024     1725778800  103.900000  87.000000   \n",
       "2           9          9      2024     1725865200  105.000000  83.900000   \n",
       "3          10          9      2024     1725951600  106.100000  81.200000   \n",
       "4          11          9      2024     1726038000  106.100000  82.100000   \n",
       "..        ...        ...       ...            ...         ...        ...   \n",
       "995        18          9      2024     1726632592   76.060546  64.359387   \n",
       "996        17          9      2024     1726550178   68.409198  65.939319   \n",
       "997        12          9      2024     1726121998   69.756690  65.286919   \n",
       "998        14          9      2024     1726283774   77.106797  61.481724   \n",
       "999        18          9      2024     1726618425   90.923080  79.296868   \n",
       "\n",
       "          temp  feelslikemax  feelslikemin  feelslike  ...          City  \\\n",
       "0    98.500000    104.000000     88.100000  95.900000  ...       Phoenix   \n",
       "1    95.400000    100.500000     84.700000  92.300000  ...       Phoenix   \n",
       "2    94.700000     99.900000     81.600000  90.600000  ...       Phoenix   \n",
       "3    93.900000    100.600000     79.500000  89.800000  ...       Phoenix   \n",
       "4    94.000000    101.000000     80.000000  90.000000  ...       Phoenix   \n",
       "..         ...           ...           ...        ...  ...           ...   \n",
       "995  69.002142     77.673823     63.510920  67.003338  ...  Philadelphia   \n",
       "996  66.567410     68.956722     64.805635  65.992526  ...     San Diego   \n",
       "997  65.919492     68.158536     63.662942  67.313322  ...     San Diego   \n",
       "998  68.106569     76.426959     60.901526  68.094309  ...   Los Angeles   \n",
       "999  81.636991     94.180423     78.071851  84.987113  ...       Houston   \n",
       "\n",
       "     Temp_Range  Heat_Index  Severity_Score  Condition_Code Month  Season  \\\n",
       "0     15.100000   95.918703        4.430000               0     9    Fall   \n",
       "1     16.900000   92.281316        3.880000               0     9    Fall   \n",
       "2     21.100000   90.599165        3.630000               0     9    Fall   \n",
       "3     24.900000   89.638811        2.851200               0     9    Fall   \n",
       "4     24.000000   89.760414        3.390800               0     9    Fall   \n",
       "..          ...         ...             ...             ...   ...     ...   \n",
       "995   12.886665   71.837558        1.957318               0     9    Fall   \n",
       "996    2.613629   72.463491        2.537413               0     9    Fall   \n",
       "997    4.598936   67.560060        3.595470               0     9    Fall   \n",
       "998   15.477717   67.930437        3.498942               0     9    Fall   \n",
       "999   11.017871   86.802712        3.040020               0     9    Fall   \n",
       "\n",
       "     Day_of_Week  Is_Weekend  Health_Risk_Score  \n",
       "0       Saturday        True          10.522170  \n",
       "1         Sunday        True          10.062332  \n",
       "2         Monday       False           9.673387  \n",
       "3        Tuesday       False           9.411519  \n",
       "4      Wednesday       False           9.515179  \n",
       "..           ...         ...                ...  \n",
       "995    Wednesday       False           8.750142  \n",
       "996      Tuesday       False           9.118198  \n",
       "997     Thursday       False           9.880093  \n",
       "998     Saturday        True           9.561602  \n",
       "999    Wednesday       False          10.978044  \n",
       "\n",
       "[1000 rows x 52 columns]"
      ]
     },
     "execution_count": 180,
     "metadata": {},
     "output_type": "execute_result"
    }
   ],
   "source": [
    "df=pd.read_csv('Urban Air Quality and Health Impact Dataset.csv')\n",
    "df"
   ]
  },
  {
   "cell_type": "code",
   "execution_count": 181,
   "id": "a0f10925-d34a-49c0-b96c-523744a07775",
   "metadata": {},
   "outputs": [
    {
     "data": {
      "text/html": [
       "<div>\n",
       "<style scoped>\n",
       "    .dataframe tbody tr th:only-of-type {\n",
       "        vertical-align: middle;\n",
       "    }\n",
       "\n",
       "    .dataframe tbody tr th {\n",
       "        vertical-align: top;\n",
       "    }\n",
       "\n",
       "    .dataframe thead th {\n",
       "        text-align: right;\n",
       "    }\n",
       "</style>\n",
       "<table border=\"1\" class=\"dataframe\">\n",
       "  <thead>\n",
       "    <tr style=\"text-align: right;\">\n",
       "      <th></th>\n",
       "      <th>datetime</th>\n",
       "      <th>monthtime</th>\n",
       "      <th>yeartime</th>\n",
       "      <th>datetimeEpoch</th>\n",
       "      <th>tempmax</th>\n",
       "      <th>tempmin</th>\n",
       "      <th>temp</th>\n",
       "      <th>feelslikemax</th>\n",
       "      <th>feelslikemin</th>\n",
       "      <th>feelslike</th>\n",
       "      <th>...</th>\n",
       "      <th>City</th>\n",
       "      <th>Temp_Range</th>\n",
       "      <th>Heat_Index</th>\n",
       "      <th>Severity_Score</th>\n",
       "      <th>Condition_Code</th>\n",
       "      <th>Month</th>\n",
       "      <th>Season</th>\n",
       "      <th>Day_of_Week</th>\n",
       "      <th>Is_Weekend</th>\n",
       "      <th>Health_Risk_Score</th>\n",
       "    </tr>\n",
       "  </thead>\n",
       "  <tbody>\n",
       "    <tr>\n",
       "      <th>0</th>\n",
       "      <td>7</td>\n",
       "      <td>9</td>\n",
       "      <td>2024</td>\n",
       "      <td>1725692400</td>\n",
       "      <td>106.100000</td>\n",
       "      <td>91.000000</td>\n",
       "      <td>98.500000</td>\n",
       "      <td>104.000000</td>\n",
       "      <td>88.100000</td>\n",
       "      <td>95.900000</td>\n",
       "      <td>...</td>\n",
       "      <td>Phoenix</td>\n",
       "      <td>15.100000</td>\n",
       "      <td>95.918703</td>\n",
       "      <td>4.430000</td>\n",
       "      <td>0</td>\n",
       "      <td>9</td>\n",
       "      <td>Fall</td>\n",
       "      <td>Saturday</td>\n",
       "      <td>True</td>\n",
       "      <td>10.522170</td>\n",
       "    </tr>\n",
       "    <tr>\n",
       "      <th>1</th>\n",
       "      <td>8</td>\n",
       "      <td>9</td>\n",
       "      <td>2024</td>\n",
       "      <td>1725778800</td>\n",
       "      <td>103.900000</td>\n",
       "      <td>87.000000</td>\n",
       "      <td>95.400000</td>\n",
       "      <td>100.500000</td>\n",
       "      <td>84.700000</td>\n",
       "      <td>92.300000</td>\n",
       "      <td>...</td>\n",
       "      <td>Phoenix</td>\n",
       "      <td>16.900000</td>\n",
       "      <td>92.281316</td>\n",
       "      <td>3.880000</td>\n",
       "      <td>0</td>\n",
       "      <td>9</td>\n",
       "      <td>Fall</td>\n",
       "      <td>Sunday</td>\n",
       "      <td>True</td>\n",
       "      <td>10.062332</td>\n",
       "    </tr>\n",
       "    <tr>\n",
       "      <th>2</th>\n",
       "      <td>9</td>\n",
       "      <td>9</td>\n",
       "      <td>2024</td>\n",
       "      <td>1725865200</td>\n",
       "      <td>105.000000</td>\n",
       "      <td>83.900000</td>\n",
       "      <td>94.700000</td>\n",
       "      <td>99.900000</td>\n",
       "      <td>81.600000</td>\n",
       "      <td>90.600000</td>\n",
       "      <td>...</td>\n",
       "      <td>Phoenix</td>\n",
       "      <td>21.100000</td>\n",
       "      <td>90.599165</td>\n",
       "      <td>3.630000</td>\n",
       "      <td>0</td>\n",
       "      <td>9</td>\n",
       "      <td>Fall</td>\n",
       "      <td>Monday</td>\n",
       "      <td>False</td>\n",
       "      <td>9.673387</td>\n",
       "    </tr>\n",
       "    <tr>\n",
       "      <th>3</th>\n",
       "      <td>10</td>\n",
       "      <td>9</td>\n",
       "      <td>2024</td>\n",
       "      <td>1725951600</td>\n",
       "      <td>106.100000</td>\n",
       "      <td>81.200000</td>\n",
       "      <td>93.900000</td>\n",
       "      <td>100.600000</td>\n",
       "      <td>79.500000</td>\n",
       "      <td>89.800000</td>\n",
       "      <td>...</td>\n",
       "      <td>Phoenix</td>\n",
       "      <td>24.900000</td>\n",
       "      <td>89.638811</td>\n",
       "      <td>2.851200</td>\n",
       "      <td>0</td>\n",
       "      <td>9</td>\n",
       "      <td>Fall</td>\n",
       "      <td>Tuesday</td>\n",
       "      <td>False</td>\n",
       "      <td>9.411519</td>\n",
       "    </tr>\n",
       "    <tr>\n",
       "      <th>4</th>\n",
       "      <td>11</td>\n",
       "      <td>9</td>\n",
       "      <td>2024</td>\n",
       "      <td>1726038000</td>\n",
       "      <td>106.100000</td>\n",
       "      <td>82.100000</td>\n",
       "      <td>94.000000</td>\n",
       "      <td>101.000000</td>\n",
       "      <td>80.000000</td>\n",
       "      <td>90.000000</td>\n",
       "      <td>...</td>\n",
       "      <td>Phoenix</td>\n",
       "      <td>24.000000</td>\n",
       "      <td>89.760414</td>\n",
       "      <td>3.390800</td>\n",
       "      <td>0</td>\n",
       "      <td>9</td>\n",
       "      <td>Fall</td>\n",
       "      <td>Wednesday</td>\n",
       "      <td>False</td>\n",
       "      <td>9.515179</td>\n",
       "    </tr>\n",
       "    <tr>\n",
       "      <th>...</th>\n",
       "      <td>...</td>\n",
       "      <td>...</td>\n",
       "      <td>...</td>\n",
       "      <td>...</td>\n",
       "      <td>...</td>\n",
       "      <td>...</td>\n",
       "      <td>...</td>\n",
       "      <td>...</td>\n",
       "      <td>...</td>\n",
       "      <td>...</td>\n",
       "      <td>...</td>\n",
       "      <td>...</td>\n",
       "      <td>...</td>\n",
       "      <td>...</td>\n",
       "      <td>...</td>\n",
       "      <td>...</td>\n",
       "      <td>...</td>\n",
       "      <td>...</td>\n",
       "      <td>...</td>\n",
       "      <td>...</td>\n",
       "      <td>...</td>\n",
       "    </tr>\n",
       "    <tr>\n",
       "      <th>995</th>\n",
       "      <td>18</td>\n",
       "      <td>9</td>\n",
       "      <td>2024</td>\n",
       "      <td>1726632592</td>\n",
       "      <td>76.060546</td>\n",
       "      <td>64.359387</td>\n",
       "      <td>69.002142</td>\n",
       "      <td>77.673823</td>\n",
       "      <td>63.510920</td>\n",
       "      <td>67.003338</td>\n",
       "      <td>...</td>\n",
       "      <td>Philadelphia</td>\n",
       "      <td>12.886665</td>\n",
       "      <td>71.837558</td>\n",
       "      <td>1.957318</td>\n",
       "      <td>0</td>\n",
       "      <td>9</td>\n",
       "      <td>Fall</td>\n",
       "      <td>Wednesday</td>\n",
       "      <td>False</td>\n",
       "      <td>8.750142</td>\n",
       "    </tr>\n",
       "    <tr>\n",
       "      <th>996</th>\n",
       "      <td>17</td>\n",
       "      <td>9</td>\n",
       "      <td>2024</td>\n",
       "      <td>1726550178</td>\n",
       "      <td>68.409198</td>\n",
       "      <td>65.939319</td>\n",
       "      <td>66.567410</td>\n",
       "      <td>68.956722</td>\n",
       "      <td>64.805635</td>\n",
       "      <td>65.992526</td>\n",
       "      <td>...</td>\n",
       "      <td>San Diego</td>\n",
       "      <td>2.613629</td>\n",
       "      <td>72.463491</td>\n",
       "      <td>2.537413</td>\n",
       "      <td>0</td>\n",
       "      <td>9</td>\n",
       "      <td>Fall</td>\n",
       "      <td>Tuesday</td>\n",
       "      <td>False</td>\n",
       "      <td>9.118198</td>\n",
       "    </tr>\n",
       "    <tr>\n",
       "      <th>997</th>\n",
       "      <td>12</td>\n",
       "      <td>9</td>\n",
       "      <td>2024</td>\n",
       "      <td>1726121998</td>\n",
       "      <td>69.756690</td>\n",
       "      <td>65.286919</td>\n",
       "      <td>65.919492</td>\n",
       "      <td>68.158536</td>\n",
       "      <td>63.662942</td>\n",
       "      <td>67.313322</td>\n",
       "      <td>...</td>\n",
       "      <td>San Diego</td>\n",
       "      <td>4.598936</td>\n",
       "      <td>67.560060</td>\n",
       "      <td>3.595470</td>\n",
       "      <td>0</td>\n",
       "      <td>9</td>\n",
       "      <td>Fall</td>\n",
       "      <td>Thursday</td>\n",
       "      <td>False</td>\n",
       "      <td>9.880093</td>\n",
       "    </tr>\n",
       "    <tr>\n",
       "      <th>998</th>\n",
       "      <td>14</td>\n",
       "      <td>9</td>\n",
       "      <td>2024</td>\n",
       "      <td>1726283774</td>\n",
       "      <td>77.106797</td>\n",
       "      <td>61.481724</td>\n",
       "      <td>68.106569</td>\n",
       "      <td>76.426959</td>\n",
       "      <td>60.901526</td>\n",
       "      <td>68.094309</td>\n",
       "      <td>...</td>\n",
       "      <td>Los Angeles</td>\n",
       "      <td>15.477717</td>\n",
       "      <td>67.930437</td>\n",
       "      <td>3.498942</td>\n",
       "      <td>0</td>\n",
       "      <td>9</td>\n",
       "      <td>Fall</td>\n",
       "      <td>Saturday</td>\n",
       "      <td>True</td>\n",
       "      <td>9.561602</td>\n",
       "    </tr>\n",
       "    <tr>\n",
       "      <th>999</th>\n",
       "      <td>18</td>\n",
       "      <td>9</td>\n",
       "      <td>2024</td>\n",
       "      <td>1726618425</td>\n",
       "      <td>90.923080</td>\n",
       "      <td>79.296868</td>\n",
       "      <td>81.636991</td>\n",
       "      <td>94.180423</td>\n",
       "      <td>78.071851</td>\n",
       "      <td>84.987113</td>\n",
       "      <td>...</td>\n",
       "      <td>Houston</td>\n",
       "      <td>11.017871</td>\n",
       "      <td>86.802712</td>\n",
       "      <td>3.040020</td>\n",
       "      <td>0</td>\n",
       "      <td>9</td>\n",
       "      <td>Fall</td>\n",
       "      <td>Wednesday</td>\n",
       "      <td>False</td>\n",
       "      <td>10.978044</td>\n",
       "    </tr>\n",
       "  </tbody>\n",
       "</table>\n",
       "<p>1000 rows × 52 columns</p>\n",
       "</div>"
      ],
      "text/plain": [
       "     datetime  monthtime  yeartime  datetimeEpoch     tempmax    tempmin  \\\n",
       "0           7          9      2024     1725692400  106.100000  91.000000   \n",
       "1           8          9      2024     1725778800  103.900000  87.000000   \n",
       "2           9          9      2024     1725865200  105.000000  83.900000   \n",
       "3          10          9      2024     1725951600  106.100000  81.200000   \n",
       "4          11          9      2024     1726038000  106.100000  82.100000   \n",
       "..        ...        ...       ...            ...         ...        ...   \n",
       "995        18          9      2024     1726632592   76.060546  64.359387   \n",
       "996        17          9      2024     1726550178   68.409198  65.939319   \n",
       "997        12          9      2024     1726121998   69.756690  65.286919   \n",
       "998        14          9      2024     1726283774   77.106797  61.481724   \n",
       "999        18          9      2024     1726618425   90.923080  79.296868   \n",
       "\n",
       "          temp  feelslikemax  feelslikemin  feelslike  ...          City  \\\n",
       "0    98.500000    104.000000     88.100000  95.900000  ...       Phoenix   \n",
       "1    95.400000    100.500000     84.700000  92.300000  ...       Phoenix   \n",
       "2    94.700000     99.900000     81.600000  90.600000  ...       Phoenix   \n",
       "3    93.900000    100.600000     79.500000  89.800000  ...       Phoenix   \n",
       "4    94.000000    101.000000     80.000000  90.000000  ...       Phoenix   \n",
       "..         ...           ...           ...        ...  ...           ...   \n",
       "995  69.002142     77.673823     63.510920  67.003338  ...  Philadelphia   \n",
       "996  66.567410     68.956722     64.805635  65.992526  ...     San Diego   \n",
       "997  65.919492     68.158536     63.662942  67.313322  ...     San Diego   \n",
       "998  68.106569     76.426959     60.901526  68.094309  ...   Los Angeles   \n",
       "999  81.636991     94.180423     78.071851  84.987113  ...       Houston   \n",
       "\n",
       "     Temp_Range  Heat_Index  Severity_Score  Condition_Code Month  Season  \\\n",
       "0     15.100000   95.918703        4.430000               0     9    Fall   \n",
       "1     16.900000   92.281316        3.880000               0     9    Fall   \n",
       "2     21.100000   90.599165        3.630000               0     9    Fall   \n",
       "3     24.900000   89.638811        2.851200               0     9    Fall   \n",
       "4     24.000000   89.760414        3.390800               0     9    Fall   \n",
       "..          ...         ...             ...             ...   ...     ...   \n",
       "995   12.886665   71.837558        1.957318               0     9    Fall   \n",
       "996    2.613629   72.463491        2.537413               0     9    Fall   \n",
       "997    4.598936   67.560060        3.595470               0     9    Fall   \n",
       "998   15.477717   67.930437        3.498942               0     9    Fall   \n",
       "999   11.017871   86.802712        3.040020               0     9    Fall   \n",
       "\n",
       "     Day_of_Week  Is_Weekend  Health_Risk_Score  \n",
       "0       Saturday        True          10.522170  \n",
       "1         Sunday        True          10.062332  \n",
       "2         Monday       False           9.673387  \n",
       "3        Tuesday       False           9.411519  \n",
       "4      Wednesday       False           9.515179  \n",
       "..           ...         ...                ...  \n",
       "995    Wednesday       False           8.750142  \n",
       "996      Tuesday       False           9.118198  \n",
       "997     Thursday       False           9.880093  \n",
       "998     Saturday        True           9.561602  \n",
       "999    Wednesday       False          10.978044  \n",
       "\n",
       "[1000 rows x 52 columns]"
      ]
     },
     "execution_count": 181,
     "metadata": {},
     "output_type": "execute_result"
    }
   ],
   "source": [
    "df"
   ]
  },
  {
   "cell_type": "code",
   "execution_count": 182,
   "id": "c24e784c-e44f-4556-a7e3-5553afd0c003",
   "metadata": {},
   "outputs": [
    {
     "data": {
      "text/plain": [
       "(1000, 52)"
      ]
     },
     "execution_count": 182,
     "metadata": {},
     "output_type": "execute_result"
    }
   ],
   "source": [
    "df.shape"
   ]
  },
  {
   "cell_type": "code",
   "execution_count": 183,
   "id": "6b000258-9ffe-4297-92e1-87afc80abe2f",
   "metadata": {},
   "outputs": [
    {
     "data": {
      "text/plain": [
       "Index(['datetime', 'monthtime', 'yeartime', 'datetimeEpoch', 'tempmax',\n",
       "       'tempmin', 'temp', 'feelslikemax', 'feelslikemin', 'feelslike', 'dew',\n",
       "       'humidity', 'precip', 'precipprob', 'precipcover', 'preciptype', 'snow',\n",
       "       'snowdepth', 'windgust', 'windspeed', 'winddir', 'pressure',\n",
       "       'cloudcover', 'visibility', 'solarradiation', 'solarenergy', 'uvindex',\n",
       "       'severerisk', 'sunrisehour', 'sunriseminute', 'sunrisecond',\n",
       "       'sunriseEpoch', 'sunsethours', 'sunsetminutes', 'sunsetsecond',\n",
       "       'sunsetEpoch', 'moonphase', 'conditions', 'description', 'icon',\n",
       "       'stations', 'source', 'City', 'Temp_Range', 'Heat_Index',\n",
       "       'Severity_Score', 'Condition_Code', 'Month', 'Season', 'Day_of_Week',\n",
       "       'Is_Weekend', 'Health_Risk_Score'],\n",
       "      dtype='object')"
      ]
     },
     "execution_count": 183,
     "metadata": {},
     "output_type": "execute_result"
    }
   ],
   "source": [
    "df.columns"
   ]
  },
  {
   "cell_type": "code",
   "execution_count": 184,
   "id": "5401a78d-e81d-4948-b67e-aea4ea7f3e4b",
   "metadata": {},
   "outputs": [
    {
     "name": "stdout",
     "output_type": "stream",
     "text": [
      "<class 'pandas.core.frame.DataFrame'>\n",
      "RangeIndex: 1000 entries, 0 to 999\n",
      "Data columns (total 52 columns):\n",
      " #   Column             Non-Null Count  Dtype  \n",
      "---  ------             --------------  -----  \n",
      " 0   datetime           1000 non-null   int64  \n",
      " 1   monthtime          1000 non-null   int64  \n",
      " 2   yeartime           1000 non-null   int64  \n",
      " 3   datetimeEpoch      1000 non-null   int64  \n",
      " 4   tempmax            1000 non-null   float64\n",
      " 5   tempmin            1000 non-null   float64\n",
      " 6   temp               1000 non-null   float64\n",
      " 7   feelslikemax       1000 non-null   float64\n",
      " 8   feelslikemin       1000 non-null   float64\n",
      " 9   feelslike          1000 non-null   float64\n",
      " 10  dew                1000 non-null   float64\n",
      " 11  humidity           1000 non-null   float64\n",
      " 12  precip             1000 non-null   float64\n",
      " 13  precipprob         1000 non-null   float64\n",
      " 14  precipcover        1000 non-null   float64\n",
      " 15  preciptype         378 non-null    object \n",
      " 16  snow               1000 non-null   int64  \n",
      " 17  snowdepth          1000 non-null   int64  \n",
      " 18  windgust           1000 non-null   float64\n",
      " 19  windspeed          1000 non-null   float64\n",
      " 20  winddir            1000 non-null   float64\n",
      " 21  pressure           1000 non-null   float64\n",
      " 22  cloudcover         1000 non-null   float64\n",
      " 23  visibility         1000 non-null   float64\n",
      " 24  solarradiation     1000 non-null   float64\n",
      " 25  solarenergy        1000 non-null   float64\n",
      " 26  uvindex            1000 non-null   float64\n",
      " 27  severerisk         1000 non-null   float64\n",
      " 28  sunrisehour        1000 non-null   int64  \n",
      " 29  sunriseminute      1000 non-null   int64  \n",
      " 30  sunrisecond        1000 non-null   int64  \n",
      " 31  sunriseEpoch       1000 non-null   int64  \n",
      " 32  sunsethours        1000 non-null   int64  \n",
      " 33  sunsetminutes      1000 non-null   int64  \n",
      " 34  sunsetsecond       1000 non-null   int64  \n",
      " 35  sunsetEpoch        1000 non-null   int64  \n",
      " 36  moonphase          1000 non-null   float64\n",
      " 37  conditions         1000 non-null   object \n",
      " 38  description        1000 non-null   object \n",
      " 39  icon               1000 non-null   object \n",
      " 40  stations           1000 non-null   object \n",
      " 41  source             1000 non-null   object \n",
      " 42  City               1000 non-null   object \n",
      " 43  Temp_Range         1000 non-null   float64\n",
      " 44  Heat_Index         1000 non-null   float64\n",
      " 45  Severity_Score     1000 non-null   float64\n",
      " 46  Condition_Code     1000 non-null   int64  \n",
      " 47  Month              1000 non-null   int64  \n",
      " 48  Season             1000 non-null   object \n",
      " 49  Day_of_Week        1000 non-null   object \n",
      " 50  Is_Weekend         1000 non-null   bool   \n",
      " 51  Health_Risk_Score  1000 non-null   float64\n",
      "dtypes: bool(1), float64(26), int64(16), object(9)\n",
      "memory usage: 399.5+ KB\n"
     ]
    }
   ],
   "source": [
    "df.info()  #starting info "
   ]
  },
  {
   "cell_type": "code",
   "execution_count": 185,
   "id": "87d764f2-d3dc-4f83-bf3d-f95a4cdfc074",
   "metadata": {},
   "outputs": [
    {
     "data": {
      "text/plain": [
       "[0,\n",
       " 0,\n",
       " 0,\n",
       " 0,\n",
       " 0,\n",
       " 0,\n",
       " 0,\n",
       " 0,\n",
       " 0,\n",
       " 0,\n",
       " 0,\n",
       " 0,\n",
       " 0,\n",
       " 0,\n",
       " 0,\n",
       " 622,\n",
       " 0,\n",
       " 0,\n",
       " 0,\n",
       " 0,\n",
       " 0,\n",
       " 0,\n",
       " 0,\n",
       " 0,\n",
       " 0,\n",
       " 0,\n",
       " 0,\n",
       " 0,\n",
       " 0,\n",
       " 0,\n",
       " 0,\n",
       " 0,\n",
       " 0,\n",
       " 0,\n",
       " 0,\n",
       " 0,\n",
       " 0,\n",
       " 0,\n",
       " 0,\n",
       " 0,\n",
       " 0,\n",
       " 0,\n",
       " 0,\n",
       " 0,\n",
       " 0,\n",
       " 0,\n",
       " 0,\n",
       " 0,\n",
       " 0,\n",
       " 0,\n",
       " 0,\n",
       " 0]"
      ]
     },
     "execution_count": 185,
     "metadata": {},
     "output_type": "execute_result"
    }
   ],
   "source": [
    "df.isna().sum().to_list()  #before initialize"
   ]
  },
  {
   "cell_type": "code",
   "execution_count": 186,
   "id": "e115833c-956c-426b-94d8-26d28a7148a9",
   "metadata": {},
   "outputs": [],
   "source": [
    "# converted 0 to whole file \n",
    "df.replace({'NaN':0}, inplace=True)\n",
    "df=df.fillna(0)    #if where NaN ,0 values converted as 0 "
   ]
  },
  {
   "cell_type": "markdown",
   "id": "4a8244c5-ff08-4e4c-8fb3-c545fd9ddddb",
   "metadata": {},
   "source": [
    "### 3.1 datetime"
   ]
  },
  {
   "cell_type": "code",
   "execution_count": 187,
   "id": "26f5cb3d-e581-4e83-aaf3-fe4b89e4f6c5",
   "metadata": {},
   "outputs": [
    {
     "name": "stdout",
     "output_type": "stream",
     "text": [
      "<class 'pandas.core.series.Series'>\n",
      "RangeIndex: 1000 entries, 0 to 999\n",
      "Series name: datetime\n",
      "Non-Null Count  Dtype\n",
      "--------------  -----\n",
      "1000 non-null   int64\n",
      "dtypes: int64(1)\n",
      "memory usage: 7.9 KB\n"
     ]
    }
   ],
   "source": [
    "df['datetime'].info()"
   ]
  },
  {
   "cell_type": "code",
   "execution_count": 188,
   "id": "3db92275-e352-48ec-9664-0ba5c30ea929",
   "metadata": {},
   "outputs": [
    {
     "data": {
      "text/plain": [
       "{7: 47,\n",
       " 12: 47,\n",
       " 14: 46,\n",
       " 16: 44,\n",
       " 10: 43,\n",
       " 19: 42,\n",
       " 17: 42,\n",
       " 21: 42,\n",
       " 18: 41,\n",
       " 9: 41,\n",
       " 11: 41,\n",
       " 20: 40,\n",
       " 13: 39,\n",
       " 8: 38,\n",
       " 15: 37,\n",
       " 22: 24,\n",
       " 23: 24,\n",
       " 24: 24,\n",
       " 25: 24,\n",
       " 26: 24,\n",
       " 27: 24,\n",
       " 28: 24,\n",
       " 1: 24,\n",
       " 6: 24,\n",
       " 2: 24,\n",
       " 3: 24,\n",
       " 4: 24,\n",
       " 5: 24,\n",
       " 29: 22,\n",
       " 30: 22,\n",
       " 31: 14}"
      ]
     },
     "execution_count": 188,
     "metadata": {},
     "output_type": "execute_result"
    }
   ],
   "source": [
    "df['datetime'].value_counts().to_dict()"
   ]
  },
  {
   "cell_type": "markdown",
   "id": "5bb2be42-1936-4bf7-a33e-69394b0f6b96",
   "metadata": {},
   "source": [
    "### 3.1.b.monthtime "
   ]
  },
  {
   "cell_type": "code",
   "execution_count": 189,
   "id": "8462feac-b9a3-4625-adba-be5548c7eacd",
   "metadata": {},
   "outputs": [
    {
     "data": {
      "text/plain": [
       "monthtime\n",
       "9     330\n",
       "10     62\n",
       "12     62\n",
       "3      62\n",
       "7      62\n",
       "8      62\n",
       "5      62\n",
       "1      61\n",
       "11     60\n",
       "4      60\n",
       "6      60\n",
       "2      57\n",
       "Name: count, dtype: int64"
      ]
     },
     "execution_count": 189,
     "metadata": {},
     "output_type": "execute_result"
    }
   ],
   "source": [
    "df['monthtime'].value_counts()"
   ]
  },
  {
   "cell_type": "code",
   "execution_count": 190,
   "id": "3b43043c-959e-433a-b09b-38f57652ef8d",
   "metadata": {},
   "outputs": [
    {
     "name": "stdout",
     "output_type": "stream",
     "text": [
      "<class 'pandas.core.series.Series'>\n",
      "RangeIndex: 1000 entries, 0 to 999\n",
      "Series name: monthtime\n",
      "Non-Null Count  Dtype\n",
      "--------------  -----\n",
      "1000 non-null   int64\n",
      "dtypes: int64(1)\n",
      "memory usage: 7.9 KB\n"
     ]
    }
   ],
   "source": [
    "df['monthtime'].info()"
   ]
  },
  {
   "cell_type": "markdown",
   "id": "41b9ecdd-3f43-4248-9d28-455709b4a7f6",
   "metadata": {},
   "source": [
    "### 3.1 c.yeartime"
   ]
  },
  {
   "cell_type": "code",
   "execution_count": 191,
   "id": "9d85c133-972b-4b96-b1f4-c3a732dfb9b8",
   "metadata": {},
   "outputs": [
    {
     "data": {
      "text/plain": [
       "0      2024\n",
       "1      2024\n",
       "2      2024\n",
       "3      2024\n",
       "4      2024\n",
       "       ... \n",
       "995    2024\n",
       "996    2024\n",
       "997    2024\n",
       "998    2024\n",
       "999    2024\n",
       "Name: yeartime, Length: 1000, dtype: int64"
      ]
     },
     "execution_count": 191,
     "metadata": {},
     "output_type": "execute_result"
    }
   ],
   "source": [
    "df['yeartime']"
   ]
  },
  {
   "cell_type": "code",
   "execution_count": 192,
   "id": "0ca920d4-87e0-472d-91c0-faa93db80a60",
   "metadata": {},
   "outputs": [
    {
     "name": "stdout",
     "output_type": "stream",
     "text": [
      "<class 'pandas.core.series.Series'>\n",
      "RangeIndex: 1000 entries, 0 to 999\n",
      "Series name: yeartime\n",
      "Non-Null Count  Dtype\n",
      "--------------  -----\n",
      "1000 non-null   int64\n",
      "dtypes: int64(1)\n",
      "memory usage: 7.9 KB\n"
     ]
    }
   ],
   "source": [
    "df['yeartime'].info()"
   ]
  },
  {
   "cell_type": "markdown",
   "id": "8948c982-92fa-4414-8c4e-890cc0539599",
   "metadata": {},
   "source": [
    "### 3.2 datetimeEpoch"
   ]
  },
  {
   "cell_type": "code",
   "execution_count": 193,
   "id": "95da0703-1ec4-4df1-a488-ef32b157228c",
   "metadata": {},
   "outputs": [
    {
     "data": {
      "text/html": [
       "<div>\n",
       "<style scoped>\n",
       "    .dataframe tbody tr th:only-of-type {\n",
       "        vertical-align: middle;\n",
       "    }\n",
       "\n",
       "    .dataframe tbody tr th {\n",
       "        vertical-align: top;\n",
       "    }\n",
       "\n",
       "    .dataframe thead th {\n",
       "        text-align: right;\n",
       "    }\n",
       "</style>\n",
       "<table border=\"1\" class=\"dataframe\">\n",
       "  <thead>\n",
       "    <tr style=\"text-align: right;\">\n",
       "      <th></th>\n",
       "      <th>monthtime</th>\n",
       "      <th>yeartime</th>\n",
       "      <th>datetimeEpoch</th>\n",
       "      <th>tempmax</th>\n",
       "      <th>tempmin</th>\n",
       "      <th>temp</th>\n",
       "      <th>feelslikemax</th>\n",
       "      <th>feelslikemin</th>\n",
       "      <th>feelslike</th>\n",
       "      <th>dew</th>\n",
       "      <th>...</th>\n",
       "      <th>datetime_22</th>\n",
       "      <th>datetime_23</th>\n",
       "      <th>datetime_24</th>\n",
       "      <th>datetime_25</th>\n",
       "      <th>datetime_26</th>\n",
       "      <th>datetime_27</th>\n",
       "      <th>datetime_28</th>\n",
       "      <th>datetime_29</th>\n",
       "      <th>datetime_30</th>\n",
       "      <th>datetime_31</th>\n",
       "    </tr>\n",
       "  </thead>\n",
       "  <tbody>\n",
       "    <tr>\n",
       "      <th>0</th>\n",
       "      <td>9</td>\n",
       "      <td>2024</td>\n",
       "      <td>1725692400</td>\n",
       "      <td>106.100000</td>\n",
       "      <td>91.000000</td>\n",
       "      <td>98.500000</td>\n",
       "      <td>104.000000</td>\n",
       "      <td>88.100000</td>\n",
       "      <td>95.900000</td>\n",
       "      <td>51.500000</td>\n",
       "      <td>...</td>\n",
       "      <td>0</td>\n",
       "      <td>0</td>\n",
       "      <td>0</td>\n",
       "      <td>0</td>\n",
       "      <td>0</td>\n",
       "      <td>0</td>\n",
       "      <td>0</td>\n",
       "      <td>0</td>\n",
       "      <td>0</td>\n",
       "      <td>0</td>\n",
       "    </tr>\n",
       "    <tr>\n",
       "      <th>1</th>\n",
       "      <td>9</td>\n",
       "      <td>2024</td>\n",
       "      <td>1725778800</td>\n",
       "      <td>103.900000</td>\n",
       "      <td>87.000000</td>\n",
       "      <td>95.400000</td>\n",
       "      <td>100.500000</td>\n",
       "      <td>84.700000</td>\n",
       "      <td>92.300000</td>\n",
       "      <td>48.700000</td>\n",
       "      <td>...</td>\n",
       "      <td>0</td>\n",
       "      <td>0</td>\n",
       "      <td>0</td>\n",
       "      <td>0</td>\n",
       "      <td>0</td>\n",
       "      <td>0</td>\n",
       "      <td>0</td>\n",
       "      <td>0</td>\n",
       "      <td>0</td>\n",
       "      <td>0</td>\n",
       "    </tr>\n",
       "    <tr>\n",
       "      <th>2</th>\n",
       "      <td>9</td>\n",
       "      <td>2024</td>\n",
       "      <td>1725865200</td>\n",
       "      <td>105.000000</td>\n",
       "      <td>83.900000</td>\n",
       "      <td>94.700000</td>\n",
       "      <td>99.900000</td>\n",
       "      <td>81.600000</td>\n",
       "      <td>90.600000</td>\n",
       "      <td>41.700000</td>\n",
       "      <td>...</td>\n",
       "      <td>0</td>\n",
       "      <td>0</td>\n",
       "      <td>0</td>\n",
       "      <td>0</td>\n",
       "      <td>0</td>\n",
       "      <td>0</td>\n",
       "      <td>0</td>\n",
       "      <td>0</td>\n",
       "      <td>0</td>\n",
       "      <td>0</td>\n",
       "    </tr>\n",
       "    <tr>\n",
       "      <th>3</th>\n",
       "      <td>9</td>\n",
       "      <td>2024</td>\n",
       "      <td>1725951600</td>\n",
       "      <td>106.100000</td>\n",
       "      <td>81.200000</td>\n",
       "      <td>93.900000</td>\n",
       "      <td>100.600000</td>\n",
       "      <td>79.500000</td>\n",
       "      <td>89.800000</td>\n",
       "      <td>39.100000</td>\n",
       "      <td>...</td>\n",
       "      <td>0</td>\n",
       "      <td>0</td>\n",
       "      <td>0</td>\n",
       "      <td>0</td>\n",
       "      <td>0</td>\n",
       "      <td>0</td>\n",
       "      <td>0</td>\n",
       "      <td>0</td>\n",
       "      <td>0</td>\n",
       "      <td>0</td>\n",
       "    </tr>\n",
       "    <tr>\n",
       "      <th>4</th>\n",
       "      <td>9</td>\n",
       "      <td>2024</td>\n",
       "      <td>1726038000</td>\n",
       "      <td>106.100000</td>\n",
       "      <td>82.100000</td>\n",
       "      <td>94.000000</td>\n",
       "      <td>101.000000</td>\n",
       "      <td>80.000000</td>\n",
       "      <td>90.000000</td>\n",
       "      <td>40.100000</td>\n",
       "      <td>...</td>\n",
       "      <td>0</td>\n",
       "      <td>0</td>\n",
       "      <td>0</td>\n",
       "      <td>0</td>\n",
       "      <td>0</td>\n",
       "      <td>0</td>\n",
       "      <td>0</td>\n",
       "      <td>0</td>\n",
       "      <td>0</td>\n",
       "      <td>0</td>\n",
       "    </tr>\n",
       "    <tr>\n",
       "      <th>...</th>\n",
       "      <td>...</td>\n",
       "      <td>...</td>\n",
       "      <td>...</td>\n",
       "      <td>...</td>\n",
       "      <td>...</td>\n",
       "      <td>...</td>\n",
       "      <td>...</td>\n",
       "      <td>...</td>\n",
       "      <td>...</td>\n",
       "      <td>...</td>\n",
       "      <td>...</td>\n",
       "      <td>...</td>\n",
       "      <td>...</td>\n",
       "      <td>...</td>\n",
       "      <td>...</td>\n",
       "      <td>...</td>\n",
       "      <td>...</td>\n",
       "      <td>...</td>\n",
       "      <td>...</td>\n",
       "      <td>...</td>\n",
       "      <td>...</td>\n",
       "    </tr>\n",
       "    <tr>\n",
       "      <th>995</th>\n",
       "      <td>9</td>\n",
       "      <td>2024</td>\n",
       "      <td>1726632592</td>\n",
       "      <td>76.060546</td>\n",
       "      <td>64.359387</td>\n",
       "      <td>69.002142</td>\n",
       "      <td>77.673823</td>\n",
       "      <td>63.510920</td>\n",
       "      <td>67.003338</td>\n",
       "      <td>59.936776</td>\n",
       "      <td>...</td>\n",
       "      <td>0</td>\n",
       "      <td>0</td>\n",
       "      <td>0</td>\n",
       "      <td>0</td>\n",
       "      <td>0</td>\n",
       "      <td>0</td>\n",
       "      <td>0</td>\n",
       "      <td>0</td>\n",
       "      <td>0</td>\n",
       "      <td>0</td>\n",
       "    </tr>\n",
       "    <tr>\n",
       "      <th>996</th>\n",
       "      <td>9</td>\n",
       "      <td>2024</td>\n",
       "      <td>1726550178</td>\n",
       "      <td>68.409198</td>\n",
       "      <td>65.939319</td>\n",
       "      <td>66.567410</td>\n",
       "      <td>68.956722</td>\n",
       "      <td>64.805635</td>\n",
       "      <td>65.992526</td>\n",
       "      <td>59.010257</td>\n",
       "      <td>...</td>\n",
       "      <td>0</td>\n",
       "      <td>0</td>\n",
       "      <td>0</td>\n",
       "      <td>0</td>\n",
       "      <td>0</td>\n",
       "      <td>0</td>\n",
       "      <td>0</td>\n",
       "      <td>0</td>\n",
       "      <td>0</td>\n",
       "      <td>0</td>\n",
       "    </tr>\n",
       "    <tr>\n",
       "      <th>997</th>\n",
       "      <td>9</td>\n",
       "      <td>2024</td>\n",
       "      <td>1726121998</td>\n",
       "      <td>69.756690</td>\n",
       "      <td>65.286919</td>\n",
       "      <td>65.919492</td>\n",
       "      <td>68.158536</td>\n",
       "      <td>63.662942</td>\n",
       "      <td>67.313322</td>\n",
       "      <td>62.024442</td>\n",
       "      <td>...</td>\n",
       "      <td>0</td>\n",
       "      <td>0</td>\n",
       "      <td>0</td>\n",
       "      <td>0</td>\n",
       "      <td>0</td>\n",
       "      <td>0</td>\n",
       "      <td>0</td>\n",
       "      <td>0</td>\n",
       "      <td>0</td>\n",
       "      <td>0</td>\n",
       "    </tr>\n",
       "    <tr>\n",
       "      <th>998</th>\n",
       "      <td>9</td>\n",
       "      <td>2024</td>\n",
       "      <td>1726283774</td>\n",
       "      <td>77.106797</td>\n",
       "      <td>61.481724</td>\n",
       "      <td>68.106569</td>\n",
       "      <td>76.426959</td>\n",
       "      <td>60.901526</td>\n",
       "      <td>68.094309</td>\n",
       "      <td>63.169608</td>\n",
       "      <td>...</td>\n",
       "      <td>0</td>\n",
       "      <td>0</td>\n",
       "      <td>0</td>\n",
       "      <td>0</td>\n",
       "      <td>0</td>\n",
       "      <td>0</td>\n",
       "      <td>0</td>\n",
       "      <td>0</td>\n",
       "      <td>0</td>\n",
       "      <td>0</td>\n",
       "    </tr>\n",
       "    <tr>\n",
       "      <th>999</th>\n",
       "      <td>9</td>\n",
       "      <td>2024</td>\n",
       "      <td>1726618425</td>\n",
       "      <td>90.923080</td>\n",
       "      <td>79.296868</td>\n",
       "      <td>81.636991</td>\n",
       "      <td>94.180423</td>\n",
       "      <td>78.071851</td>\n",
       "      <td>84.987113</td>\n",
       "      <td>73.393045</td>\n",
       "      <td>...</td>\n",
       "      <td>0</td>\n",
       "      <td>0</td>\n",
       "      <td>0</td>\n",
       "      <td>0</td>\n",
       "      <td>0</td>\n",
       "      <td>0</td>\n",
       "      <td>0</td>\n",
       "      <td>0</td>\n",
       "      <td>0</td>\n",
       "      <td>0</td>\n",
       "    </tr>\n",
       "  </tbody>\n",
       "</table>\n",
       "<p>1000 rows × 82 columns</p>\n",
       "</div>"
      ],
      "text/plain": [
       "     monthtime  yeartime  datetimeEpoch     tempmax    tempmin       temp  \\\n",
       "0            9      2024     1725692400  106.100000  91.000000  98.500000   \n",
       "1            9      2024     1725778800  103.900000  87.000000  95.400000   \n",
       "2            9      2024     1725865200  105.000000  83.900000  94.700000   \n",
       "3            9      2024     1725951600  106.100000  81.200000  93.900000   \n",
       "4            9      2024     1726038000  106.100000  82.100000  94.000000   \n",
       "..         ...       ...            ...         ...        ...        ...   \n",
       "995          9      2024     1726632592   76.060546  64.359387  69.002142   \n",
       "996          9      2024     1726550178   68.409198  65.939319  66.567410   \n",
       "997          9      2024     1726121998   69.756690  65.286919  65.919492   \n",
       "998          9      2024     1726283774   77.106797  61.481724  68.106569   \n",
       "999          9      2024     1726618425   90.923080  79.296868  81.636991   \n",
       "\n",
       "     feelslikemax  feelslikemin  feelslike        dew  ...  datetime_22  \\\n",
       "0      104.000000     88.100000  95.900000  51.500000  ...            0   \n",
       "1      100.500000     84.700000  92.300000  48.700000  ...            0   \n",
       "2       99.900000     81.600000  90.600000  41.700000  ...            0   \n",
       "3      100.600000     79.500000  89.800000  39.100000  ...            0   \n",
       "4      101.000000     80.000000  90.000000  40.100000  ...            0   \n",
       "..            ...           ...        ...        ...  ...          ...   \n",
       "995     77.673823     63.510920  67.003338  59.936776  ...            0   \n",
       "996     68.956722     64.805635  65.992526  59.010257  ...            0   \n",
       "997     68.158536     63.662942  67.313322  62.024442  ...            0   \n",
       "998     76.426959     60.901526  68.094309  63.169608  ...            0   \n",
       "999     94.180423     78.071851  84.987113  73.393045  ...            0   \n",
       "\n",
       "     datetime_23  datetime_24  datetime_25 datetime_26  datetime_27  \\\n",
       "0              0            0            0           0            0   \n",
       "1              0            0            0           0            0   \n",
       "2              0            0            0           0            0   \n",
       "3              0            0            0           0            0   \n",
       "4              0            0            0           0            0   \n",
       "..           ...          ...          ...         ...          ...   \n",
       "995            0            0            0           0            0   \n",
       "996            0            0            0           0            0   \n",
       "997            0            0            0           0            0   \n",
       "998            0            0            0           0            0   \n",
       "999            0            0            0           0            0   \n",
       "\n",
       "     datetime_28  datetime_29  datetime_30  datetime_31  \n",
       "0              0            0            0            0  \n",
       "1              0            0            0            0  \n",
       "2              0            0            0            0  \n",
       "3              0            0            0            0  \n",
       "4              0            0            0            0  \n",
       "..           ...          ...          ...          ...  \n",
       "995            0            0            0            0  \n",
       "996            0            0            0            0  \n",
       "997            0            0            0            0  \n",
       "998            0            0            0            0  \n",
       "999            0            0            0            0  \n",
       "\n",
       "[1000 rows x 82 columns]"
      ]
     },
     "execution_count": 193,
     "metadata": {},
     "output_type": "execute_result"
    }
   ],
   "source": [
    "df=pd.get_dummies(df, columns=['datetime'], dtype=int)\n",
    "df"
   ]
  },
  {
   "cell_type": "code",
   "execution_count": 194,
   "id": "d3b4fc87-6862-44cb-8f8b-11a62f057a36",
   "metadata": {},
   "outputs": [
    {
     "data": {
      "text/plain": [
       "0      1725692400\n",
       "1      1725778800\n",
       "2      1725865200\n",
       "3      1725951600\n",
       "4      1726038000\n",
       "          ...    \n",
       "995    1726632592\n",
       "996    1726550178\n",
       "997    1726121998\n",
       "998    1726283774\n",
       "999    1726618425\n",
       "Name: datetimeEpoch, Length: 1000, dtype: int64"
      ]
     },
     "execution_count": 194,
     "metadata": {},
     "output_type": "execute_result"
    }
   ],
   "source": [
    "df['datetimeEpoch']"
   ]
  },
  {
   "cell_type": "code",
   "execution_count": 195,
   "id": "18c8d4ae-c25e-4e47-aa41-a5989f5b7b54",
   "metadata": {},
   "outputs": [
    {
     "data": {
      "text/plain": [
       "datetimeEpoch\n",
       "1725951600    4\n",
       "1726038000    4\n",
       "1726124400    4\n",
       "1726210800    4\n",
       "1726297200    4\n",
       "             ..\n",
       "1726632592    1\n",
       "1726550178    1\n",
       "1726121998    1\n",
       "1726283774    1\n",
       "1725861115    1\n",
       "Name: count, Length: 895, dtype: int64"
      ]
     },
     "execution_count": 195,
     "metadata": {},
     "output_type": "execute_result"
    }
   ],
   "source": [
    "df['datetimeEpoch'].value_counts()"
   ]
  },
  {
   "cell_type": "code",
   "execution_count": 196,
   "id": "11e729b4-9330-41ef-9aaa-52ee32be9dd9",
   "metadata": {},
   "outputs": [
    {
     "name": "stdout",
     "output_type": "stream",
     "text": [
      "<class 'pandas.core.series.Series'>\n",
      "RangeIndex: 1000 entries, 0 to 999\n",
      "Series name: datetimeEpoch\n",
      "Non-Null Count  Dtype\n",
      "--------------  -----\n",
      "1000 non-null   int64\n",
      "dtypes: int64(1)\n",
      "memory usage: 7.9 KB\n"
     ]
    }
   ],
   "source": [
    "df['datetimeEpoch'].info()"
   ]
  },
  {
   "cell_type": "markdown",
   "id": "34335714-8f9c-4268-af49-0cd9c143dbd5",
   "metadata": {},
   "source": [
    "### 3.3 tempmax "
   ]
  },
  {
   "cell_type": "code",
   "execution_count": 197,
   "id": "cb44e03c-366e-4d7a-b416-dc582c28cfc8",
   "metadata": {},
   "outputs": [
    {
     "data": {
      "text/plain": [
       "0      106.100000\n",
       "1      103.900000\n",
       "2      105.000000\n",
       "3      106.100000\n",
       "4      106.100000\n",
       "          ...    \n",
       "995     76.060546\n",
       "996     68.409198\n",
       "997     69.756690\n",
       "998     77.106797\n",
       "999     90.923080\n",
       "Name: tempmax, Length: 1000, dtype: float64"
      ]
     },
     "execution_count": 197,
     "metadata": {},
     "output_type": "execute_result"
    }
   ],
   "source": [
    "df['tempmax']"
   ]
  },
  {
   "cell_type": "code",
   "execution_count": 198,
   "id": "4fa478dc-9494-4fe6-8452-d4901d6ea14b",
   "metadata": {},
   "outputs": [
    {
     "data": {
      "text/plain": [
       "tempmax\n",
       "85.900000    7\n",
       "88.100000    4\n",
       "82.300000    3\n",
       "85.000000    3\n",
       "79.200000    3\n",
       "            ..\n",
       "76.060546    1\n",
       "68.409198    1\n",
       "69.756690    1\n",
       "77.106797    1\n",
       "68.012769    1\n",
       "Name: count, Length: 951, dtype: int64"
      ]
     },
     "execution_count": 198,
     "metadata": {},
     "output_type": "execute_result"
    }
   ],
   "source": [
    "df['tempmax'].value_counts()"
   ]
  },
  {
   "cell_type": "code",
   "execution_count": 199,
   "id": "1e70d503-3a0b-4eef-b4fe-540afd658154",
   "metadata": {},
   "outputs": [
    {
     "name": "stdout",
     "output_type": "stream",
     "text": [
      "<class 'pandas.core.series.Series'>\n",
      "RangeIndex: 1000 entries, 0 to 999\n",
      "Series name: tempmax\n",
      "Non-Null Count  Dtype  \n",
      "--------------  -----  \n",
      "1000 non-null   float64\n",
      "dtypes: float64(1)\n",
      "memory usage: 7.9 KB\n"
     ]
    }
   ],
   "source": [
    "df['tempmax'].info()"
   ]
  },
  {
   "cell_type": "markdown",
   "id": "76854c92-9254-454f-bed0-62df150e4598",
   "metadata": {},
   "source": [
    "### 3.4 tempmin "
   ]
  },
  {
   "cell_type": "code",
   "execution_count": 200,
   "id": "0c2a24b1-fc16-4cd1-8c33-326dcf07367c",
   "metadata": {},
   "outputs": [
    {
     "data": {
      "text/plain": [
       "0      91.000000\n",
       "1      87.000000\n",
       "2      83.900000\n",
       "3      81.200000\n",
       "4      82.100000\n",
       "         ...    \n",
       "995    64.359387\n",
       "996    65.939319\n",
       "997    65.286919\n",
       "998    61.481724\n",
       "999    79.296868\n",
       "Name: tempmin, Length: 1000, dtype: float64"
      ]
     },
     "execution_count": 200,
     "metadata": {},
     "output_type": "execute_result"
    }
   ],
   "source": [
    "df['tempmin']"
   ]
  },
  {
   "cell_type": "code",
   "execution_count": 201,
   "id": "14e952a4-76e3-41cf-8bf6-9ae7f07ca75c",
   "metadata": {},
   "outputs": [
    {
     "data": {
      "text/plain": [
       "tempmin\n",
       "57.600000    4\n",
       "65.200000    4\n",
       "61.800000    3\n",
       "77.400000    3\n",
       "67.400000    3\n",
       "            ..\n",
       "64.359387    1\n",
       "65.939319    1\n",
       "65.286919    1\n",
       "61.481724    1\n",
       "87.000000    1\n",
       "Name: count, Length: 948, dtype: int64"
      ]
     },
     "execution_count": 201,
     "metadata": {},
     "output_type": "execute_result"
    }
   ],
   "source": [
    "df['tempmin'].value_counts()"
   ]
  },
  {
   "cell_type": "code",
   "execution_count": 202,
   "id": "4577d1ed-5bfc-4af5-ac07-19bcd15bf733",
   "metadata": {},
   "outputs": [
    {
     "name": "stdout",
     "output_type": "stream",
     "text": [
      "<class 'pandas.core.series.Series'>\n",
      "RangeIndex: 1000 entries, 0 to 999\n",
      "Series name: tempmin\n",
      "Non-Null Count  Dtype  \n",
      "--------------  -----  \n",
      "1000 non-null   float64\n",
      "dtypes: float64(1)\n",
      "memory usage: 7.9 KB\n"
     ]
    }
   ],
   "source": [
    "df['tempmin'].info()"
   ]
  },
  {
   "cell_type": "markdown",
   "id": "bc46c053-2863-43d7-aaa8-40d2ad345f56",
   "metadata": {},
   "source": [
    "### 3.5 temp\n",
    " "
   ]
  },
  {
   "cell_type": "code",
   "execution_count": 203,
   "id": "f5f1b892-0daf-4cd5-86e7-ffb038ae7219",
   "metadata": {},
   "outputs": [
    {
     "data": {
      "text/plain": [
       "0      98.500000\n",
       "1      95.400000\n",
       "2      94.700000\n",
       "3      93.900000\n",
       "4      94.000000\n",
       "         ...    \n",
       "995    69.002142\n",
       "996    66.567410\n",
       "997    65.919492\n",
       "998    68.106569\n",
       "999    81.636991\n",
       "Name: temp, Length: 1000, dtype: float64"
      ]
     },
     "execution_count": 203,
     "metadata": {},
     "output_type": "execute_result"
    }
   ],
   "source": [
    "df['temp']"
   ]
  },
  {
   "cell_type": "code",
   "execution_count": 204,
   "id": "2d3a23b8-dc38-4b4c-bb05-60d3b2044260",
   "metadata": {},
   "outputs": [
    {
     "data": {
      "text/plain": [
       "temp\n",
       "67.100000    4\n",
       "68.500000    3\n",
       "73.600000    3\n",
       "89.100000    3\n",
       "67.400000    3\n",
       "            ..\n",
       "69.002142    1\n",
       "66.567410    1\n",
       "65.919492    1\n",
       "68.106569    1\n",
       "72.265782    1\n",
       "Name: count, Length: 970, dtype: int64"
      ]
     },
     "execution_count": 204,
     "metadata": {},
     "output_type": "execute_result"
    }
   ],
   "source": [
    "df['temp'].value_counts()\n"
   ]
  },
  {
   "cell_type": "code",
   "execution_count": 205,
   "id": "635c9b51-c300-4a82-9896-36e71b885ad6",
   "metadata": {},
   "outputs": [
    {
     "name": "stdout",
     "output_type": "stream",
     "text": [
      "<class 'pandas.core.series.Series'>\n",
      "RangeIndex: 1000 entries, 0 to 999\n",
      "Series name: temp\n",
      "Non-Null Count  Dtype  \n",
      "--------------  -----  \n",
      "1000 non-null   float64\n",
      "dtypes: float64(1)\n",
      "memory usage: 7.9 KB\n"
     ]
    }
   ],
   "source": [
    "df['temp'].info()"
   ]
  },
  {
   "cell_type": "markdown",
   "id": "5c594f36-44e4-48cd-a3b2-ea083d35bf26",
   "metadata": {},
   "source": [
    "### 3.6 feelslikemax \n"
   ]
  },
  {
   "cell_type": "code",
   "execution_count": 206,
   "id": "8cd0bb46-3742-46ed-850a-c628b8c343d1",
   "metadata": {},
   "outputs": [
    {
     "data": {
      "text/plain": [
       "0      104.000000\n",
       "1      100.500000\n",
       "2       99.900000\n",
       "3      100.600000\n",
       "4      101.000000\n",
       "          ...    \n",
       "995     77.673823\n",
       "996     68.956722\n",
       "997     68.158536\n",
       "998     76.426959\n",
       "999     94.180423\n",
       "Name: feelslikemax, Length: 1000, dtype: float64"
      ]
     },
     "execution_count": 206,
     "metadata": {},
     "output_type": "execute_result"
    }
   ],
   "source": [
    "df['feelslikemax']"
   ]
  },
  {
   "cell_type": "code",
   "execution_count": 207,
   "id": "b9d3bcb9-9fe9-4f5d-b23e-f5912b92a8c4",
   "metadata": {},
   "outputs": [
    {
     "data": {
      "text/plain": [
       "feelslikemax\n",
       "81.100000     4\n",
       "99.900000     3\n",
       "100.600000    3\n",
       "85.700000     3\n",
       "94.400000     3\n",
       "             ..\n",
       "77.673823     1\n",
       "68.956722     1\n",
       "68.158536     1\n",
       "76.426959     1\n",
       "84.646755     1\n",
       "Name: count, Length: 962, dtype: int64"
      ]
     },
     "execution_count": 207,
     "metadata": {},
     "output_type": "execute_result"
    }
   ],
   "source": [
    "df['feelslikemax'].value_counts()"
   ]
  },
  {
   "cell_type": "code",
   "execution_count": 208,
   "id": "d3992209-3a06-4220-8bc4-b1b36af6719e",
   "metadata": {},
   "outputs": [
    {
     "name": "stdout",
     "output_type": "stream",
     "text": [
      "<class 'pandas.core.series.Series'>\n",
      "RangeIndex: 1000 entries, 0 to 999\n",
      "Series name: feelslikemax\n",
      "Non-Null Count  Dtype  \n",
      "--------------  -----  \n",
      "1000 non-null   float64\n",
      "dtypes: float64(1)\n",
      "memory usage: 7.9 KB\n"
     ]
    }
   ],
   "source": [
    "df['feelslikemax'].info()"
   ]
  },
  {
   "cell_type": "markdown",
   "id": "c67abe15-2394-44c1-ad55-2315a551ded9",
   "metadata": {},
   "source": [
    "### 3.7 feelslikemin"
   ]
  },
  {
   "cell_type": "code",
   "execution_count": 209,
   "id": "19d14e31-88c1-4720-b670-fb85e731a738",
   "metadata": {},
   "outputs": [
    {
     "data": {
      "text/plain": [
       "0      88.100000\n",
       "1      84.700000\n",
       "2      81.600000\n",
       "3      79.500000\n",
       "4      80.000000\n",
       "         ...    \n",
       "995    63.510920\n",
       "996    64.805635\n",
       "997    63.662942\n",
       "998    60.901526\n",
       "999    78.071851\n",
       "Name: feelslikemin, Length: 1000, dtype: float64"
      ]
     },
     "execution_count": 209,
     "metadata": {},
     "output_type": "execute_result"
    }
   ],
   "source": [
    "df['feelslikemin']"
   ]
  },
  {
   "cell_type": "code",
   "execution_count": 210,
   "id": "9fcda48d-7851-42b9-9fe5-b0fb8f8433db",
   "metadata": {},
   "outputs": [
    {
     "data": {
      "text/plain": [
       "feelslikemin\n",
       "57.600000    4\n",
       "65.200000    4\n",
       "60.000000    3\n",
       "77.400000    3\n",
       "61.800000    3\n",
       "            ..\n",
       "63.510920    1\n",
       "64.805635    1\n",
       "63.662942    1\n",
       "60.901526    1\n",
       "64.650420    1\n",
       "Name: count, Length: 951, dtype: int64"
      ]
     },
     "execution_count": 210,
     "metadata": {},
     "output_type": "execute_result"
    }
   ],
   "source": [
    "df['feelslikemin'].value_counts()"
   ]
  },
  {
   "cell_type": "code",
   "execution_count": 211,
   "id": "6d441855-ace8-4088-8269-277031d1eefe",
   "metadata": {},
   "outputs": [
    {
     "name": "stdout",
     "output_type": "stream",
     "text": [
      "<class 'pandas.core.series.Series'>\n",
      "RangeIndex: 1000 entries, 0 to 999\n",
      "Series name: feelslikemin\n",
      "Non-Null Count  Dtype  \n",
      "--------------  -----  \n",
      "1000 non-null   float64\n",
      "dtypes: float64(1)\n",
      "memory usage: 7.9 KB\n"
     ]
    }
   ],
   "source": [
    "df['feelslikemin'].info()"
   ]
  },
  {
   "cell_type": "markdown",
   "id": "4c905d75-49e8-444b-b504-bf9e38ebde90",
   "metadata": {},
   "source": [
    "### 3.8 feelslike \n"
   ]
  },
  {
   "cell_type": "code",
   "execution_count": 212,
   "id": "fcd0212f-c3f0-4622-892e-b3a651909108",
   "metadata": {},
   "outputs": [
    {
     "data": {
      "text/plain": [
       "0      95.900000\n",
       "1      92.300000\n",
       "2      90.600000\n",
       "3      89.800000\n",
       "4      90.000000\n",
       "         ...    \n",
       "995    67.003338\n",
       "996    65.992526\n",
       "997    67.313322\n",
       "998    68.094309\n",
       "999    84.987113\n",
       "Name: feelslike, Length: 1000, dtype: float64"
      ]
     },
     "execution_count": 212,
     "metadata": {},
     "output_type": "execute_result"
    }
   ],
   "source": [
    "df['feelslike']"
   ]
  },
  {
   "cell_type": "code",
   "execution_count": 213,
   "id": "287eba0c-e6fb-4bb8-a9d8-d0d94c434488",
   "metadata": {},
   "outputs": [
    {
     "data": {
      "text/plain": [
       "feelslike\n",
       "66.500000    3\n",
       "67.100000    3\n",
       "86.700000    3\n",
       "67.400000    3\n",
       "78.900000    3\n",
       "            ..\n",
       "67.003338    1\n",
       "65.992526    1\n",
       "67.313322    1\n",
       "68.094309    1\n",
       "84.400000    1\n",
       "Name: count, Length: 971, dtype: int64"
      ]
     },
     "execution_count": 213,
     "metadata": {},
     "output_type": "execute_result"
    }
   ],
   "source": [
    "df['feelslike'].value_counts()"
   ]
  },
  {
   "cell_type": "code",
   "execution_count": 214,
   "id": "3f5f73fd-fab8-4e97-b1dc-15d2731d9cb3",
   "metadata": {},
   "outputs": [
    {
     "name": "stdout",
     "output_type": "stream",
     "text": [
      "<class 'pandas.core.series.Series'>\n",
      "RangeIndex: 1000 entries, 0 to 999\n",
      "Series name: feelslike\n",
      "Non-Null Count  Dtype  \n",
      "--------------  -----  \n",
      "1000 non-null   float64\n",
      "dtypes: float64(1)\n",
      "memory usage: 7.9 KB\n"
     ]
    }
   ],
   "source": [
    "df['feelslike'].info()"
   ]
  },
  {
   "cell_type": "markdown",
   "id": "0b2a1149-62c3-481d-bcf3-4874c5cf77c8",
   "metadata": {},
   "source": [
    "### 3.9 dew \n"
   ]
  },
  {
   "cell_type": "code",
   "execution_count": 215,
   "id": "5986cf06-fe5e-478e-9f99-34d05c531423",
   "metadata": {},
   "outputs": [
    {
     "data": {
      "text/plain": [
       "0      51.500000\n",
       "1      48.700000\n",
       "2      41.700000\n",
       "3      39.100000\n",
       "4      40.100000\n",
       "         ...    \n",
       "995    59.936776\n",
       "996    59.010257\n",
       "997    62.024442\n",
       "998    63.169608\n",
       "999    73.393045\n",
       "Name: dew, Length: 1000, dtype: float64"
      ]
     },
     "execution_count": 215,
     "metadata": {},
     "output_type": "execute_result"
    }
   ],
   "source": [
    "df['dew']"
   ]
  },
  {
   "cell_type": "code",
   "execution_count": 216,
   "id": "17dccd0b-0218-4de3-a95b-6f7e022ef3c7",
   "metadata": {},
   "outputs": [
    {
     "data": {
      "text/plain": [
       "dew\n",
       "59.900000    4\n",
       "62.500000    3\n",
       "51.500000    2\n",
       "46.600000    2\n",
       "70.800000    2\n",
       "            ..\n",
       "59.936776    1\n",
       "59.010257    1\n",
       "62.024442    1\n",
       "63.169608    1\n",
       "73.393045    1\n",
       "Name: count, Length: 972, dtype: int64"
      ]
     },
     "execution_count": 216,
     "metadata": {},
     "output_type": "execute_result"
    }
   ],
   "source": [
    "df['dew'].value_counts()"
   ]
  },
  {
   "cell_type": "code",
   "execution_count": 217,
   "id": "f7268f4a-b6d6-4d33-be44-2f62405b0cbb",
   "metadata": {},
   "outputs": [
    {
     "name": "stdout",
     "output_type": "stream",
     "text": [
      "<class 'pandas.core.series.Series'>\n",
      "RangeIndex: 1000 entries, 0 to 999\n",
      "Series name: dew\n",
      "Non-Null Count  Dtype  \n",
      "--------------  -----  \n",
      "1000 non-null   float64\n",
      "dtypes: float64(1)\n",
      "memory usage: 7.9 KB\n"
     ]
    }
   ],
   "source": [
    "df['dew'].info()"
   ]
  },
  {
   "cell_type": "markdown",
   "id": "f1416bf3-821a-4ba7-9def-0fe88c1a0931",
   "metadata": {},
   "source": [
    "### 3.10  humidity \n"
   ]
  },
  {
   "cell_type": "code",
   "execution_count": 218,
   "id": "f83cbc30-c20b-40f9-8d28-1c02eeeca2fd",
   "metadata": {},
   "outputs": [
    {
     "data": {
      "text/plain": [
       "0      21.000000\n",
       "1      21.500000\n",
       "2      16.900000\n",
       "3      15.700000\n",
       "4      15.900000\n",
       "         ...    \n",
       "995    73.189130\n",
       "996    74.137401\n",
       "997    84.650482\n",
       "998    86.860261\n",
       "999    74.734715\n",
       "Name: humidity, Length: 1000, dtype: float64"
      ]
     },
     "execution_count": 218,
     "metadata": {},
     "output_type": "execute_result"
    }
   ],
   "source": [
    "df['humidity']"
   ]
  },
  {
   "cell_type": "code",
   "execution_count": 219,
   "id": "35cfbda3-3e4d-4704-b8a9-cf8217eebbbb",
   "metadata": {},
   "outputs": [
    {
     "data": {
      "text/plain": [
       "humidity\n",
       "64.200000    3\n",
       "47.600000    3\n",
       "66.300000    3\n",
       "60.800000    2\n",
       "68.300000    2\n",
       "            ..\n",
       "73.189130    1\n",
       "74.137401    1\n",
       "84.650482    1\n",
       "86.860261    1\n",
       "58.147634    1\n",
       "Name: count, Length: 978, dtype: int64"
      ]
     },
     "execution_count": 219,
     "metadata": {},
     "output_type": "execute_result"
    }
   ],
   "source": [
    "df['humidity'].value_counts()"
   ]
  },
  {
   "cell_type": "code",
   "execution_count": 220,
   "id": "5cadb175-480f-4465-8b91-3e9621b6980c",
   "metadata": {},
   "outputs": [
    {
     "name": "stdout",
     "output_type": "stream",
     "text": [
      "<class 'pandas.core.series.Series'>\n",
      "RangeIndex: 1000 entries, 0 to 999\n",
      "Series name: humidity\n",
      "Non-Null Count  Dtype  \n",
      "--------------  -----  \n",
      "1000 non-null   float64\n",
      "dtypes: float64(1)\n",
      "memory usage: 7.9 KB\n"
     ]
    }
   ],
   "source": [
    "df['humidity'].info()"
   ]
  },
  {
   "cell_type": "markdown",
   "id": "7ef38447-5c8e-4d7a-b686-27620d43e1ae",
   "metadata": {},
   "source": [
    "### 3.11  precip \n"
   ]
  },
  {
   "cell_type": "code",
   "execution_count": 221,
   "id": "bed22c14-1a7b-4042-8b17-43acf08972f4",
   "metadata": {},
   "outputs": [
    {
     "data": {
      "text/plain": [
       "0      0.000000\n",
       "1      0.000000\n",
       "2      0.000000\n",
       "3      0.012000\n",
       "4      0.008000\n",
       "         ...   \n",
       "995    0.084660\n",
       "996    0.019847\n",
       "997   -0.010133\n",
       "998   -0.002440\n",
       "999    0.151615\n",
       "Name: precip, Length: 1000, dtype: float64"
      ]
     },
     "execution_count": 221,
     "metadata": {},
     "output_type": "execute_result"
    }
   ],
   "source": [
    "df['precip']"
   ]
  },
  {
   "cell_type": "code",
   "execution_count": 222,
   "id": "56f1c87a-aa08-4615-8c8f-63119c0558bb",
   "metadata": {},
   "outputs": [
    {
     "data": {
      "text/plain": [
       "precip\n",
       " 0.000000    93\n",
       " 0.012000     9\n",
       " 0.004000     8\n",
       " 0.008000     5\n",
       " 0.028000     2\n",
       "             ..\n",
       " 0.084660     1\n",
       " 0.019847     1\n",
       "-0.010133     1\n",
       "-0.002440     1\n",
       " 0.230363     1\n",
       "Name: count, Length: 885, dtype: int64"
      ]
     },
     "execution_count": 222,
     "metadata": {},
     "output_type": "execute_result"
    }
   ],
   "source": [
    "df['precip'].value_counts()"
   ]
  },
  {
   "cell_type": "code",
   "execution_count": 223,
   "id": "47a4c9b3-a02b-449e-b451-7f686113659f",
   "metadata": {},
   "outputs": [
    {
     "name": "stdout",
     "output_type": "stream",
     "text": [
      "<class 'pandas.core.series.Series'>\n",
      "RangeIndex: 1000 entries, 0 to 999\n",
      "Series name: precip\n",
      "Non-Null Count  Dtype  \n",
      "--------------  -----  \n",
      "1000 non-null   float64\n",
      "dtypes: float64(1)\n",
      "memory usage: 7.9 KB\n"
     ]
    }
   ],
   "source": [
    "df['precip'].info()"
   ]
  },
  {
   "cell_type": "markdown",
   "id": "903a46a6-1d5a-428a-a3dd-259d4c38350e",
   "metadata": {},
   "source": [
    "###  3.12  precipprob  \n"
   ]
  },
  {
   "cell_type": "code",
   "execution_count": 224,
   "id": "3e616daf-08dd-4013-8c04-7f0418e94807",
   "metadata": {},
   "outputs": [
    {
     "data": {
      "text/plain": [
       "0       5.000000\n",
       "1       3.000000\n",
       "2       0.000000\n",
       "3       0.000000\n",
       "4       0.000000\n",
       "         ...    \n",
       "995    30.567091\n",
       "996     6.993677\n",
       "997     7.672519\n",
       "998     0.986966\n",
       "999    32.112070\n",
       "Name: precipprob, Length: 1000, dtype: float64"
      ]
     },
     "execution_count": 224,
     "metadata": {},
     "output_type": "execute_result"
    }
   ],
   "source": [
    "df['precipprob']"
   ]
  },
  {
   "cell_type": "code",
   "execution_count": 225,
   "id": "90b079db-6faa-45ef-84e6-c272f56de913",
   "metadata": {},
   "outputs": [
    {
     "data": {
      "text/plain": [
       "precipprob\n",
       " 0.000000     34\n",
       " 1.000000     10\n",
       " 3.200000      9\n",
       " 19.400000     7\n",
       " 9.700000      7\n",
       "              ..\n",
       " 30.567091     1\n",
       " 6.993677      1\n",
       " 7.672519      1\n",
       " 0.986966      1\n",
       "-1.001043      1\n",
       "Name: count, Length: 890, dtype: int64"
      ]
     },
     "execution_count": 225,
     "metadata": {},
     "output_type": "execute_result"
    }
   ],
   "source": [
    "df['precipprob'].value_counts()"
   ]
  },
  {
   "cell_type": "code",
   "execution_count": 226,
   "id": "6096b4e5-680e-4a4b-9e1b-221388672479",
   "metadata": {},
   "outputs": [
    {
     "name": "stdout",
     "output_type": "stream",
     "text": [
      "<class 'pandas.core.series.Series'>\n",
      "RangeIndex: 1000 entries, 0 to 999\n",
      "Series name: precipprob\n",
      "Non-Null Count  Dtype  \n",
      "--------------  -----  \n",
      "1000 non-null   float64\n",
      "dtypes: float64(1)\n",
      "memory usage: 7.9 KB\n"
     ]
    }
   ],
   "source": [
    "df['precipprob'].info()"
   ]
  },
  {
   "cell_type": "markdown",
   "id": "19e77b8e-8b7f-4291-b915-00dd2f7638dc",
   "metadata": {},
   "source": [
    "### 3.13 precipcover"
   ]
  },
  {
   "cell_type": "code",
   "execution_count": 227,
   "id": "d2fa0e5e-6f11-42da-bf0e-5a2643a3fa74",
   "metadata": {},
   "outputs": [
    {
     "data": {
      "text/plain": [
       "0      0.000000\n",
       "1      0.000000\n",
       "2      0.000000\n",
       "3      4.170000\n",
       "4      4.170000\n",
       "         ...   \n",
       "995    3.481763\n",
       "996    4.239994\n",
       "997    0.024863\n",
       "998    0.132825\n",
       "999    4.673090\n",
       "Name: precipcover, Length: 1000, dtype: float64"
      ]
     },
     "execution_count": 227,
     "metadata": {},
     "output_type": "execute_result"
    }
   ],
   "source": [
    "df['precipcover']"
   ]
  },
  {
   "cell_type": "code",
   "execution_count": 228,
   "id": "d08b1030-18eb-4c2f-900d-e2b43e6ea050",
   "metadata": {},
   "outputs": [
    {
     "data": {
      "text/plain": [
       "precipcover\n",
       " 0.000000     93\n",
       " 4.170000     35\n",
       " 8.330000      6\n",
       " 12.500000     5\n",
       " 20.830000     5\n",
       "              ..\n",
       " 3.481763      1\n",
       " 4.239994      1\n",
       " 0.024863      1\n",
       " 0.132825      1\n",
       "-0.508699      1\n",
       "Name: count, Length: 857, dtype: int64"
      ]
     },
     "execution_count": 228,
     "metadata": {},
     "output_type": "execute_result"
    }
   ],
   "source": [
    "df['precipcover'].value_counts()"
   ]
  },
  {
   "cell_type": "code",
   "execution_count": 229,
   "id": "134b3820-6901-40a7-a029-7931f9cfb256",
   "metadata": {},
   "outputs": [
    {
     "name": "stdout",
     "output_type": "stream",
     "text": [
      "<class 'pandas.core.series.Series'>\n",
      "RangeIndex: 1000 entries, 0 to 999\n",
      "Series name: precipcover\n",
      "Non-Null Count  Dtype  \n",
      "--------------  -----  \n",
      "1000 non-null   float64\n",
      "dtypes: float64(1)\n",
      "memory usage: 7.9 KB\n"
     ]
    }
   ],
   "source": [
    "df['precipcover'].info()"
   ]
  },
  {
   "cell_type": "markdown",
   "id": "14148157-72dd-40f2-a01c-a6644160dca7",
   "metadata": {},
   "source": [
    "### 3.14 preciptype"
   ]
  },
  {
   "cell_type": "code",
   "execution_count": 230,
   "id": "b641a26c-2d7e-4b27-bb6e-ab1db84a4ad2",
   "metadata": {},
   "outputs": [
    {
     "name": "stdout",
     "output_type": "stream",
     "text": [
      "<class 'pandas.core.series.Series'>\n",
      "RangeIndex: 1000 entries, 0 to 999\n",
      "Series name: preciptype\n",
      "Non-Null Count  Dtype \n",
      "--------------  ----- \n",
      "1000 non-null   object\n",
      "dtypes: object(1)\n",
      "memory usage: 7.9+ KB\n"
     ]
    }
   ],
   "source": [
    "df['preciptype'].info()"
   ]
  },
  {
   "cell_type": "code",
   "execution_count": 231,
   "id": "29e6b4b3-79e6-422c-ab88-eb2d7af6773c",
   "metadata": {},
   "outputs": [
    {
     "data": {
      "text/plain": [
       "{0: 622, 'rain': 378}"
      ]
     },
     "execution_count": 231,
     "metadata": {},
     "output_type": "execute_result"
    }
   ],
   "source": [
    "df['preciptype'].value_counts().to_dict()"
   ]
  },
  {
   "cell_type": "code",
   "execution_count": 232,
   "id": "18b7bba6-0239-4298-b34d-1b8efadf035a",
   "metadata": {},
   "outputs": [],
   "source": [
    "df['preciptype'].replace({'rain': 1}, inplace=True)\n"
   ]
  },
  {
   "cell_type": "code",
   "execution_count": 233,
   "id": "ca4b6543-2db2-4aad-968a-ff53500764f8",
   "metadata": {},
   "outputs": [
    {
     "data": {
      "text/plain": [
       "0      0\n",
       "1      0\n",
       "2      0\n",
       "3      1\n",
       "4      1\n",
       "      ..\n",
       "995    1\n",
       "996    1\n",
       "997    0\n",
       "998    0\n",
       "999    1\n",
       "Name: preciptype, Length: 1000, dtype: int64"
      ]
     },
     "execution_count": 233,
     "metadata": {},
     "output_type": "execute_result"
    }
   ],
   "source": [
    "df['preciptype']"
   ]
  },
  {
   "cell_type": "markdown",
   "id": "772217ac-85e8-4828-8c38-66af872d87c3",
   "metadata": {},
   "source": [
    "### 3.15 snow \n"
   ]
  },
  {
   "cell_type": "raw",
   "id": "be2a5e38-12ba-42e1-b582-8851ec7ea315",
   "metadata": {},
   "source": [
    "df['snow']"
   ]
  },
  {
   "cell_type": "raw",
   "id": "a0b92ff0-2b49-4efc-b568-fce927228d4c",
   "metadata": {},
   "source": [
    "df['snow'].value_counts()\n"
   ]
  },
  {
   "cell_type": "raw",
   "id": "f353c56a-28ca-49d4-962b-63411f97dca3",
   "metadata": {},
   "source": [
    "df['snow'].info()"
   ]
  },
  {
   "cell_type": "markdown",
   "id": "18dfea4a-5716-48f3-b728-d2fd2cdc20a6",
   "metadata": {},
   "source": [
    "### 3.16 snowdepth\n"
   ]
  },
  {
   "cell_type": "raw",
   "id": "291088b9-4b83-4ee2-8d78-c9c9ae8e44b1",
   "metadata": {},
   "source": [
    "df['snowdepth']"
   ]
  },
  {
   "cell_type": "raw",
   "id": "0bb68a34-91f6-4d7d-b964-6d80c24567f4",
   "metadata": {},
   "source": [
    "df['snowdepth'].value_counts()"
   ]
  },
  {
   "cell_type": "raw",
   "id": "37ba109c-848f-4faf-94b1-2202bfed5c5c",
   "metadata": {},
   "source": [
    "df['snowdepth'].info()"
   ]
  },
  {
   "cell_type": "markdown",
   "id": "032c3069-6789-4e09-a63c-6451ff80bf72",
   "metadata": {},
   "source": [
    "### 3.17 windgust   \n"
   ]
  },
  {
   "cell_type": "code",
   "execution_count": 234,
   "id": "e29a2a04-44ff-4b63-94c9-dc279a37a162",
   "metadata": {},
   "outputs": [
    {
     "data": {
      "text/plain": [
       "0      26.300000\n",
       "1      20.800000\n",
       "2      18.300000\n",
       "3      10.500000\n",
       "4      15.900000\n",
       "         ...    \n",
       "995    13.864632\n",
       "996     6.233441\n",
       "997    17.387860\n",
       "998    15.748270\n",
       "999    16.615351\n",
       "Name: windgust, Length: 1000, dtype: float64"
      ]
     },
     "execution_count": 234,
     "metadata": {},
     "output_type": "execute_result"
    }
   ],
   "source": [
    "df['windgust']"
   ]
  },
  {
   "cell_type": "code",
   "execution_count": 235,
   "id": "d710bcf9-3907-4711-82e7-550f07269900",
   "metadata": {},
   "outputs": [
    {
     "data": {
      "text/plain": [
       "windgust\n",
       "16.600000    6\n",
       "16.100000    6\n",
       "14.300000    5\n",
       "12.100000    5\n",
       "14.100000    5\n",
       "            ..\n",
       "13.864632    1\n",
       "6.233441     1\n",
       "17.387860    1\n",
       "15.748270    1\n",
       "7.768596     1\n",
       "Name: count, Length: 914, dtype: int64"
      ]
     },
     "execution_count": 235,
     "metadata": {},
     "output_type": "execute_result"
    }
   ],
   "source": [
    "df['windgust'].value_counts()"
   ]
  },
  {
   "cell_type": "code",
   "execution_count": 236,
   "id": "cfe5c368-69cb-4124-a370-2d8d1f6b5c82",
   "metadata": {},
   "outputs": [
    {
     "name": "stdout",
     "output_type": "stream",
     "text": [
      "<class 'pandas.core.series.Series'>\n",
      "RangeIndex: 1000 entries, 0 to 999\n",
      "Series name: windgust\n",
      "Non-Null Count  Dtype  \n",
      "--------------  -----  \n",
      "1000 non-null   float64\n",
      "dtypes: float64(1)\n",
      "memory usage: 7.9 KB\n"
     ]
    }
   ],
   "source": [
    "df['windgust'].info()"
   ]
  },
  {
   "cell_type": "markdown",
   "id": "c6795717-e918-4d10-b0f5-176b60e79d17",
   "metadata": {},
   "source": [
    "### 3.18 windspeed  \n"
   ]
  },
  {
   "cell_type": "code",
   "execution_count": 237,
   "id": "203e2d7c-2c28-433b-8aef-7181c2d1214f",
   "metadata": {},
   "outputs": [
    {
     "data": {
      "text/plain": [
       "0      13.700000\n",
       "1      12.800000\n",
       "2      10.300000\n",
       "3       5.400000\n",
       "4       8.100000\n",
       "         ...    \n",
       "995     7.435891\n",
       "996     8.930235\n",
       "997    11.082903\n",
       "998     8.028200\n",
       "999    10.479637\n",
       "Name: windspeed, Length: 1000, dtype: float64"
      ]
     },
     "execution_count": 237,
     "metadata": {},
     "output_type": "execute_result"
    }
   ],
   "source": [
    "df['windspeed']"
   ]
  },
  {
   "cell_type": "code",
   "execution_count": 238,
   "id": "5f40def5-d207-4061-b2db-ea368f9d6a11",
   "metadata": {},
   "outputs": [
    {
     "data": {
      "text/plain": [
       "windspeed\n",
       "10.700000    12\n",
       "10.300000    11\n",
       "9.200000     11\n",
       "8.100000     10\n",
       "9.400000      7\n",
       "             ..\n",
       "7.435891      1\n",
       "8.930235      1\n",
       "11.082903     1\n",
       "8.028200      1\n",
       "9.456217      1\n",
       "Name: count, Length: 891, dtype: int64"
      ]
     },
     "execution_count": 238,
     "metadata": {},
     "output_type": "execute_result"
    }
   ],
   "source": [
    "df['windspeed'].value_counts()"
   ]
  },
  {
   "cell_type": "code",
   "execution_count": 239,
   "id": "be7a1045-514c-40d3-a53d-0885d478244c",
   "metadata": {},
   "outputs": [
    {
     "name": "stdout",
     "output_type": "stream",
     "text": [
      "<class 'pandas.core.series.Series'>\n",
      "RangeIndex: 1000 entries, 0 to 999\n",
      "Series name: windspeed\n",
      "Non-Null Count  Dtype  \n",
      "--------------  -----  \n",
      "1000 non-null   float64\n",
      "dtypes: float64(1)\n",
      "memory usage: 7.9 KB\n"
     ]
    }
   ],
   "source": [
    "df['windspeed'].info()"
   ]
  },
  {
   "cell_type": "markdown",
   "id": "f6559b84-4321-4587-a505-ff648228e0a4",
   "metadata": {},
   "source": [
    "### 3.19 winddir   \n"
   ]
  },
  {
   "cell_type": "code",
   "execution_count": 240,
   "id": "b6706fa1-08aa-4cbf-b91d-d9e88db1b6c5",
   "metadata": {},
   "outputs": [
    {
     "data": {
      "text/plain": [
       "0      107.300000\n",
       "1      101.500000\n",
       "2       90.800000\n",
       "3      130.100000\n",
       "4      201.600000\n",
       "          ...    \n",
       "995     51.161203\n",
       "996    274.833365\n",
       "997    196.361692\n",
       "998    219.739970\n",
       "999    104.043357\n",
       "Name: winddir, Length: 1000, dtype: float64"
      ]
     },
     "execution_count": 240,
     "metadata": {},
     "output_type": "execute_result"
    }
   ],
   "source": [
    "df['winddir']"
   ]
  },
  {
   "cell_type": "code",
   "execution_count": 241,
   "id": "fc5b125d-421b-4180-bd59-5763cba3436c",
   "metadata": {},
   "outputs": [
    {
     "data": {
      "text/plain": [
       "winddir\n",
       "107.300000    2\n",
       "269.100000    2\n",
       "287.500000    2\n",
       "92.600000     2\n",
       "90.800000     1\n",
       "             ..\n",
       "51.161203     1\n",
       "274.833365    1\n",
       "196.361692    1\n",
       "219.739970    1\n",
       "101.500000    1\n",
       "Name: count, Length: 996, dtype: int64"
      ]
     },
     "execution_count": 241,
     "metadata": {},
     "output_type": "execute_result"
    }
   ],
   "source": [
    "df['winddir'].value_counts()"
   ]
  },
  {
   "cell_type": "code",
   "execution_count": 242,
   "id": "e9ecce14-2431-4840-9946-b5471fe11e14",
   "metadata": {},
   "outputs": [
    {
     "name": "stdout",
     "output_type": "stream",
     "text": [
      "<class 'pandas.core.series.Series'>\n",
      "RangeIndex: 1000 entries, 0 to 999\n",
      "Series name: winddir\n",
      "Non-Null Count  Dtype  \n",
      "--------------  -----  \n",
      "1000 non-null   float64\n",
      "dtypes: float64(1)\n",
      "memory usage: 7.9 KB\n"
     ]
    }
   ],
   "source": [
    "df['winddir'].info()"
   ]
  },
  {
   "cell_type": "markdown",
   "id": "0550d378-2d41-426d-bf88-153297fa3f74",
   "metadata": {},
   "source": [
    "### 3.20 pressure \n"
   ]
  },
  {
   "cell_type": "code",
   "execution_count": 243,
   "id": "a16a19dd-59d3-42c9-9ead-533e04a24306",
   "metadata": {},
   "outputs": [
    {
     "data": {
      "text/plain": [
       "0      1009.200000\n",
       "1      1008.800000\n",
       "2      1009.400000\n",
       "3      1006.800000\n",
       "4      1001.800000\n",
       "          ...     \n",
       "995    1023.284477\n",
       "996    1010.512503\n",
       "997    1005.594740\n",
       "998    1011.230055\n",
       "999    1012.507597\n",
       "Name: pressure, Length: 1000, dtype: float64"
      ]
     },
     "execution_count": 243,
     "metadata": {},
     "output_type": "execute_result"
    }
   ],
   "source": [
    "df['pressure']"
   ]
  },
  {
   "cell_type": "code",
   "execution_count": 244,
   "id": "0e43aaca-8b7f-48f3-be33-0dd604e2d952",
   "metadata": {},
   "outputs": [
    {
     "data": {
      "text/plain": [
       "pressure\n",
       "1011.900000    5\n",
       "1012.500000    5\n",
       "1010.800000    4\n",
       "1012.800000    4\n",
       "1011.600000    4\n",
       "              ..\n",
       "1023.284477    1\n",
       "1010.512503    1\n",
       "1005.594740    1\n",
       "1011.230055    1\n",
       "1009.100000    1\n",
       "Name: count, Length: 952, dtype: int64"
      ]
     },
     "execution_count": 244,
     "metadata": {},
     "output_type": "execute_result"
    }
   ],
   "source": [
    "df['pressure'].value_counts()"
   ]
  },
  {
   "cell_type": "code",
   "execution_count": 245,
   "id": "74434baa-5352-4543-ac64-8c371b6f1151",
   "metadata": {},
   "outputs": [
    {
     "name": "stdout",
     "output_type": "stream",
     "text": [
      "<class 'pandas.core.series.Series'>\n",
      "RangeIndex: 1000 entries, 0 to 999\n",
      "Series name: pressure\n",
      "Non-Null Count  Dtype  \n",
      "--------------  -----  \n",
      "1000 non-null   float64\n",
      "dtypes: float64(1)\n",
      "memory usage: 7.9 KB\n"
     ]
    }
   ],
   "source": [
    "df['pressure'].info()"
   ]
  },
  {
   "cell_type": "markdown",
   "id": "74fa2f83-77a0-4ec4-9ac2-63bebd759fd8",
   "metadata": {},
   "source": [
    "### 3.21 cloudcover  "
   ]
  },
  {
   "cell_type": "code",
   "execution_count": 246,
   "id": "8e2cc97e-6ba2-4282-b1a7-286cc7914aaa",
   "metadata": {},
   "outputs": [
    {
     "data": {
      "text/plain": [
       "0      25.000000\n",
       "1      13.500000\n",
       "2       6.200000\n",
       "3       4.900000\n",
       "4       5.700000\n",
       "         ...    \n",
       "995    80.512769\n",
       "996    14.852611\n",
       "997    46.721861\n",
       "998    12.583793\n",
       "999    17.313763\n",
       "Name: cloudcover, Length: 1000, dtype: float64"
      ]
     },
     "execution_count": 246,
     "metadata": {},
     "output_type": "execute_result"
    }
   ],
   "source": [
    "df['cloudcover']"
   ]
  },
  {
   "cell_type": "code",
   "execution_count": 247,
   "id": "25043f83-49a7-4890-a261-9a99d4df4886",
   "metadata": {},
   "outputs": [
    {
     "data": {
      "text/plain": [
       "cloudcover\n",
       "1.800000     3\n",
       "17.300000    2\n",
       "14.200000    2\n",
       "16.400000    2\n",
       "8.900000     2\n",
       "            ..\n",
       "80.512769    1\n",
       "14.852611    1\n",
       "46.721861    1\n",
       "12.583793    1\n",
       "4.000000     1\n",
       "Name: count, Length: 982, dtype: int64"
      ]
     },
     "execution_count": 247,
     "metadata": {},
     "output_type": "execute_result"
    }
   ],
   "source": [
    "df['cloudcover'].value_counts()"
   ]
  },
  {
   "cell_type": "code",
   "execution_count": 248,
   "id": "55a1c46c-0661-4c57-a9ec-91d71a9a6673",
   "metadata": {},
   "outputs": [
    {
     "name": "stdout",
     "output_type": "stream",
     "text": [
      "<class 'pandas.core.series.Series'>\n",
      "RangeIndex: 1000 entries, 0 to 999\n",
      "Series name: cloudcover\n",
      "Non-Null Count  Dtype  \n",
      "--------------  -----  \n",
      "1000 non-null   float64\n",
      "dtypes: float64(1)\n",
      "memory usage: 7.9 KB\n"
     ]
    }
   ],
   "source": [
    "df['cloudcover'].info()"
   ]
  },
  {
   "cell_type": "markdown",
   "id": "1060c211-a2b2-491e-9185-5ecbbc83beb2",
   "metadata": {},
   "source": [
    "### 3.22 visibility  \n"
   ]
  },
  {
   "cell_type": "code",
   "execution_count": 249,
   "id": "94b55656-fc33-40be-8f99-f216b7306e32",
   "metadata": {},
   "outputs": [
    {
     "data": {
      "text/plain": [
       "0      10.000000\n",
       "1      10.100000\n",
       "2      10.100000\n",
       "3      12.500000\n",
       "4      15.000000\n",
       "         ...    \n",
       "995    14.696976\n",
       "996    15.092663\n",
       "997    14.909931\n",
       "998    15.052399\n",
       "999    15.178379\n",
       "Name: visibility, Length: 1000, dtype: float64"
      ]
     },
     "execution_count": 249,
     "metadata": {},
     "output_type": "execute_result"
    }
   ],
   "source": [
    "df['visibility']"
   ]
  },
  {
   "cell_type": "code",
   "execution_count": 250,
   "id": "c123185d-8674-4ea1-a3eb-1f4b83657d2b",
   "metadata": {},
   "outputs": [
    {
     "data": {
      "text/plain": [
       "visibility\n",
       "15.000000    95\n",
       "10.100000    16\n",
       "14.900000     8\n",
       "10.000000     7\n",
       "12.100000     4\n",
       "             ..\n",
       "14.696976     1\n",
       "15.092663     1\n",
       "14.909931     1\n",
       "15.052399     1\n",
       "14.916703     1\n",
       "Name: count, Length: 868, dtype: int64"
      ]
     },
     "execution_count": 250,
     "metadata": {},
     "output_type": "execute_result"
    }
   ],
   "source": [
    "df['visibility'].value_counts()"
   ]
  },
  {
   "cell_type": "code",
   "execution_count": 251,
   "id": "9d202ae2-b374-4360-aff5-33b4eec90d15",
   "metadata": {},
   "outputs": [
    {
     "name": "stdout",
     "output_type": "stream",
     "text": [
      "<class 'pandas.core.series.Series'>\n",
      "RangeIndex: 1000 entries, 0 to 999\n",
      "Series name: visibility\n",
      "Non-Null Count  Dtype  \n",
      "--------------  -----  \n",
      "1000 non-null   float64\n",
      "dtypes: float64(1)\n",
      "memory usage: 7.9 KB\n"
     ]
    }
   ],
   "source": [
    "df['visibility'].info()"
   ]
  },
  {
   "cell_type": "markdown",
   "id": "9914072d-2e4b-4157-b7b4-30a45f3ba949",
   "metadata": {},
   "source": [
    "### 3.23 solarradiation \n"
   ]
  },
  {
   "cell_type": "code",
   "execution_count": 252,
   "id": "50128968-9020-474a-85b0-8ef3528803fb",
   "metadata": {},
   "outputs": [
    {
     "data": {
      "text/plain": [
       "0      261.400000\n",
       "1      293.300000\n",
       "2      327.000000\n",
       "3      276.800000\n",
       "4      274.900000\n",
       "          ...    \n",
       "995     71.458332\n",
       "996    282.751283\n",
       "997    272.043693\n",
       "998    271.006885\n",
       "999    245.190433\n",
       "Name: solarradiation, Length: 1000, dtype: float64"
      ]
     },
     "execution_count": 252,
     "metadata": {},
     "output_type": "execute_result"
    }
   ],
   "source": [
    "df['solarradiation']"
   ]
  },
  {
   "cell_type": "code",
   "execution_count": 253,
   "id": "a6512aa2-051f-4131-9c32-3d1b9b78bf97",
   "metadata": {},
   "outputs": [
    {
     "data": {
      "text/plain": [
       "solarradiation\n",
       "245.300000    3\n",
       "265.300000    3\n",
       "269.300000    3\n",
       "267.700000    2\n",
       "274.700000    2\n",
       "             ..\n",
       "71.458332     1\n",
       "282.751283    1\n",
       "272.043693    1\n",
       "271.006885    1\n",
       "327.000000    1\n",
       "Name: count, Length: 991, dtype: int64"
      ]
     },
     "execution_count": 253,
     "metadata": {},
     "output_type": "execute_result"
    }
   ],
   "source": [
    "df['solarradiation'].value_counts()"
   ]
  },
  {
   "cell_type": "code",
   "execution_count": 254,
   "id": "6dae1f1b-9bc5-47ec-b79d-7f4ef7ef32d3",
   "metadata": {},
   "outputs": [
    {
     "name": "stdout",
     "output_type": "stream",
     "text": [
      "<class 'pandas.core.series.Series'>\n",
      "RangeIndex: 1000 entries, 0 to 999\n",
      "Series name: solarradiation\n",
      "Non-Null Count  Dtype  \n",
      "--------------  -----  \n",
      "1000 non-null   float64\n",
      "dtypes: float64(1)\n",
      "memory usage: 7.9 KB\n"
     ]
    }
   ],
   "source": [
    "df['solarradiation'].info()"
   ]
  },
  {
   "cell_type": "markdown",
   "id": "7d1f19b1-0b44-4ff1-8a9b-2b2a6ce9cdb1",
   "metadata": {},
   "source": [
    "### 3.24 solarenergy   \n"
   ]
  },
  {
   "cell_type": "code",
   "execution_count": 255,
   "id": "3fff0c4d-a545-4356-ba4f-1718360464d3",
   "metadata": {},
   "outputs": [
    {
     "data": {
      "text/plain": [
       "0      22.500000\n",
       "1      25.200000\n",
       "2      28.200000\n",
       "3      24.000000\n",
       "4      23.700000\n",
       "         ...    \n",
       "995     6.994928\n",
       "996    22.619979\n",
       "997    23.830479\n",
       "998    22.746818\n",
       "999    20.839690\n",
       "Name: solarenergy, Length: 1000, dtype: float64"
      ]
     },
     "execution_count": 255,
     "metadata": {},
     "output_type": "execute_result"
    }
   ],
   "source": [
    "df['solarenergy']"
   ]
  },
  {
   "cell_type": "code",
   "execution_count": 256,
   "id": "f3f6dacf-d5cd-40cb-a37f-66fdff6a2c9d",
   "metadata": {},
   "outputs": [
    {
     "data": {
      "text/plain": [
       "solarenergy\n",
       "23.100000    7\n",
       "23.300000    7\n",
       "22.500000    5\n",
       "22.600000    5\n",
       "21.300000    5\n",
       "            ..\n",
       "6.994928     1\n",
       "22.619979    1\n",
       "23.830479    1\n",
       "22.746818    1\n",
       "25.200000    1\n",
       "Name: count, Length: 932, dtype: int64"
      ]
     },
     "execution_count": 256,
     "metadata": {},
     "output_type": "execute_result"
    }
   ],
   "source": [
    "df['solarenergy'].value_counts()"
   ]
  },
  {
   "cell_type": "code",
   "execution_count": 257,
   "id": "440e9893-69fe-4fb6-b075-29d5d87465f4",
   "metadata": {},
   "outputs": [
    {
     "name": "stdout",
     "output_type": "stream",
     "text": [
      "<class 'pandas.core.series.Series'>\n",
      "RangeIndex: 1000 entries, 0 to 999\n",
      "Series name: solarenergy\n",
      "Non-Null Count  Dtype  \n",
      "--------------  -----  \n",
      "1000 non-null   float64\n",
      "dtypes: float64(1)\n",
      "memory usage: 7.9 KB\n"
     ]
    }
   ],
   "source": [
    "df['solarenergy'].info()"
   ]
  },
  {
   "cell_type": "markdown",
   "id": "1f05e85a-df62-4cc2-9006-bfa644559277",
   "metadata": {},
   "source": [
    "### 3.25 uvindex\n",
    " "
   ]
  },
  {
   "cell_type": "code",
   "execution_count": 258,
   "id": "bd3980b7-226a-4947-b24f-719e1fd90ba9",
   "metadata": {},
   "outputs": [
    {
     "data": {
      "text/plain": [
       "0      9.000000\n",
       "1      9.000000\n",
       "2      9.000000\n",
       "3      9.000000\n",
       "4      9.000000\n",
       "         ...   \n",
       "995    3.121167\n",
       "996    8.919897\n",
       "997    9.089547\n",
       "998    8.908550\n",
       "999    6.904597\n",
       "Name: uvindex, Length: 1000, dtype: float64"
      ]
     },
     "execution_count": 258,
     "metadata": {},
     "output_type": "execute_result"
    }
   ],
   "source": [
    "df['uvindex']"
   ]
  },
  {
   "cell_type": "code",
   "execution_count": 259,
   "id": "b39fa32e-9b1f-4c06-b8d3-927a12659d3a",
   "metadata": {},
   "outputs": [
    {
     "data": {
      "text/plain": [
       "uvindex\n",
       "9.000000    51\n",
       "8.000000    44\n",
       "7.000000    29\n",
       "6.000000    13\n",
       "5.000000     7\n",
       "            ..\n",
       "3.121167     1\n",
       "8.919897     1\n",
       "9.089547     1\n",
       "8.908550     1\n",
       "6.904597     1\n",
       "Name: count, Length: 860, dtype: int64"
      ]
     },
     "execution_count": 259,
     "metadata": {},
     "output_type": "execute_result"
    }
   ],
   "source": [
    "df['uvindex'].value_counts()"
   ]
  },
  {
   "cell_type": "code",
   "execution_count": 260,
   "id": "dfbbeb3f-924f-41b3-947c-56518ad04a6c",
   "metadata": {},
   "outputs": [
    {
     "name": "stdout",
     "output_type": "stream",
     "text": [
      "<class 'pandas.core.series.Series'>\n",
      "RangeIndex: 1000 entries, 0 to 999\n",
      "Series name: uvindex\n",
      "Non-Null Count  Dtype  \n",
      "--------------  -----  \n",
      "1000 non-null   float64\n",
      "dtypes: float64(1)\n",
      "memory usage: 7.9 KB\n"
     ]
    }
   ],
   "source": [
    "df['uvindex'].info()"
   ]
  },
  {
   "cell_type": "markdown",
   "id": "05d93a98-f776-4b33-a601-21719587a53c",
   "metadata": {},
   "source": [
    "### 3.26 severerisk"
   ]
  },
  {
   "cell_type": "code",
   "execution_count": 261,
   "id": "73cd9cef-7947-4fb6-8fb5-1fcc7445814c",
   "metadata": {},
   "outputs": [
    {
     "data": {
      "text/plain": [
       "0      10.000000\n",
       "1      10.000000\n",
       "2      10.000000\n",
       "3      10.000000\n",
       "4      10.000000\n",
       "         ...    \n",
       "995    10.563084\n",
       "996     9.838767\n",
       "997    10.502440\n",
       "998     9.847929\n",
       "999    30.395643\n",
       "Name: severerisk, Length: 1000, dtype: float64"
      ]
     },
     "execution_count": 261,
     "metadata": {},
     "output_type": "execute_result"
    }
   ],
   "source": [
    "df['severerisk']"
   ]
  },
  {
   "cell_type": "code",
   "execution_count": 262,
   "id": "90aff6ea-4727-4f5e-94f3-6cc58ca2356d",
   "metadata": {},
   "outputs": [
    {
     "data": {
      "text/plain": [
       "severerisk\n",
       "10.000000    131\n",
       "30.000000     15\n",
       "60.000000      3\n",
       "9.512387       1\n",
       "9.538205       1\n",
       "            ... \n",
       "10.563084      1\n",
       "9.838767       1\n",
       "10.502440      1\n",
       "9.847929       1\n",
       "10.541696      1\n",
       "Name: count, Length: 854, dtype: int64"
      ]
     },
     "execution_count": 262,
     "metadata": {},
     "output_type": "execute_result"
    }
   ],
   "source": [
    "df['severerisk'].value_counts()"
   ]
  },
  {
   "cell_type": "code",
   "execution_count": 263,
   "id": "806fd985-cad6-43cb-8a83-032f21fc1c54",
   "metadata": {},
   "outputs": [
    {
     "name": "stdout",
     "output_type": "stream",
     "text": [
      "<class 'pandas.core.series.Series'>\n",
      "RangeIndex: 1000 entries, 0 to 999\n",
      "Series name: severerisk\n",
      "Non-Null Count  Dtype  \n",
      "--------------  -----  \n",
      "1000 non-null   float64\n",
      "dtypes: float64(1)\n",
      "memory usage: 7.9 KB\n"
     ]
    }
   ],
   "source": [
    "df['severerisk'].info()"
   ]
  },
  {
   "cell_type": "markdown",
   "id": "2291a72c-f08e-4850-8558-7ab6e1bac154",
   "metadata": {},
   "source": [
    "### 3.27  sunrise"
   ]
  },
  {
   "cell_type": "code",
   "execution_count": 264,
   "id": "1197cc6f-e217-4af4-8148-dbb2bbb3c7a7",
   "metadata": {},
   "outputs": [
    {
     "data": {
      "text/plain": [
       "0      6\n",
       "1      6\n",
       "2      6\n",
       "3      6\n",
       "4      6\n",
       "      ..\n",
       "995    6\n",
       "996    6\n",
       "997    6\n",
       "998    6\n",
       "999    7\n",
       "Name: sunrisehour, Length: 1000, dtype: int64"
      ]
     },
     "execution_count": 264,
     "metadata": {},
     "output_type": "execute_result"
    }
   ],
   "source": [
    "df['sunrisehour']"
   ]
  },
  {
   "cell_type": "code",
   "execution_count": 265,
   "id": "242e9a97-0ba5-4e49-88c9-ae69653aa3ac",
   "metadata": {},
   "outputs": [
    {
     "data": {
      "text/plain": [
       "sunrisehour\n",
       "6    720\n",
       "7    280\n",
       "Name: count, dtype: int64"
      ]
     },
     "execution_count": 265,
     "metadata": {},
     "output_type": "execute_result"
    }
   ],
   "source": [
    "df['sunrisehour'].value_counts()"
   ]
  },
  {
   "cell_type": "code",
   "execution_count": 266,
   "id": "ebc2f4b5-bef8-4c71-acd1-cd18e2e00ab6",
   "metadata": {},
   "outputs": [
    {
     "name": "stdout",
     "output_type": "stream",
     "text": [
      "<class 'pandas.core.series.Series'>\n",
      "RangeIndex: 1000 entries, 0 to 999\n",
      "Series name: sunrisehour\n",
      "Non-Null Count  Dtype\n",
      "--------------  -----\n",
      "1000 non-null   int64\n",
      "dtypes: int64(1)\n",
      "memory usage: 7.9 KB\n"
     ]
    }
   ],
   "source": [
    "df['sunrisehour'].info()"
   ]
  },
  {
   "cell_type": "markdown",
   "id": "a817bd56-ff08-486e-aa97-d56b21b5b2fe",
   "metadata": {},
   "source": [
    "### 3.27.a. sunriseminute"
   ]
  },
  {
   "cell_type": "code",
   "execution_count": 267,
   "id": "6b5b5b89-2936-4834-ba5b-20ad1c1b86b1",
   "metadata": {},
   "outputs": [
    {
     "name": "stdout",
     "output_type": "stream",
     "text": [
      "<class 'pandas.core.series.Series'>\n",
      "RangeIndex: 1000 entries, 0 to 999\n",
      "Series name: sunriseminute\n",
      "Non-Null Count  Dtype\n",
      "--------------  -----\n",
      "1000 non-null   int64\n",
      "dtypes: int64(1)\n",
      "memory usage: 7.9 KB\n"
     ]
    }
   ],
   "source": [
    "df['sunriseminute'].info()"
   ]
  },
  {
   "cell_type": "code",
   "execution_count": 268,
   "id": "61831e77-4643-4611-ad44-fe3f0f88557f",
   "metadata": {},
   "outputs": [
    {
     "data": {
      "text/plain": [
       "sunriseminute\n",
       "1     546\n",
       "2      68\n",
       "8      43\n",
       "6      40\n",
       "9      36\n",
       "14     32\n",
       "15     27\n",
       "13     22\n",
       "11     18\n",
       "10     18\n",
       "7      17\n",
       "12     16\n",
       "3      15\n",
       "21     13\n",
       "4      13\n",
       "23     12\n",
       "20     12\n",
       "17     12\n",
       "19     11\n",
       "5       9\n",
       "16      9\n",
       "18      6\n",
       "22      5\n",
       "Name: count, dtype: int64"
      ]
     },
     "execution_count": 268,
     "metadata": {},
     "output_type": "execute_result"
    }
   ],
   "source": [
    "df['sunriseminute'].value_counts()"
   ]
  },
  {
   "cell_type": "code",
   "execution_count": 269,
   "id": "725d59b3-7a91-4855-8bc3-5c57e5686c9f",
   "metadata": {},
   "outputs": [
    {
     "name": "stdout",
     "output_type": "stream",
     "text": [
      "<class 'pandas.core.series.Series'>\n",
      "RangeIndex: 1000 entries, 0 to 999\n",
      "Series name: sunriseminute\n",
      "Non-Null Count  Dtype\n",
      "--------------  -----\n",
      "1000 non-null   int64\n",
      "dtypes: int64(1)\n",
      "memory usage: 7.9 KB\n"
     ]
    }
   ],
   "source": [
    "df['sunriseminute'].info()"
   ]
  },
  {
   "cell_type": "markdown",
   "id": "5ef4097c-dcb8-4d9b-8450-995cf7bc1fc2",
   "metadata": {},
   "source": [
    "### 3.27.b.sunrisesecond"
   ]
  },
  {
   "cell_type": "code",
   "execution_count": 270,
   "id": "2ab6642e-e4a8-4aac-a17d-3f0f81c45a08",
   "metadata": {},
   "outputs": [
    {
     "name": "stdout",
     "output_type": "stream",
     "text": [
      "<class 'pandas.core.series.Series'>\n",
      "RangeIndex: 1000 entries, 0 to 999\n",
      "Series name: sunrisecond\n",
      "Non-Null Count  Dtype\n",
      "--------------  -----\n",
      "1000 non-null   int64\n",
      "dtypes: int64(1)\n",
      "memory usage: 7.9 KB\n"
     ]
    }
   ],
   "source": [
    "df['sunrisecond'].info()"
   ]
  },
  {
   "cell_type": "markdown",
   "id": "d2f0ece9-5173-4307-8e43-5a977ce780fe",
   "metadata": {},
   "source": [
    "### 3.28 sunriseEpoch"
   ]
  },
  {
   "cell_type": "code",
   "execution_count": 271,
   "id": "71041b2f-8c9b-4a85-a7fd-e0c52258bde8",
   "metadata": {},
   "outputs": [
    {
     "data": {
      "text/plain": [
       "0      1725714410\n",
       "1      1725800850\n",
       "2      1725887290\n",
       "3      1725973729\n",
       "4      1726060169\n",
       "          ...    \n",
       "995    1726690768\n",
       "996    1726593864\n",
       "997    1726118777\n",
       "998    1726296563\n",
       "999    1726634979\n",
       "Name: sunriseEpoch, Length: 1000, dtype: int64"
      ]
     },
     "execution_count": 271,
     "metadata": {},
     "output_type": "execute_result"
    }
   ],
   "source": [
    "df['sunriseEpoch']"
   ]
  },
  {
   "cell_type": "code",
   "execution_count": 272,
   "id": "33a04e56-03ea-4e0a-a7cf-69cfb9a22cc1",
   "metadata": {},
   "outputs": [
    {
     "data": {
      "text/plain": [
       "sunriseEpoch\n",
       "1726634979    1\n",
       "1725714410    1\n",
       "1725800850    1\n",
       "1725887290    1\n",
       "1725973729    1\n",
       "             ..\n",
       "1726751690    1\n",
       "1726665249    1\n",
       "1726578809    1\n",
       "1726492369    1\n",
       "1726405929    1\n",
       "Name: count, Length: 1000, dtype: int64"
      ]
     },
     "execution_count": 272,
     "metadata": {},
     "output_type": "execute_result"
    }
   ],
   "source": [
    "df['sunriseEpoch'].value_counts()"
   ]
  },
  {
   "cell_type": "code",
   "execution_count": 273,
   "id": "ba1cc746-2217-40ee-b531-02603148f82a",
   "metadata": {},
   "outputs": [
    {
     "name": "stdout",
     "output_type": "stream",
     "text": [
      "<class 'pandas.core.series.Series'>\n",
      "RangeIndex: 1000 entries, 0 to 999\n",
      "Series name: sunriseEpoch\n",
      "Non-Null Count  Dtype\n",
      "--------------  -----\n",
      "1000 non-null   int64\n",
      "dtypes: int64(1)\n",
      "memory usage: 7.9 KB\n"
     ]
    }
   ],
   "source": [
    "df['sunriseEpoch'].info()"
   ]
  },
  {
   "cell_type": "markdown",
   "id": "fd223b77-2ce8-4e9d-bcb4-d83b7705aba0",
   "metadata": {},
   "source": [
    "### 3.29 sunsethours"
   ]
  },
  {
   "cell_type": "code",
   "execution_count": 274,
   "id": "07f00cf1-c769-44d5-8d6e-f5182a296a06",
   "metadata": {},
   "outputs": [
    {
     "name": "stdout",
     "output_type": "stream",
     "text": [
      "<class 'pandas.core.series.Series'>\n",
      "RangeIndex: 1000 entries, 0 to 999\n",
      "Series name: sunsethours\n",
      "Non-Null Count  Dtype\n",
      "--------------  -----\n",
      "1000 non-null   int64\n",
      "dtypes: int64(1)\n",
      "memory usage: 7.9 KB\n"
     ]
    }
   ],
   "source": [
    "df['sunsethours'].info()"
   ]
  },
  {
   "cell_type": "code",
   "execution_count": 275,
   "id": "4eb573bb-4dea-41e7-a7b7-ce2aa0eb5d05",
   "metadata": {},
   "outputs": [
    {
     "data": {
      "text/plain": [
       "sunsethours\n",
       "19    692\n",
       "18    308\n",
       "Name: count, dtype: int64"
      ]
     },
     "execution_count": 275,
     "metadata": {},
     "output_type": "execute_result"
    }
   ],
   "source": [
    "df['sunsethours'].value_counts()"
   ]
  },
  {
   "cell_type": "markdown",
   "id": "3cd09ca9-5455-4ee8-8506-4f2ad60e5600",
   "metadata": {},
   "source": [
    "### 3.29.b \tsunsetminutes"
   ]
  },
  {
   "cell_type": "code",
   "execution_count": 276,
   "id": "b7a53316-38c6-4a58-99fc-19d76c334c89",
   "metadata": {},
   "outputs": [
    {
     "data": {
      "text/plain": [
       "0      44\n",
       "1      43\n",
       "2      42\n",
       "3      40\n",
       "4      39\n",
       "       ..\n",
       "995     3\n",
       "996    51\n",
       "997    58\n",
       "998     0\n",
       "999    22\n",
       "Name: sunsetminutes, Length: 1000, dtype: int64"
      ]
     },
     "execution_count": 276,
     "metadata": {},
     "output_type": "execute_result"
    }
   ],
   "source": [
    "df['sunsetminutes']"
   ]
  },
  {
   "cell_type": "code",
   "execution_count": 277,
   "id": "cfd2ee98-e0c5-4302-9eb9-dabb77cf4dcb",
   "metadata": {},
   "outputs": [
    {
     "name": "stdout",
     "output_type": "stream",
     "text": [
      "<class 'pandas.core.series.Series'>\n",
      "RangeIndex: 1000 entries, 0 to 999\n",
      "Series name: sunsetminutes\n",
      "Non-Null Count  Dtype\n",
      "--------------  -----\n",
      "1000 non-null   int64\n",
      "dtypes: int64(1)\n",
      "memory usage: 7.9 KB\n"
     ]
    }
   ],
   "source": [
    "df['sunsetminutes'].info()"
   ]
  },
  {
   "cell_type": "markdown",
   "id": "44f95cd3-61ba-4182-a642-e742309fc444",
   "metadata": {},
   "source": [
    "### 3.29.c. sunsetsecond"
   ]
  },
  {
   "cell_type": "code",
   "execution_count": 278,
   "id": "3c5ad755-9beb-4621-a62e-f63766fd4456",
   "metadata": {},
   "outputs": [
    {
     "data": {
      "text/plain": [
       "{53: 41,\n",
       " 32: 39,\n",
       " 10: 38,\n",
       " 38: 32,\n",
       " 33: 31,\n",
       " 16: 29,\n",
       " 23: 29,\n",
       " 5: 29,\n",
       " 49: 29,\n",
       " 59: 29,\n",
       " 22: 27,\n",
       " 6: 26,\n",
       " 8: 25,\n",
       " 45: 25,\n",
       " 37: 25,\n",
       " 25: 24,\n",
       " 52: 24,\n",
       " 57: 23,\n",
       " 4: 23,\n",
       " 1: 21,\n",
       " 58: 20,\n",
       " 26: 19,\n",
       " 20: 19,\n",
       " 21: 19,\n",
       " 56: 18,\n",
       " 18: 18,\n",
       " 39: 16,\n",
       " 19: 16,\n",
       " 24: 15,\n",
       " 47: 14,\n",
       " 9: 13,\n",
       " 41: 13,\n",
       " 46: 13,\n",
       " 55: 13,\n",
       " 15: 12,\n",
       " 35: 12,\n",
       " 31: 12,\n",
       " 3: 12,\n",
       " 29: 12,\n",
       " 36: 12,\n",
       " 44: 11,\n",
       " 43: 11,\n",
       " 40: 11,\n",
       " 54: 11,\n",
       " 48: 10,\n",
       " 34: 10,\n",
       " 27: 9,\n",
       " 2: 8,\n",
       " 7: 7,\n",
       " 51: 7,\n",
       " 17: 7,\n",
       " 0: 7,\n",
       " 11: 6,\n",
       " 14: 6,\n",
       " 50: 5,\n",
       " 12: 4,\n",
       " 42: 3}"
      ]
     },
     "execution_count": 278,
     "metadata": {},
     "output_type": "execute_result"
    }
   ],
   "source": [
    "df['sunsetsecond'].value_counts().to_dict()"
   ]
  },
  {
   "cell_type": "code",
   "execution_count": 279,
   "id": "fad04d5b-c823-417f-b075-26d2387844cd",
   "metadata": {},
   "outputs": [
    {
     "name": "stdout",
     "output_type": "stream",
     "text": [
      "<class 'pandas.core.series.Series'>\n",
      "RangeIndex: 1000 entries, 0 to 999\n",
      "Series name: sunsetsecond\n",
      "Non-Null Count  Dtype\n",
      "--------------  -----\n",
      "1000 non-null   int64\n",
      "dtypes: int64(1)\n",
      "memory usage: 7.9 KB\n"
     ]
    }
   ],
   "source": [
    "df['sunsetsecond'].info()"
   ]
  },
  {
   "cell_type": "markdown",
   "id": "c33174f4-3e40-46e5-a429-22b3618df03e",
   "metadata": {},
   "source": [
    "### 3.29 (3.30)sunsetEpoch "
   ]
  },
  {
   "cell_type": "code",
   "execution_count": 280,
   "id": "cb651abc-bac6-4f0b-85fb-f5dc5c44464d",
   "metadata": {},
   "outputs": [
    {
     "data": {
      "text/plain": [
       "0      1725759893\n",
       "1      1725846212\n",
       "2      1725932530\n",
       "3      1726018848\n",
       "4      1726105166\n",
       "          ...    \n",
       "995    1726616079\n",
       "996    1726665823\n",
       "997    1726232301\n",
       "998    1726331361\n",
       "999    1726687670\n",
       "Name: sunsetEpoch, Length: 1000, dtype: int64"
      ]
     },
     "execution_count": 280,
     "metadata": {},
     "output_type": "execute_result"
    }
   ],
   "source": [
    "df['sunsetEpoch']"
   ]
  },
  {
   "cell_type": "code",
   "execution_count": 281,
   "id": "b35b15b5-a96f-4dc0-a68f-ff435e664779",
   "metadata": {},
   "outputs": [
    {
     "data": {
      "text/plain": [
       "sunsetEpoch\n",
       "1726687670    1\n",
       "1725759893    1\n",
       "1725846212    1\n",
       "1725932530    1\n",
       "1726018848    1\n",
       "             ..\n",
       "1726795704    1\n",
       "1726709387    1\n",
       "1726623070    1\n",
       "1726536753    1\n",
       "1726450436    1\n",
       "Name: count, Length: 1000, dtype: int64"
      ]
     },
     "execution_count": 281,
     "metadata": {},
     "output_type": "execute_result"
    }
   ],
   "source": [
    "df['sunsetEpoch'].value_counts()"
   ]
  },
  {
   "cell_type": "code",
   "execution_count": 282,
   "id": "e8c1c3f5-24d1-4c0e-b3d4-8021ea6f6b5e",
   "metadata": {},
   "outputs": [
    {
     "name": "stdout",
     "output_type": "stream",
     "text": [
      "<class 'pandas.core.series.Series'>\n",
      "RangeIndex: 1000 entries, 0 to 999\n",
      "Series name: sunsetEpoch\n",
      "Non-Null Count  Dtype\n",
      "--------------  -----\n",
      "1000 non-null   int64\n",
      "dtypes: int64(1)\n",
      "memory usage: 7.9 KB\n"
     ]
    }
   ],
   "source": [
    "df['sunsetEpoch'].info()"
   ]
  },
  {
   "cell_type": "markdown",
   "id": "233c887b-e2ad-485f-8d01-601d8e960428",
   "metadata": {},
   "source": [
    "### 3.30 moonphase"
   ]
  },
  {
   "cell_type": "code",
   "execution_count": 283,
   "id": "222f2884-aa1f-42bd-912c-e33efd6c4061",
   "metadata": {},
   "outputs": [
    {
     "data": {
      "text/plain": [
       "0      0.160000\n",
       "1      0.190000\n",
       "2      0.220000\n",
       "3      0.250000\n",
       "4      0.290000\n",
       "         ...   \n",
       "995    0.520096\n",
       "996    0.477557\n",
       "997    0.318339\n",
       "998    0.397304\n",
       "999    0.531630\n",
       "Name: moonphase, Length: 1000, dtype: float64"
      ]
     },
     "execution_count": 283,
     "metadata": {},
     "output_type": "execute_result"
    }
   ],
   "source": [
    "df['moonphase']"
   ]
  },
  {
   "cell_type": "code",
   "execution_count": 284,
   "id": "991263d5-013a-4e78-abb4-a457c51740ba",
   "metadata": {},
   "outputs": [
    {
     "data": {
      "text/plain": [
       "moonphase\n",
       "0.250000    16\n",
       "0.190000    10\n",
       "0.390000    10\n",
       "0.420000    10\n",
       "0.500000    10\n",
       "            ..\n",
       "0.520096     1\n",
       "0.477557     1\n",
       "0.318339     1\n",
       "0.397304     1\n",
       "0.430060     1\n",
       "Name: count, Length: 870, dtype: int64"
      ]
     },
     "execution_count": 284,
     "metadata": {},
     "output_type": "execute_result"
    }
   ],
   "source": [
    "df['moonphase'].value_counts()"
   ]
  },
  {
   "cell_type": "code",
   "execution_count": 285,
   "id": "400037aa-9a09-40b1-8b7d-878893b4398b",
   "metadata": {},
   "outputs": [
    {
     "name": "stdout",
     "output_type": "stream",
     "text": [
      "<class 'pandas.core.series.Series'>\n",
      "RangeIndex: 1000 entries, 0 to 999\n",
      "Series name: moonphase\n",
      "Non-Null Count  Dtype  \n",
      "--------------  -----  \n",
      "1000 non-null   float64\n",
      "dtypes: float64(1)\n",
      "memory usage: 7.9 KB\n"
     ]
    }
   ],
   "source": [
    "df['moonphase'].info()"
   ]
  },
  {
   "cell_type": "markdown",
   "id": "f722688d-b40f-4cb5-b934-7ab14764f38d",
   "metadata": {},
   "source": [
    "### 3.31 conditions"
   ]
  },
  {
   "cell_type": "code",
   "execution_count": 286,
   "id": "5788bc06-90ef-4674-8251-8dfb49e4017e",
   "metadata": {},
   "outputs": [
    {
     "data": {
      "text/plain": [
       "{'Clear': 569,\n",
       " 'Partially cloudy': 363,\n",
       " 'Rain, Partially cloudy': 55,\n",
       " 'Overcast': 13}"
      ]
     },
     "execution_count": 286,
     "metadata": {},
     "output_type": "execute_result"
    }
   ],
   "source": [
    "\n",
    "df['conditions'].value_counts().to_dict()"
   ]
  },
  {
   "cell_type": "code",
   "execution_count": 287,
   "id": "b05d0a37-fc9b-435d-9e9a-64569452e824",
   "metadata": {},
   "outputs": [
    {
     "data": {
      "text/plain": [
       "0      Partially cloudy\n",
       "1                 Clear\n",
       "2                 Clear\n",
       "3                 Clear\n",
       "4                 Clear\n",
       "             ...       \n",
       "995    Partially cloudy\n",
       "996               Clear\n",
       "997    Partially cloudy\n",
       "998               Clear\n",
       "999               Clear\n",
       "Name: conditions, Length: 1000, dtype: object"
      ]
     },
     "execution_count": 287,
     "metadata": {},
     "output_type": "execute_result"
    }
   ],
   "source": [
    "df['conditions']"
   ]
  },
  {
   "cell_type": "code",
   "execution_count": 288,
   "id": "fab11d23-ef96-478a-815a-f2956923f730",
   "metadata": {},
   "outputs": [
    {
     "name": "stdout",
     "output_type": "stream",
     "text": [
      "<class 'pandas.core.series.Series'>\n",
      "RangeIndex: 1000 entries, 0 to 999\n",
      "Series name: conditions\n",
      "Non-Null Count  Dtype \n",
      "--------------  ----- \n",
      "1000 non-null   object\n",
      "dtypes: object(1)\n",
      "memory usage: 7.9+ KB\n"
     ]
    }
   ],
   "source": [
    "df['conditions'].info()"
   ]
  },
  {
   "cell_type": "code",
   "execution_count": 289,
   "id": "7e7f1060-900f-4838-8aea-f71b2554cf57",
   "metadata": {},
   "outputs": [
    {
     "data": {
      "text/html": [
       "<div>\n",
       "<style scoped>\n",
       "    .dataframe tbody tr th:only-of-type {\n",
       "        vertical-align: middle;\n",
       "    }\n",
       "\n",
       "    .dataframe tbody tr th {\n",
       "        vertical-align: top;\n",
       "    }\n",
       "\n",
       "    .dataframe thead th {\n",
       "        text-align: right;\n",
       "    }\n",
       "</style>\n",
       "<table border=\"1\" class=\"dataframe\">\n",
       "  <thead>\n",
       "    <tr style=\"text-align: right;\">\n",
       "      <th></th>\n",
       "      <th>monthtime</th>\n",
       "      <th>yeartime</th>\n",
       "      <th>datetimeEpoch</th>\n",
       "      <th>tempmax</th>\n",
       "      <th>tempmin</th>\n",
       "      <th>temp</th>\n",
       "      <th>feelslikemax</th>\n",
       "      <th>feelslikemin</th>\n",
       "      <th>feelslike</th>\n",
       "      <th>dew</th>\n",
       "      <th>...</th>\n",
       "      <th>datetime_26</th>\n",
       "      <th>datetime_27</th>\n",
       "      <th>datetime_28</th>\n",
       "      <th>datetime_29</th>\n",
       "      <th>datetime_30</th>\n",
       "      <th>datetime_31</th>\n",
       "      <th>conditions_Clear</th>\n",
       "      <th>conditions_Overcast</th>\n",
       "      <th>conditions_Partially cloudy</th>\n",
       "      <th>conditions_Rain, Partially cloudy</th>\n",
       "    </tr>\n",
       "  </thead>\n",
       "  <tbody>\n",
       "    <tr>\n",
       "      <th>0</th>\n",
       "      <td>9</td>\n",
       "      <td>2024</td>\n",
       "      <td>1725692400</td>\n",
       "      <td>106.100000</td>\n",
       "      <td>91.000000</td>\n",
       "      <td>98.500000</td>\n",
       "      <td>104.000000</td>\n",
       "      <td>88.100000</td>\n",
       "      <td>95.900000</td>\n",
       "      <td>51.500000</td>\n",
       "      <td>...</td>\n",
       "      <td>0</td>\n",
       "      <td>0</td>\n",
       "      <td>0</td>\n",
       "      <td>0</td>\n",
       "      <td>0</td>\n",
       "      <td>0</td>\n",
       "      <td>0</td>\n",
       "      <td>0</td>\n",
       "      <td>1</td>\n",
       "      <td>0</td>\n",
       "    </tr>\n",
       "    <tr>\n",
       "      <th>1</th>\n",
       "      <td>9</td>\n",
       "      <td>2024</td>\n",
       "      <td>1725778800</td>\n",
       "      <td>103.900000</td>\n",
       "      <td>87.000000</td>\n",
       "      <td>95.400000</td>\n",
       "      <td>100.500000</td>\n",
       "      <td>84.700000</td>\n",
       "      <td>92.300000</td>\n",
       "      <td>48.700000</td>\n",
       "      <td>...</td>\n",
       "      <td>0</td>\n",
       "      <td>0</td>\n",
       "      <td>0</td>\n",
       "      <td>0</td>\n",
       "      <td>0</td>\n",
       "      <td>0</td>\n",
       "      <td>1</td>\n",
       "      <td>0</td>\n",
       "      <td>0</td>\n",
       "      <td>0</td>\n",
       "    </tr>\n",
       "    <tr>\n",
       "      <th>2</th>\n",
       "      <td>9</td>\n",
       "      <td>2024</td>\n",
       "      <td>1725865200</td>\n",
       "      <td>105.000000</td>\n",
       "      <td>83.900000</td>\n",
       "      <td>94.700000</td>\n",
       "      <td>99.900000</td>\n",
       "      <td>81.600000</td>\n",
       "      <td>90.600000</td>\n",
       "      <td>41.700000</td>\n",
       "      <td>...</td>\n",
       "      <td>0</td>\n",
       "      <td>0</td>\n",
       "      <td>0</td>\n",
       "      <td>0</td>\n",
       "      <td>0</td>\n",
       "      <td>0</td>\n",
       "      <td>1</td>\n",
       "      <td>0</td>\n",
       "      <td>0</td>\n",
       "      <td>0</td>\n",
       "    </tr>\n",
       "    <tr>\n",
       "      <th>3</th>\n",
       "      <td>9</td>\n",
       "      <td>2024</td>\n",
       "      <td>1725951600</td>\n",
       "      <td>106.100000</td>\n",
       "      <td>81.200000</td>\n",
       "      <td>93.900000</td>\n",
       "      <td>100.600000</td>\n",
       "      <td>79.500000</td>\n",
       "      <td>89.800000</td>\n",
       "      <td>39.100000</td>\n",
       "      <td>...</td>\n",
       "      <td>0</td>\n",
       "      <td>0</td>\n",
       "      <td>0</td>\n",
       "      <td>0</td>\n",
       "      <td>0</td>\n",
       "      <td>0</td>\n",
       "      <td>1</td>\n",
       "      <td>0</td>\n",
       "      <td>0</td>\n",
       "      <td>0</td>\n",
       "    </tr>\n",
       "    <tr>\n",
       "      <th>4</th>\n",
       "      <td>9</td>\n",
       "      <td>2024</td>\n",
       "      <td>1726038000</td>\n",
       "      <td>106.100000</td>\n",
       "      <td>82.100000</td>\n",
       "      <td>94.000000</td>\n",
       "      <td>101.000000</td>\n",
       "      <td>80.000000</td>\n",
       "      <td>90.000000</td>\n",
       "      <td>40.100000</td>\n",
       "      <td>...</td>\n",
       "      <td>0</td>\n",
       "      <td>0</td>\n",
       "      <td>0</td>\n",
       "      <td>0</td>\n",
       "      <td>0</td>\n",
       "      <td>0</td>\n",
       "      <td>1</td>\n",
       "      <td>0</td>\n",
       "      <td>0</td>\n",
       "      <td>0</td>\n",
       "    </tr>\n",
       "    <tr>\n",
       "      <th>...</th>\n",
       "      <td>...</td>\n",
       "      <td>...</td>\n",
       "      <td>...</td>\n",
       "      <td>...</td>\n",
       "      <td>...</td>\n",
       "      <td>...</td>\n",
       "      <td>...</td>\n",
       "      <td>...</td>\n",
       "      <td>...</td>\n",
       "      <td>...</td>\n",
       "      <td>...</td>\n",
       "      <td>...</td>\n",
       "      <td>...</td>\n",
       "      <td>...</td>\n",
       "      <td>...</td>\n",
       "      <td>...</td>\n",
       "      <td>...</td>\n",
       "      <td>...</td>\n",
       "      <td>...</td>\n",
       "      <td>...</td>\n",
       "      <td>...</td>\n",
       "    </tr>\n",
       "    <tr>\n",
       "      <th>995</th>\n",
       "      <td>9</td>\n",
       "      <td>2024</td>\n",
       "      <td>1726632592</td>\n",
       "      <td>76.060546</td>\n",
       "      <td>64.359387</td>\n",
       "      <td>69.002142</td>\n",
       "      <td>77.673823</td>\n",
       "      <td>63.510920</td>\n",
       "      <td>67.003338</td>\n",
       "      <td>59.936776</td>\n",
       "      <td>...</td>\n",
       "      <td>0</td>\n",
       "      <td>0</td>\n",
       "      <td>0</td>\n",
       "      <td>0</td>\n",
       "      <td>0</td>\n",
       "      <td>0</td>\n",
       "      <td>0</td>\n",
       "      <td>0</td>\n",
       "      <td>1</td>\n",
       "      <td>0</td>\n",
       "    </tr>\n",
       "    <tr>\n",
       "      <th>996</th>\n",
       "      <td>9</td>\n",
       "      <td>2024</td>\n",
       "      <td>1726550178</td>\n",
       "      <td>68.409198</td>\n",
       "      <td>65.939319</td>\n",
       "      <td>66.567410</td>\n",
       "      <td>68.956722</td>\n",
       "      <td>64.805635</td>\n",
       "      <td>65.992526</td>\n",
       "      <td>59.010257</td>\n",
       "      <td>...</td>\n",
       "      <td>0</td>\n",
       "      <td>0</td>\n",
       "      <td>0</td>\n",
       "      <td>0</td>\n",
       "      <td>0</td>\n",
       "      <td>0</td>\n",
       "      <td>1</td>\n",
       "      <td>0</td>\n",
       "      <td>0</td>\n",
       "      <td>0</td>\n",
       "    </tr>\n",
       "    <tr>\n",
       "      <th>997</th>\n",
       "      <td>9</td>\n",
       "      <td>2024</td>\n",
       "      <td>1726121998</td>\n",
       "      <td>69.756690</td>\n",
       "      <td>65.286919</td>\n",
       "      <td>65.919492</td>\n",
       "      <td>68.158536</td>\n",
       "      <td>63.662942</td>\n",
       "      <td>67.313322</td>\n",
       "      <td>62.024442</td>\n",
       "      <td>...</td>\n",
       "      <td>0</td>\n",
       "      <td>0</td>\n",
       "      <td>0</td>\n",
       "      <td>0</td>\n",
       "      <td>0</td>\n",
       "      <td>0</td>\n",
       "      <td>0</td>\n",
       "      <td>0</td>\n",
       "      <td>1</td>\n",
       "      <td>0</td>\n",
       "    </tr>\n",
       "    <tr>\n",
       "      <th>998</th>\n",
       "      <td>9</td>\n",
       "      <td>2024</td>\n",
       "      <td>1726283774</td>\n",
       "      <td>77.106797</td>\n",
       "      <td>61.481724</td>\n",
       "      <td>68.106569</td>\n",
       "      <td>76.426959</td>\n",
       "      <td>60.901526</td>\n",
       "      <td>68.094309</td>\n",
       "      <td>63.169608</td>\n",
       "      <td>...</td>\n",
       "      <td>0</td>\n",
       "      <td>0</td>\n",
       "      <td>0</td>\n",
       "      <td>0</td>\n",
       "      <td>0</td>\n",
       "      <td>0</td>\n",
       "      <td>1</td>\n",
       "      <td>0</td>\n",
       "      <td>0</td>\n",
       "      <td>0</td>\n",
       "    </tr>\n",
       "    <tr>\n",
       "      <th>999</th>\n",
       "      <td>9</td>\n",
       "      <td>2024</td>\n",
       "      <td>1726618425</td>\n",
       "      <td>90.923080</td>\n",
       "      <td>79.296868</td>\n",
       "      <td>81.636991</td>\n",
       "      <td>94.180423</td>\n",
       "      <td>78.071851</td>\n",
       "      <td>84.987113</td>\n",
       "      <td>73.393045</td>\n",
       "      <td>...</td>\n",
       "      <td>0</td>\n",
       "      <td>0</td>\n",
       "      <td>0</td>\n",
       "      <td>0</td>\n",
       "      <td>0</td>\n",
       "      <td>0</td>\n",
       "      <td>1</td>\n",
       "      <td>0</td>\n",
       "      <td>0</td>\n",
       "      <td>0</td>\n",
       "    </tr>\n",
       "  </tbody>\n",
       "</table>\n",
       "<p>1000 rows × 85 columns</p>\n",
       "</div>"
      ],
      "text/plain": [
       "     monthtime  yeartime  datetimeEpoch     tempmax    tempmin       temp  \\\n",
       "0            9      2024     1725692400  106.100000  91.000000  98.500000   \n",
       "1            9      2024     1725778800  103.900000  87.000000  95.400000   \n",
       "2            9      2024     1725865200  105.000000  83.900000  94.700000   \n",
       "3            9      2024     1725951600  106.100000  81.200000  93.900000   \n",
       "4            9      2024     1726038000  106.100000  82.100000  94.000000   \n",
       "..         ...       ...            ...         ...        ...        ...   \n",
       "995          9      2024     1726632592   76.060546  64.359387  69.002142   \n",
       "996          9      2024     1726550178   68.409198  65.939319  66.567410   \n",
       "997          9      2024     1726121998   69.756690  65.286919  65.919492   \n",
       "998          9      2024     1726283774   77.106797  61.481724  68.106569   \n",
       "999          9      2024     1726618425   90.923080  79.296868  81.636991   \n",
       "\n",
       "     feelslikemax  feelslikemin  feelslike        dew  ...  datetime_26  \\\n",
       "0      104.000000     88.100000  95.900000  51.500000  ...            0   \n",
       "1      100.500000     84.700000  92.300000  48.700000  ...            0   \n",
       "2       99.900000     81.600000  90.600000  41.700000  ...            0   \n",
       "3      100.600000     79.500000  89.800000  39.100000  ...            0   \n",
       "4      101.000000     80.000000  90.000000  40.100000  ...            0   \n",
       "..            ...           ...        ...        ...  ...          ...   \n",
       "995     77.673823     63.510920  67.003338  59.936776  ...            0   \n",
       "996     68.956722     64.805635  65.992526  59.010257  ...            0   \n",
       "997     68.158536     63.662942  67.313322  62.024442  ...            0   \n",
       "998     76.426959     60.901526  68.094309  63.169608  ...            0   \n",
       "999     94.180423     78.071851  84.987113  73.393045  ...            0   \n",
       "\n",
       "     datetime_27  datetime_28  datetime_29  datetime_30  datetime_31  \\\n",
       "0              0            0            0            0            0   \n",
       "1              0            0            0            0            0   \n",
       "2              0            0            0            0            0   \n",
       "3              0            0            0            0            0   \n",
       "4              0            0            0            0            0   \n",
       "..           ...          ...          ...          ...          ...   \n",
       "995            0            0            0            0            0   \n",
       "996            0            0            0            0            0   \n",
       "997            0            0            0            0            0   \n",
       "998            0            0            0            0            0   \n",
       "999            0            0            0            0            0   \n",
       "\n",
       "     conditions_Clear  conditions_Overcast  conditions_Partially cloudy  \\\n",
       "0                   0                    0                            1   \n",
       "1                   1                    0                            0   \n",
       "2                   1                    0                            0   \n",
       "3                   1                    0                            0   \n",
       "4                   1                    0                            0   \n",
       "..                ...                  ...                          ...   \n",
       "995                 0                    0                            1   \n",
       "996                 1                    0                            0   \n",
       "997                 0                    0                            1   \n",
       "998                 1                    0                            0   \n",
       "999                 1                    0                            0   \n",
       "\n",
       "     conditions_Rain, Partially cloudy  \n",
       "0                                    0  \n",
       "1                                    0  \n",
       "2                                    0  \n",
       "3                                    0  \n",
       "4                                    0  \n",
       "..                                 ...  \n",
       "995                                  0  \n",
       "996                                  0  \n",
       "997                                  0  \n",
       "998                                  0  \n",
       "999                                  0  \n",
       "\n",
       "[1000 rows x 85 columns]"
      ]
     },
     "execution_count": 289,
     "metadata": {},
     "output_type": "execute_result"
    }
   ],
   "source": [
    "df=pd.get_dummies(df, columns=['conditions'], dtype=int)\n",
    "df"
   ]
  },
  {
   "cell_type": "markdown",
   "id": "96cdba22-4a7e-4f10-a47c-1f5250d53d5a",
   "metadata": {},
   "source": [
    "### 3.33 description"
   ]
  },
  {
   "cell_type": "code",
   "execution_count": 290,
   "id": "1aeba578-dfe3-499b-b55f-453e34adae52",
   "metadata": {},
   "outputs": [
    {
     "data": {
      "text/plain": [
       "description\n",
       "Clear conditions throughout the day.                                          554\n",
       "Partly cloudy throughout the day.                                             289\n",
       "Becoming cloudy in the afternoon.                                              35\n",
       "Partly cloudy throughout the day with storms possible.                         31\n",
       "Clearing in the afternoon.                                                     21\n",
       "Partly cloudy throughout the day with a chance of rain.                        16\n",
       "Cloudy skies throughout the day.                                               13\n",
       "Partly cloudy throughout the day with a chance of rain throughout the day.     13\n",
       "Clear conditions throughout the day with storms possible.                      11\n",
       "Partly cloudy throughout the day with rain in the morning and afternoon.        9\n",
       "Becoming cloudy in the afternoon with storms possible.                          5\n",
       "Partly cloudy throughout the day with afternoon rain.                           3\n",
       "Name: count, dtype: int64"
      ]
     },
     "execution_count": 290,
     "metadata": {},
     "output_type": "execute_result"
    }
   ],
   "source": [
    "df['description'].value_counts()"
   ]
  },
  {
   "cell_type": "code",
   "execution_count": 291,
   "id": "996af852-ddb2-4596-9593-7a916a9b22c6",
   "metadata": {},
   "outputs": [
    {
     "data": {
      "text/plain": [
       "0                      Partly cloudy throughout the day.\n",
       "1                   Clear conditions throughout the day.\n",
       "2                   Clear conditions throughout the day.\n",
       "3                   Clear conditions throughout the day.\n",
       "4                   Clear conditions throughout the day.\n",
       "                             ...                        \n",
       "995                    Partly cloudy throughout the day.\n",
       "996                 Clear conditions throughout the day.\n",
       "997                    Partly cloudy throughout the day.\n",
       "998                 Clear conditions throughout the day.\n",
       "999    Clear conditions throughout the day with storm...\n",
       "Name: description, Length: 1000, dtype: object"
      ]
     },
     "execution_count": 291,
     "metadata": {},
     "output_type": "execute_result"
    }
   ],
   "source": [
    "df['description']"
   ]
  },
  {
   "cell_type": "code",
   "execution_count": 292,
   "id": "b0f41d23-b8d6-4a31-b5dc-74036da5f158",
   "metadata": {},
   "outputs": [
    {
     "name": "stdout",
     "output_type": "stream",
     "text": [
      "<class 'pandas.core.series.Series'>\n",
      "RangeIndex: 1000 entries, 0 to 999\n",
      "Series name: description\n",
      "Non-Null Count  Dtype \n",
      "--------------  ----- \n",
      "1000 non-null   object\n",
      "dtypes: object(1)\n",
      "memory usage: 7.9+ KB\n"
     ]
    }
   ],
   "source": [
    "df['description'].info()"
   ]
  },
  {
   "cell_type": "code",
   "execution_count": 293,
   "id": "06b95c2c-899f-4148-933f-0ea2d3bac3f8",
   "metadata": {},
   "outputs": [
    {
     "data": {
      "text/html": [
       "<div>\n",
       "<style scoped>\n",
       "    .dataframe tbody tr th:only-of-type {\n",
       "        vertical-align: middle;\n",
       "    }\n",
       "\n",
       "    .dataframe tbody tr th {\n",
       "        vertical-align: top;\n",
       "    }\n",
       "\n",
       "    .dataframe thead th {\n",
       "        text-align: right;\n",
       "    }\n",
       "</style>\n",
       "<table border=\"1\" class=\"dataframe\">\n",
       "  <thead>\n",
       "    <tr style=\"text-align: right;\">\n",
       "      <th></th>\n",
       "      <th>monthtime</th>\n",
       "      <th>yeartime</th>\n",
       "      <th>datetimeEpoch</th>\n",
       "      <th>tempmax</th>\n",
       "      <th>tempmin</th>\n",
       "      <th>temp</th>\n",
       "      <th>feelslikemax</th>\n",
       "      <th>feelslikemin</th>\n",
       "      <th>feelslike</th>\n",
       "      <th>dew</th>\n",
       "      <th>...</th>\n",
       "      <th>description_Clear conditions throughout the day with storms possible.</th>\n",
       "      <th>description_Clear conditions throughout the day.</th>\n",
       "      <th>description_Clearing in the afternoon.</th>\n",
       "      <th>description_Cloudy skies throughout the day.</th>\n",
       "      <th>description_Partly cloudy throughout the day with a chance of rain throughout the day.</th>\n",
       "      <th>description_Partly cloudy throughout the day with a chance of rain.</th>\n",
       "      <th>description_Partly cloudy throughout the day with afternoon rain.</th>\n",
       "      <th>description_Partly cloudy throughout the day with rain in the morning and afternoon.</th>\n",
       "      <th>description_Partly cloudy throughout the day with storms possible.</th>\n",
       "      <th>description_Partly cloudy throughout the day.</th>\n",
       "    </tr>\n",
       "  </thead>\n",
       "  <tbody>\n",
       "    <tr>\n",
       "      <th>0</th>\n",
       "      <td>9</td>\n",
       "      <td>2024</td>\n",
       "      <td>1725692400</td>\n",
       "      <td>106.100000</td>\n",
       "      <td>91.000000</td>\n",
       "      <td>98.500000</td>\n",
       "      <td>104.000000</td>\n",
       "      <td>88.100000</td>\n",
       "      <td>95.900000</td>\n",
       "      <td>51.500000</td>\n",
       "      <td>...</td>\n",
       "      <td>0</td>\n",
       "      <td>0</td>\n",
       "      <td>0</td>\n",
       "      <td>0</td>\n",
       "      <td>0</td>\n",
       "      <td>0</td>\n",
       "      <td>0</td>\n",
       "      <td>0</td>\n",
       "      <td>0</td>\n",
       "      <td>1</td>\n",
       "    </tr>\n",
       "    <tr>\n",
       "      <th>1</th>\n",
       "      <td>9</td>\n",
       "      <td>2024</td>\n",
       "      <td>1725778800</td>\n",
       "      <td>103.900000</td>\n",
       "      <td>87.000000</td>\n",
       "      <td>95.400000</td>\n",
       "      <td>100.500000</td>\n",
       "      <td>84.700000</td>\n",
       "      <td>92.300000</td>\n",
       "      <td>48.700000</td>\n",
       "      <td>...</td>\n",
       "      <td>0</td>\n",
       "      <td>1</td>\n",
       "      <td>0</td>\n",
       "      <td>0</td>\n",
       "      <td>0</td>\n",
       "      <td>0</td>\n",
       "      <td>0</td>\n",
       "      <td>0</td>\n",
       "      <td>0</td>\n",
       "      <td>0</td>\n",
       "    </tr>\n",
       "    <tr>\n",
       "      <th>2</th>\n",
       "      <td>9</td>\n",
       "      <td>2024</td>\n",
       "      <td>1725865200</td>\n",
       "      <td>105.000000</td>\n",
       "      <td>83.900000</td>\n",
       "      <td>94.700000</td>\n",
       "      <td>99.900000</td>\n",
       "      <td>81.600000</td>\n",
       "      <td>90.600000</td>\n",
       "      <td>41.700000</td>\n",
       "      <td>...</td>\n",
       "      <td>0</td>\n",
       "      <td>1</td>\n",
       "      <td>0</td>\n",
       "      <td>0</td>\n",
       "      <td>0</td>\n",
       "      <td>0</td>\n",
       "      <td>0</td>\n",
       "      <td>0</td>\n",
       "      <td>0</td>\n",
       "      <td>0</td>\n",
       "    </tr>\n",
       "    <tr>\n",
       "      <th>3</th>\n",
       "      <td>9</td>\n",
       "      <td>2024</td>\n",
       "      <td>1725951600</td>\n",
       "      <td>106.100000</td>\n",
       "      <td>81.200000</td>\n",
       "      <td>93.900000</td>\n",
       "      <td>100.600000</td>\n",
       "      <td>79.500000</td>\n",
       "      <td>89.800000</td>\n",
       "      <td>39.100000</td>\n",
       "      <td>...</td>\n",
       "      <td>0</td>\n",
       "      <td>1</td>\n",
       "      <td>0</td>\n",
       "      <td>0</td>\n",
       "      <td>0</td>\n",
       "      <td>0</td>\n",
       "      <td>0</td>\n",
       "      <td>0</td>\n",
       "      <td>0</td>\n",
       "      <td>0</td>\n",
       "    </tr>\n",
       "    <tr>\n",
       "      <th>4</th>\n",
       "      <td>9</td>\n",
       "      <td>2024</td>\n",
       "      <td>1726038000</td>\n",
       "      <td>106.100000</td>\n",
       "      <td>82.100000</td>\n",
       "      <td>94.000000</td>\n",
       "      <td>101.000000</td>\n",
       "      <td>80.000000</td>\n",
       "      <td>90.000000</td>\n",
       "      <td>40.100000</td>\n",
       "      <td>...</td>\n",
       "      <td>0</td>\n",
       "      <td>1</td>\n",
       "      <td>0</td>\n",
       "      <td>0</td>\n",
       "      <td>0</td>\n",
       "      <td>0</td>\n",
       "      <td>0</td>\n",
       "      <td>0</td>\n",
       "      <td>0</td>\n",
       "      <td>0</td>\n",
       "    </tr>\n",
       "    <tr>\n",
       "      <th>...</th>\n",
       "      <td>...</td>\n",
       "      <td>...</td>\n",
       "      <td>...</td>\n",
       "      <td>...</td>\n",
       "      <td>...</td>\n",
       "      <td>...</td>\n",
       "      <td>...</td>\n",
       "      <td>...</td>\n",
       "      <td>...</td>\n",
       "      <td>...</td>\n",
       "      <td>...</td>\n",
       "      <td>...</td>\n",
       "      <td>...</td>\n",
       "      <td>...</td>\n",
       "      <td>...</td>\n",
       "      <td>...</td>\n",
       "      <td>...</td>\n",
       "      <td>...</td>\n",
       "      <td>...</td>\n",
       "      <td>...</td>\n",
       "      <td>...</td>\n",
       "    </tr>\n",
       "    <tr>\n",
       "      <th>995</th>\n",
       "      <td>9</td>\n",
       "      <td>2024</td>\n",
       "      <td>1726632592</td>\n",
       "      <td>76.060546</td>\n",
       "      <td>64.359387</td>\n",
       "      <td>69.002142</td>\n",
       "      <td>77.673823</td>\n",
       "      <td>63.510920</td>\n",
       "      <td>67.003338</td>\n",
       "      <td>59.936776</td>\n",
       "      <td>...</td>\n",
       "      <td>0</td>\n",
       "      <td>0</td>\n",
       "      <td>0</td>\n",
       "      <td>0</td>\n",
       "      <td>0</td>\n",
       "      <td>0</td>\n",
       "      <td>0</td>\n",
       "      <td>0</td>\n",
       "      <td>0</td>\n",
       "      <td>1</td>\n",
       "    </tr>\n",
       "    <tr>\n",
       "      <th>996</th>\n",
       "      <td>9</td>\n",
       "      <td>2024</td>\n",
       "      <td>1726550178</td>\n",
       "      <td>68.409198</td>\n",
       "      <td>65.939319</td>\n",
       "      <td>66.567410</td>\n",
       "      <td>68.956722</td>\n",
       "      <td>64.805635</td>\n",
       "      <td>65.992526</td>\n",
       "      <td>59.010257</td>\n",
       "      <td>...</td>\n",
       "      <td>0</td>\n",
       "      <td>1</td>\n",
       "      <td>0</td>\n",
       "      <td>0</td>\n",
       "      <td>0</td>\n",
       "      <td>0</td>\n",
       "      <td>0</td>\n",
       "      <td>0</td>\n",
       "      <td>0</td>\n",
       "      <td>0</td>\n",
       "    </tr>\n",
       "    <tr>\n",
       "      <th>997</th>\n",
       "      <td>9</td>\n",
       "      <td>2024</td>\n",
       "      <td>1726121998</td>\n",
       "      <td>69.756690</td>\n",
       "      <td>65.286919</td>\n",
       "      <td>65.919492</td>\n",
       "      <td>68.158536</td>\n",
       "      <td>63.662942</td>\n",
       "      <td>67.313322</td>\n",
       "      <td>62.024442</td>\n",
       "      <td>...</td>\n",
       "      <td>0</td>\n",
       "      <td>0</td>\n",
       "      <td>0</td>\n",
       "      <td>0</td>\n",
       "      <td>0</td>\n",
       "      <td>0</td>\n",
       "      <td>0</td>\n",
       "      <td>0</td>\n",
       "      <td>0</td>\n",
       "      <td>1</td>\n",
       "    </tr>\n",
       "    <tr>\n",
       "      <th>998</th>\n",
       "      <td>9</td>\n",
       "      <td>2024</td>\n",
       "      <td>1726283774</td>\n",
       "      <td>77.106797</td>\n",
       "      <td>61.481724</td>\n",
       "      <td>68.106569</td>\n",
       "      <td>76.426959</td>\n",
       "      <td>60.901526</td>\n",
       "      <td>68.094309</td>\n",
       "      <td>63.169608</td>\n",
       "      <td>...</td>\n",
       "      <td>0</td>\n",
       "      <td>1</td>\n",
       "      <td>0</td>\n",
       "      <td>0</td>\n",
       "      <td>0</td>\n",
       "      <td>0</td>\n",
       "      <td>0</td>\n",
       "      <td>0</td>\n",
       "      <td>0</td>\n",
       "      <td>0</td>\n",
       "    </tr>\n",
       "    <tr>\n",
       "      <th>999</th>\n",
       "      <td>9</td>\n",
       "      <td>2024</td>\n",
       "      <td>1726618425</td>\n",
       "      <td>90.923080</td>\n",
       "      <td>79.296868</td>\n",
       "      <td>81.636991</td>\n",
       "      <td>94.180423</td>\n",
       "      <td>78.071851</td>\n",
       "      <td>84.987113</td>\n",
       "      <td>73.393045</td>\n",
       "      <td>...</td>\n",
       "      <td>1</td>\n",
       "      <td>0</td>\n",
       "      <td>0</td>\n",
       "      <td>0</td>\n",
       "      <td>0</td>\n",
       "      <td>0</td>\n",
       "      <td>0</td>\n",
       "      <td>0</td>\n",
       "      <td>0</td>\n",
       "      <td>0</td>\n",
       "    </tr>\n",
       "  </tbody>\n",
       "</table>\n",
       "<p>1000 rows × 96 columns</p>\n",
       "</div>"
      ],
      "text/plain": [
       "     monthtime  yeartime  datetimeEpoch     tempmax    tempmin       temp  \\\n",
       "0            9      2024     1725692400  106.100000  91.000000  98.500000   \n",
       "1            9      2024     1725778800  103.900000  87.000000  95.400000   \n",
       "2            9      2024     1725865200  105.000000  83.900000  94.700000   \n",
       "3            9      2024     1725951600  106.100000  81.200000  93.900000   \n",
       "4            9      2024     1726038000  106.100000  82.100000  94.000000   \n",
       "..         ...       ...            ...         ...        ...        ...   \n",
       "995          9      2024     1726632592   76.060546  64.359387  69.002142   \n",
       "996          9      2024     1726550178   68.409198  65.939319  66.567410   \n",
       "997          9      2024     1726121998   69.756690  65.286919  65.919492   \n",
       "998          9      2024     1726283774   77.106797  61.481724  68.106569   \n",
       "999          9      2024     1726618425   90.923080  79.296868  81.636991   \n",
       "\n",
       "     feelslikemax  feelslikemin  feelslike        dew  ...  \\\n",
       "0      104.000000     88.100000  95.900000  51.500000  ...   \n",
       "1      100.500000     84.700000  92.300000  48.700000  ...   \n",
       "2       99.900000     81.600000  90.600000  41.700000  ...   \n",
       "3      100.600000     79.500000  89.800000  39.100000  ...   \n",
       "4      101.000000     80.000000  90.000000  40.100000  ...   \n",
       "..            ...           ...        ...        ...  ...   \n",
       "995     77.673823     63.510920  67.003338  59.936776  ...   \n",
       "996     68.956722     64.805635  65.992526  59.010257  ...   \n",
       "997     68.158536     63.662942  67.313322  62.024442  ...   \n",
       "998     76.426959     60.901526  68.094309  63.169608  ...   \n",
       "999     94.180423     78.071851  84.987113  73.393045  ...   \n",
       "\n",
       "     description_Clear conditions throughout the day with storms possible.  \\\n",
       "0                                                    0                       \n",
       "1                                                    0                       \n",
       "2                                                    0                       \n",
       "3                                                    0                       \n",
       "4                                                    0                       \n",
       "..                                                 ...                       \n",
       "995                                                  0                       \n",
       "996                                                  0                       \n",
       "997                                                  0                       \n",
       "998                                                  0                       \n",
       "999                                                  1                       \n",
       "\n",
       "     description_Clear conditions throughout the day.  \\\n",
       "0                                                   0   \n",
       "1                                                   1   \n",
       "2                                                   1   \n",
       "3                                                   1   \n",
       "4                                                   1   \n",
       "..                                                ...   \n",
       "995                                                 0   \n",
       "996                                                 1   \n",
       "997                                                 0   \n",
       "998                                                 1   \n",
       "999                                                 0   \n",
       "\n",
       "     description_Clearing in the afternoon.  \\\n",
       "0                                         0   \n",
       "1                                         0   \n",
       "2                                         0   \n",
       "3                                         0   \n",
       "4                                         0   \n",
       "..                                      ...   \n",
       "995                                       0   \n",
       "996                                       0   \n",
       "997                                       0   \n",
       "998                                       0   \n",
       "999                                       0   \n",
       "\n",
       "     description_Cloudy skies throughout the day.  \\\n",
       "0                                               0   \n",
       "1                                               0   \n",
       "2                                               0   \n",
       "3                                               0   \n",
       "4                                               0   \n",
       "..                                            ...   \n",
       "995                                             0   \n",
       "996                                             0   \n",
       "997                                             0   \n",
       "998                                             0   \n",
       "999                                             0   \n",
       "\n",
       "     description_Partly cloudy throughout the day with a chance of rain throughout the day.  \\\n",
       "0                                                    0                                        \n",
       "1                                                    0                                        \n",
       "2                                                    0                                        \n",
       "3                                                    0                                        \n",
       "4                                                    0                                        \n",
       "..                                                 ...                                        \n",
       "995                                                  0                                        \n",
       "996                                                  0                                        \n",
       "997                                                  0                                        \n",
       "998                                                  0                                        \n",
       "999                                                  0                                        \n",
       "\n",
       "     description_Partly cloudy throughout the day with a chance of rain.  \\\n",
       "0                                                    0                     \n",
       "1                                                    0                     \n",
       "2                                                    0                     \n",
       "3                                                    0                     \n",
       "4                                                    0                     \n",
       "..                                                 ...                     \n",
       "995                                                  0                     \n",
       "996                                                  0                     \n",
       "997                                                  0                     \n",
       "998                                                  0                     \n",
       "999                                                  0                     \n",
       "\n",
       "     description_Partly cloudy throughout the day with afternoon rain.  \\\n",
       "0                                                    0                   \n",
       "1                                                    0                   \n",
       "2                                                    0                   \n",
       "3                                                    0                   \n",
       "4                                                    0                   \n",
       "..                                                 ...                   \n",
       "995                                                  0                   \n",
       "996                                                  0                   \n",
       "997                                                  0                   \n",
       "998                                                  0                   \n",
       "999                                                  0                   \n",
       "\n",
       "     description_Partly cloudy throughout the day with rain in the morning and afternoon.  \\\n",
       "0                                                    0                                      \n",
       "1                                                    0                                      \n",
       "2                                                    0                                      \n",
       "3                                                    0                                      \n",
       "4                                                    0                                      \n",
       "..                                                 ...                                      \n",
       "995                                                  0                                      \n",
       "996                                                  0                                      \n",
       "997                                                  0                                      \n",
       "998                                                  0                                      \n",
       "999                                                  0                                      \n",
       "\n",
       "     description_Partly cloudy throughout the day with storms possible.  \\\n",
       "0                                                    0                    \n",
       "1                                                    0                    \n",
       "2                                                    0                    \n",
       "3                                                    0                    \n",
       "4                                                    0                    \n",
       "..                                                 ...                    \n",
       "995                                                  0                    \n",
       "996                                                  0                    \n",
       "997                                                  0                    \n",
       "998                                                  0                    \n",
       "999                                                  0                    \n",
       "\n",
       "     description_Partly cloudy throughout the day.  \n",
       "0                                                1  \n",
       "1                                                0  \n",
       "2                                                0  \n",
       "3                                                0  \n",
       "4                                                0  \n",
       "..                                             ...  \n",
       "995                                              1  \n",
       "996                                              0  \n",
       "997                                              1  \n",
       "998                                              0  \n",
       "999                                              0  \n",
       "\n",
       "[1000 rows x 96 columns]"
      ]
     },
     "execution_count": 293,
     "metadata": {},
     "output_type": "execute_result"
    }
   ],
   "source": [
    "df=pd.get_dummies(df, columns=['description'], dtype=int)\n",
    "df"
   ]
  },
  {
   "cell_type": "markdown",
   "id": "04e25ca2-c666-4f47-acf4-b8c6f9ef31fc",
   "metadata": {},
   "source": [
    "### 3.34 icons"
   ]
  },
  {
   "cell_type": "code",
   "execution_count": 294,
   "id": "6595b675-0d5d-48ff-a5ae-fafad8db97c7",
   "metadata": {},
   "outputs": [
    {
     "data": {
      "text/plain": [
       "0      partly-cloudy-day\n",
       "1              clear-day\n",
       "2              clear-day\n",
       "3              clear-day\n",
       "4              clear-day\n",
       "             ...        \n",
       "995    partly-cloudy-day\n",
       "996            clear-day\n",
       "997    partly-cloudy-day\n",
       "998            clear-day\n",
       "999            clear-day\n",
       "Name: icon, Length: 1000, dtype: object"
      ]
     },
     "execution_count": 294,
     "metadata": {},
     "output_type": "execute_result"
    }
   ],
   "source": [
    "df['icon']"
   ]
  },
  {
   "cell_type": "code",
   "execution_count": 295,
   "id": "07f1e15d-8a77-41a4-b072-0262ba5360db",
   "metadata": {},
   "outputs": [
    {
     "data": {
      "text/plain": [
       "icon\n",
       "clear-day            569\n",
       "partly-cloudy-day    363\n",
       "rain                  55\n",
       "cloudy                13\n",
       "Name: count, dtype: int64"
      ]
     },
     "execution_count": 295,
     "metadata": {},
     "output_type": "execute_result"
    }
   ],
   "source": [
    "df['icon'].value_counts()"
   ]
  },
  {
   "cell_type": "code",
   "execution_count": 296,
   "id": "8b8f2fc7-2f76-4ef7-9e8b-050f3eba59f6",
   "metadata": {},
   "outputs": [
    {
     "name": "stdout",
     "output_type": "stream",
     "text": [
      "<class 'pandas.core.series.Series'>\n",
      "RangeIndex: 1000 entries, 0 to 999\n",
      "Series name: icon\n",
      "Non-Null Count  Dtype \n",
      "--------------  ----- \n",
      "1000 non-null   object\n",
      "dtypes: object(1)\n",
      "memory usage: 7.9+ KB\n"
     ]
    }
   ],
   "source": [
    "df['icon'].info()"
   ]
  },
  {
   "cell_type": "code",
   "execution_count": 297,
   "id": "987d6cf6-38d5-4759-b695-004b54c1fe4a",
   "metadata": {},
   "outputs": [
    {
     "data": {
      "text/html": [
       "<div>\n",
       "<style scoped>\n",
       "    .dataframe tbody tr th:only-of-type {\n",
       "        vertical-align: middle;\n",
       "    }\n",
       "\n",
       "    .dataframe tbody tr th {\n",
       "        vertical-align: top;\n",
       "    }\n",
       "\n",
       "    .dataframe thead th {\n",
       "        text-align: right;\n",
       "    }\n",
       "</style>\n",
       "<table border=\"1\" class=\"dataframe\">\n",
       "  <thead>\n",
       "    <tr style=\"text-align: right;\">\n",
       "      <th></th>\n",
       "      <th>monthtime</th>\n",
       "      <th>yeartime</th>\n",
       "      <th>datetimeEpoch</th>\n",
       "      <th>tempmax</th>\n",
       "      <th>tempmin</th>\n",
       "      <th>temp</th>\n",
       "      <th>feelslikemax</th>\n",
       "      <th>feelslikemin</th>\n",
       "      <th>feelslike</th>\n",
       "      <th>dew</th>\n",
       "      <th>...</th>\n",
       "      <th>description_Partly cloudy throughout the day with a chance of rain throughout the day.</th>\n",
       "      <th>description_Partly cloudy throughout the day with a chance of rain.</th>\n",
       "      <th>description_Partly cloudy throughout the day with afternoon rain.</th>\n",
       "      <th>description_Partly cloudy throughout the day with rain in the morning and afternoon.</th>\n",
       "      <th>description_Partly cloudy throughout the day with storms possible.</th>\n",
       "      <th>description_Partly cloudy throughout the day.</th>\n",
       "      <th>icon_clear-day</th>\n",
       "      <th>icon_cloudy</th>\n",
       "      <th>icon_partly-cloudy-day</th>\n",
       "      <th>icon_rain</th>\n",
       "    </tr>\n",
       "  </thead>\n",
       "  <tbody>\n",
       "    <tr>\n",
       "      <th>0</th>\n",
       "      <td>9</td>\n",
       "      <td>2024</td>\n",
       "      <td>1725692400</td>\n",
       "      <td>106.100000</td>\n",
       "      <td>91.000000</td>\n",
       "      <td>98.500000</td>\n",
       "      <td>104.000000</td>\n",
       "      <td>88.100000</td>\n",
       "      <td>95.900000</td>\n",
       "      <td>51.500000</td>\n",
       "      <td>...</td>\n",
       "      <td>0</td>\n",
       "      <td>0</td>\n",
       "      <td>0</td>\n",
       "      <td>0</td>\n",
       "      <td>0</td>\n",
       "      <td>1</td>\n",
       "      <td>0</td>\n",
       "      <td>0</td>\n",
       "      <td>1</td>\n",
       "      <td>0</td>\n",
       "    </tr>\n",
       "    <tr>\n",
       "      <th>1</th>\n",
       "      <td>9</td>\n",
       "      <td>2024</td>\n",
       "      <td>1725778800</td>\n",
       "      <td>103.900000</td>\n",
       "      <td>87.000000</td>\n",
       "      <td>95.400000</td>\n",
       "      <td>100.500000</td>\n",
       "      <td>84.700000</td>\n",
       "      <td>92.300000</td>\n",
       "      <td>48.700000</td>\n",
       "      <td>...</td>\n",
       "      <td>0</td>\n",
       "      <td>0</td>\n",
       "      <td>0</td>\n",
       "      <td>0</td>\n",
       "      <td>0</td>\n",
       "      <td>0</td>\n",
       "      <td>1</td>\n",
       "      <td>0</td>\n",
       "      <td>0</td>\n",
       "      <td>0</td>\n",
       "    </tr>\n",
       "    <tr>\n",
       "      <th>2</th>\n",
       "      <td>9</td>\n",
       "      <td>2024</td>\n",
       "      <td>1725865200</td>\n",
       "      <td>105.000000</td>\n",
       "      <td>83.900000</td>\n",
       "      <td>94.700000</td>\n",
       "      <td>99.900000</td>\n",
       "      <td>81.600000</td>\n",
       "      <td>90.600000</td>\n",
       "      <td>41.700000</td>\n",
       "      <td>...</td>\n",
       "      <td>0</td>\n",
       "      <td>0</td>\n",
       "      <td>0</td>\n",
       "      <td>0</td>\n",
       "      <td>0</td>\n",
       "      <td>0</td>\n",
       "      <td>1</td>\n",
       "      <td>0</td>\n",
       "      <td>0</td>\n",
       "      <td>0</td>\n",
       "    </tr>\n",
       "    <tr>\n",
       "      <th>3</th>\n",
       "      <td>9</td>\n",
       "      <td>2024</td>\n",
       "      <td>1725951600</td>\n",
       "      <td>106.100000</td>\n",
       "      <td>81.200000</td>\n",
       "      <td>93.900000</td>\n",
       "      <td>100.600000</td>\n",
       "      <td>79.500000</td>\n",
       "      <td>89.800000</td>\n",
       "      <td>39.100000</td>\n",
       "      <td>...</td>\n",
       "      <td>0</td>\n",
       "      <td>0</td>\n",
       "      <td>0</td>\n",
       "      <td>0</td>\n",
       "      <td>0</td>\n",
       "      <td>0</td>\n",
       "      <td>1</td>\n",
       "      <td>0</td>\n",
       "      <td>0</td>\n",
       "      <td>0</td>\n",
       "    </tr>\n",
       "    <tr>\n",
       "      <th>4</th>\n",
       "      <td>9</td>\n",
       "      <td>2024</td>\n",
       "      <td>1726038000</td>\n",
       "      <td>106.100000</td>\n",
       "      <td>82.100000</td>\n",
       "      <td>94.000000</td>\n",
       "      <td>101.000000</td>\n",
       "      <td>80.000000</td>\n",
       "      <td>90.000000</td>\n",
       "      <td>40.100000</td>\n",
       "      <td>...</td>\n",
       "      <td>0</td>\n",
       "      <td>0</td>\n",
       "      <td>0</td>\n",
       "      <td>0</td>\n",
       "      <td>0</td>\n",
       "      <td>0</td>\n",
       "      <td>1</td>\n",
       "      <td>0</td>\n",
       "      <td>0</td>\n",
       "      <td>0</td>\n",
       "    </tr>\n",
       "    <tr>\n",
       "      <th>...</th>\n",
       "      <td>...</td>\n",
       "      <td>...</td>\n",
       "      <td>...</td>\n",
       "      <td>...</td>\n",
       "      <td>...</td>\n",
       "      <td>...</td>\n",
       "      <td>...</td>\n",
       "      <td>...</td>\n",
       "      <td>...</td>\n",
       "      <td>...</td>\n",
       "      <td>...</td>\n",
       "      <td>...</td>\n",
       "      <td>...</td>\n",
       "      <td>...</td>\n",
       "      <td>...</td>\n",
       "      <td>...</td>\n",
       "      <td>...</td>\n",
       "      <td>...</td>\n",
       "      <td>...</td>\n",
       "      <td>...</td>\n",
       "      <td>...</td>\n",
       "    </tr>\n",
       "    <tr>\n",
       "      <th>995</th>\n",
       "      <td>9</td>\n",
       "      <td>2024</td>\n",
       "      <td>1726632592</td>\n",
       "      <td>76.060546</td>\n",
       "      <td>64.359387</td>\n",
       "      <td>69.002142</td>\n",
       "      <td>77.673823</td>\n",
       "      <td>63.510920</td>\n",
       "      <td>67.003338</td>\n",
       "      <td>59.936776</td>\n",
       "      <td>...</td>\n",
       "      <td>0</td>\n",
       "      <td>0</td>\n",
       "      <td>0</td>\n",
       "      <td>0</td>\n",
       "      <td>0</td>\n",
       "      <td>1</td>\n",
       "      <td>0</td>\n",
       "      <td>0</td>\n",
       "      <td>1</td>\n",
       "      <td>0</td>\n",
       "    </tr>\n",
       "    <tr>\n",
       "      <th>996</th>\n",
       "      <td>9</td>\n",
       "      <td>2024</td>\n",
       "      <td>1726550178</td>\n",
       "      <td>68.409198</td>\n",
       "      <td>65.939319</td>\n",
       "      <td>66.567410</td>\n",
       "      <td>68.956722</td>\n",
       "      <td>64.805635</td>\n",
       "      <td>65.992526</td>\n",
       "      <td>59.010257</td>\n",
       "      <td>...</td>\n",
       "      <td>0</td>\n",
       "      <td>0</td>\n",
       "      <td>0</td>\n",
       "      <td>0</td>\n",
       "      <td>0</td>\n",
       "      <td>0</td>\n",
       "      <td>1</td>\n",
       "      <td>0</td>\n",
       "      <td>0</td>\n",
       "      <td>0</td>\n",
       "    </tr>\n",
       "    <tr>\n",
       "      <th>997</th>\n",
       "      <td>9</td>\n",
       "      <td>2024</td>\n",
       "      <td>1726121998</td>\n",
       "      <td>69.756690</td>\n",
       "      <td>65.286919</td>\n",
       "      <td>65.919492</td>\n",
       "      <td>68.158536</td>\n",
       "      <td>63.662942</td>\n",
       "      <td>67.313322</td>\n",
       "      <td>62.024442</td>\n",
       "      <td>...</td>\n",
       "      <td>0</td>\n",
       "      <td>0</td>\n",
       "      <td>0</td>\n",
       "      <td>0</td>\n",
       "      <td>0</td>\n",
       "      <td>1</td>\n",
       "      <td>0</td>\n",
       "      <td>0</td>\n",
       "      <td>1</td>\n",
       "      <td>0</td>\n",
       "    </tr>\n",
       "    <tr>\n",
       "      <th>998</th>\n",
       "      <td>9</td>\n",
       "      <td>2024</td>\n",
       "      <td>1726283774</td>\n",
       "      <td>77.106797</td>\n",
       "      <td>61.481724</td>\n",
       "      <td>68.106569</td>\n",
       "      <td>76.426959</td>\n",
       "      <td>60.901526</td>\n",
       "      <td>68.094309</td>\n",
       "      <td>63.169608</td>\n",
       "      <td>...</td>\n",
       "      <td>0</td>\n",
       "      <td>0</td>\n",
       "      <td>0</td>\n",
       "      <td>0</td>\n",
       "      <td>0</td>\n",
       "      <td>0</td>\n",
       "      <td>1</td>\n",
       "      <td>0</td>\n",
       "      <td>0</td>\n",
       "      <td>0</td>\n",
       "    </tr>\n",
       "    <tr>\n",
       "      <th>999</th>\n",
       "      <td>9</td>\n",
       "      <td>2024</td>\n",
       "      <td>1726618425</td>\n",
       "      <td>90.923080</td>\n",
       "      <td>79.296868</td>\n",
       "      <td>81.636991</td>\n",
       "      <td>94.180423</td>\n",
       "      <td>78.071851</td>\n",
       "      <td>84.987113</td>\n",
       "      <td>73.393045</td>\n",
       "      <td>...</td>\n",
       "      <td>0</td>\n",
       "      <td>0</td>\n",
       "      <td>0</td>\n",
       "      <td>0</td>\n",
       "      <td>0</td>\n",
       "      <td>0</td>\n",
       "      <td>1</td>\n",
       "      <td>0</td>\n",
       "      <td>0</td>\n",
       "      <td>0</td>\n",
       "    </tr>\n",
       "  </tbody>\n",
       "</table>\n",
       "<p>1000 rows × 99 columns</p>\n",
       "</div>"
      ],
      "text/plain": [
       "     monthtime  yeartime  datetimeEpoch     tempmax    tempmin       temp  \\\n",
       "0            9      2024     1725692400  106.100000  91.000000  98.500000   \n",
       "1            9      2024     1725778800  103.900000  87.000000  95.400000   \n",
       "2            9      2024     1725865200  105.000000  83.900000  94.700000   \n",
       "3            9      2024     1725951600  106.100000  81.200000  93.900000   \n",
       "4            9      2024     1726038000  106.100000  82.100000  94.000000   \n",
       "..         ...       ...            ...         ...        ...        ...   \n",
       "995          9      2024     1726632592   76.060546  64.359387  69.002142   \n",
       "996          9      2024     1726550178   68.409198  65.939319  66.567410   \n",
       "997          9      2024     1726121998   69.756690  65.286919  65.919492   \n",
       "998          9      2024     1726283774   77.106797  61.481724  68.106569   \n",
       "999          9      2024     1726618425   90.923080  79.296868  81.636991   \n",
       "\n",
       "     feelslikemax  feelslikemin  feelslike        dew  ...  \\\n",
       "0      104.000000     88.100000  95.900000  51.500000  ...   \n",
       "1      100.500000     84.700000  92.300000  48.700000  ...   \n",
       "2       99.900000     81.600000  90.600000  41.700000  ...   \n",
       "3      100.600000     79.500000  89.800000  39.100000  ...   \n",
       "4      101.000000     80.000000  90.000000  40.100000  ...   \n",
       "..            ...           ...        ...        ...  ...   \n",
       "995     77.673823     63.510920  67.003338  59.936776  ...   \n",
       "996     68.956722     64.805635  65.992526  59.010257  ...   \n",
       "997     68.158536     63.662942  67.313322  62.024442  ...   \n",
       "998     76.426959     60.901526  68.094309  63.169608  ...   \n",
       "999     94.180423     78.071851  84.987113  73.393045  ...   \n",
       "\n",
       "     description_Partly cloudy throughout the day with a chance of rain throughout the day.  \\\n",
       "0                                                    0                                        \n",
       "1                                                    0                                        \n",
       "2                                                    0                                        \n",
       "3                                                    0                                        \n",
       "4                                                    0                                        \n",
       "..                                                 ...                                        \n",
       "995                                                  0                                        \n",
       "996                                                  0                                        \n",
       "997                                                  0                                        \n",
       "998                                                  0                                        \n",
       "999                                                  0                                        \n",
       "\n",
       "     description_Partly cloudy throughout the day with a chance of rain.  \\\n",
       "0                                                    0                     \n",
       "1                                                    0                     \n",
       "2                                                    0                     \n",
       "3                                                    0                     \n",
       "4                                                    0                     \n",
       "..                                                 ...                     \n",
       "995                                                  0                     \n",
       "996                                                  0                     \n",
       "997                                                  0                     \n",
       "998                                                  0                     \n",
       "999                                                  0                     \n",
       "\n",
       "     description_Partly cloudy throughout the day with afternoon rain.  \\\n",
       "0                                                    0                   \n",
       "1                                                    0                   \n",
       "2                                                    0                   \n",
       "3                                                    0                   \n",
       "4                                                    0                   \n",
       "..                                                 ...                   \n",
       "995                                                  0                   \n",
       "996                                                  0                   \n",
       "997                                                  0                   \n",
       "998                                                  0                   \n",
       "999                                                  0                   \n",
       "\n",
       "     description_Partly cloudy throughout the day with rain in the morning and afternoon.  \\\n",
       "0                                                    0                                      \n",
       "1                                                    0                                      \n",
       "2                                                    0                                      \n",
       "3                                                    0                                      \n",
       "4                                                    0                                      \n",
       "..                                                 ...                                      \n",
       "995                                                  0                                      \n",
       "996                                                  0                                      \n",
       "997                                                  0                                      \n",
       "998                                                  0                                      \n",
       "999                                                  0                                      \n",
       "\n",
       "     description_Partly cloudy throughout the day with storms possible.  \\\n",
       "0                                                    0                    \n",
       "1                                                    0                    \n",
       "2                                                    0                    \n",
       "3                                                    0                    \n",
       "4                                                    0                    \n",
       "..                                                 ...                    \n",
       "995                                                  0                    \n",
       "996                                                  0                    \n",
       "997                                                  0                    \n",
       "998                                                  0                    \n",
       "999                                                  0                    \n",
       "\n",
       "     description_Partly cloudy throughout the day.  icon_clear-day  \\\n",
       "0                                                1               0   \n",
       "1                                                0               1   \n",
       "2                                                0               1   \n",
       "3                                                0               1   \n",
       "4                                                0               1   \n",
       "..                                             ...             ...   \n",
       "995                                              1               0   \n",
       "996                                              0               1   \n",
       "997                                              1               0   \n",
       "998                                              0               1   \n",
       "999                                              0               1   \n",
       "\n",
       "     icon_cloudy  icon_partly-cloudy-day  icon_rain  \n",
       "0              0                       1          0  \n",
       "1              0                       0          0  \n",
       "2              0                       0          0  \n",
       "3              0                       0          0  \n",
       "4              0                       0          0  \n",
       "..           ...                     ...        ...  \n",
       "995            0                       1          0  \n",
       "996            0                       0          0  \n",
       "997            0                       1          0  \n",
       "998            0                       0          0  \n",
       "999            0                       0          0  \n",
       "\n",
       "[1000 rows x 99 columns]"
      ]
     },
     "execution_count": 297,
     "metadata": {},
     "output_type": "execute_result"
    }
   ],
   "source": [
    "df=pd.get_dummies(df, columns=['icon'],dtype=int)\n",
    "df"
   ]
  },
  {
   "cell_type": "markdown",
   "id": "23ed7f75-ef5b-40f7-8be3-4ef64edf729b",
   "metadata": {},
   "source": [
    "### 3.35 stations"
   ]
  },
  {
   "cell_type": "code",
   "execution_count": 298,
   "id": "388fb15e-29f7-477c-80b5-5119cfb453c5",
   "metadata": {},
   "outputs": [
    {
     "name": "stdout",
     "output_type": "stream",
     "text": [
      "<class 'pandas.core.series.Series'>\n",
      "RangeIndex: 1000 entries, 0 to 999\n",
      "Series name: stations\n",
      "Non-Null Count  Dtype \n",
      "--------------  ----- \n",
      "1000 non-null   object\n",
      "dtypes: object(1)\n",
      "memory usage: 7.9+ KB\n"
     ]
    }
   ],
   "source": [
    "\n",
    "df['stations'].info()"
   ]
  },
  {
   "cell_type": "code",
   "execution_count": 299,
   "id": "8cfa6878-3940-4194-8a64-ebb48bbbb36c",
   "metadata": {},
   "outputs": [
    {
     "data": {
      "text/plain": [
       "stations\n",
       "KSJC KLVK E6873 KHWD KWVI KOAK                188\n",
       "KNZY KSAN E8360 KMYF                          146\n",
       "KORD KMDW F1983 KPWK                          138\n",
       "F8578 KLNC KHQZ KDAL KDFW KGKY KRBD KGPM      122\n",
       "KHHR KBUR KSMO SE428 KLAX F1624 CQ070 KLGB    102\n",
       "KSKF KSSF KSAT F6098                           69\n",
       "KLGA KJRB F1417 KNYC                           67\n",
       "0                                              51\n",
       "KHOU KIAH KMCJ D0326                           51\n",
       "KSDL KDVT AZM15 KPHX                           33\n",
       "KVAY E8199 KPHL KPTW KLOM KPNE KDYL            33\n",
       "Name: count, dtype: int64"
      ]
     },
     "execution_count": 299,
     "metadata": {},
     "output_type": "execute_result"
    }
   ],
   "source": [
    "df['stations'].value_counts()"
   ]
  },
  {
   "cell_type": "code",
   "execution_count": 300,
   "id": "4572133b-9f5a-4482-b6c0-f2d8b5e86e6c",
   "metadata": {},
   "outputs": [
    {
     "data": {
      "text/plain": [
       "0                          KSDL KDVT AZM15 KPHX\n",
       "1                          KSDL KDVT AZM15 KPHX\n",
       "2                          KSDL KDVT AZM15 KPHX\n",
       "3                          KSDL KDVT AZM15 KPHX\n",
       "4                          KSDL KDVT AZM15 KPHX\n",
       "                         ...                   \n",
       "995    F8578 KLNC KHQZ KDAL KDFW KGKY KRBD KGPM\n",
       "996    F8578 KLNC KHQZ KDAL KDFW KGKY KRBD KGPM\n",
       "997    F8578 KLNC KHQZ KDAL KDFW KGKY KRBD KGPM\n",
       "998    F8578 KLNC KHQZ KDAL KDFW KGKY KRBD KGPM\n",
       "999    F8578 KLNC KHQZ KDAL KDFW KGKY KRBD KGPM\n",
       "Name: stations, Length: 1000, dtype: object"
      ]
     },
     "execution_count": 300,
     "metadata": {},
     "output_type": "execute_result"
    }
   ],
   "source": [
    "df['stations']"
   ]
  },
  {
   "cell_type": "code",
   "execution_count": 301,
   "id": "118e2e58-829b-44d9-a93d-22cba95e25e3",
   "metadata": {},
   "outputs": [
    {
     "data": {
      "text/plain": [
       "{'KSJC KLVK E6873 KHWD KWVI KOAK': 188,\n",
       " 'KNZY KSAN E8360 KMYF': 146,\n",
       " 'KORD KMDW F1983 KPWK': 138,\n",
       " 'F8578 KLNC KHQZ KDAL KDFW KGKY KRBD KGPM': 122,\n",
       " 'KHHR KBUR KSMO SE428 KLAX F1624 CQ070 KLGB': 102,\n",
       " 'KSKF KSSF KSAT F6098': 69,\n",
       " 'KLGA KJRB F1417 KNYC': 67,\n",
       " '0': 51,\n",
       " 'KHOU KIAH KMCJ D0326': 51,\n",
       " 'KSDL KDVT AZM15 KPHX': 33,\n",
       " 'KVAY E8199 KPHL KPTW KLOM KPNE KDYL': 33}"
      ]
     },
     "execution_count": 301,
     "metadata": {},
     "output_type": "execute_result"
    }
   ],
   "source": [
    "df['stations'].value_counts().to_dict()"
   ]
  },
  {
   "cell_type": "code",
   "execution_count": 302,
   "id": "db8c21f1-ba80-4911-bb2f-408fb35a5059",
   "metadata": {},
   "outputs": [
    {
     "data": {
      "text/html": [
       "<div>\n",
       "<style scoped>\n",
       "    .dataframe tbody tr th:only-of-type {\n",
       "        vertical-align: middle;\n",
       "    }\n",
       "\n",
       "    .dataframe tbody tr th {\n",
       "        vertical-align: top;\n",
       "    }\n",
       "\n",
       "    .dataframe thead th {\n",
       "        text-align: right;\n",
       "    }\n",
       "</style>\n",
       "<table border=\"1\" class=\"dataframe\">\n",
       "  <thead>\n",
       "    <tr style=\"text-align: right;\">\n",
       "      <th></th>\n",
       "      <th>monthtime</th>\n",
       "      <th>yeartime</th>\n",
       "      <th>datetimeEpoch</th>\n",
       "      <th>tempmax</th>\n",
       "      <th>tempmin</th>\n",
       "      <th>temp</th>\n",
       "      <th>feelslikemax</th>\n",
       "      <th>feelslikemin</th>\n",
       "      <th>feelslike</th>\n",
       "      <th>dew</th>\n",
       "      <th>...</th>\n",
       "      <th>stations_F8578 KLNC KHQZ KDAL KDFW KGKY KRBD KGPM</th>\n",
       "      <th>stations_KHHR KBUR KSMO SE428 KLAX F1624 CQ070 KLGB</th>\n",
       "      <th>stations_KHOU KIAH KMCJ D0326</th>\n",
       "      <th>stations_KLGA KJRB F1417 KNYC</th>\n",
       "      <th>stations_KNZY KSAN E8360 KMYF</th>\n",
       "      <th>stations_KORD KMDW F1983 KPWK</th>\n",
       "      <th>stations_KSDL KDVT AZM15 KPHX</th>\n",
       "      <th>stations_KSJC KLVK E6873 KHWD KWVI KOAK</th>\n",
       "      <th>stations_KSKF KSSF KSAT F6098</th>\n",
       "      <th>stations_KVAY E8199 KPHL KPTW KLOM KPNE KDYL</th>\n",
       "    </tr>\n",
       "  </thead>\n",
       "  <tbody>\n",
       "    <tr>\n",
       "      <th>0</th>\n",
       "      <td>9</td>\n",
       "      <td>2024</td>\n",
       "      <td>1725692400</td>\n",
       "      <td>106.100000</td>\n",
       "      <td>91.000000</td>\n",
       "      <td>98.500000</td>\n",
       "      <td>104.000000</td>\n",
       "      <td>88.100000</td>\n",
       "      <td>95.900000</td>\n",
       "      <td>51.500000</td>\n",
       "      <td>...</td>\n",
       "      <td>0</td>\n",
       "      <td>0</td>\n",
       "      <td>0</td>\n",
       "      <td>0</td>\n",
       "      <td>0</td>\n",
       "      <td>0</td>\n",
       "      <td>1</td>\n",
       "      <td>0</td>\n",
       "      <td>0</td>\n",
       "      <td>0</td>\n",
       "    </tr>\n",
       "    <tr>\n",
       "      <th>1</th>\n",
       "      <td>9</td>\n",
       "      <td>2024</td>\n",
       "      <td>1725778800</td>\n",
       "      <td>103.900000</td>\n",
       "      <td>87.000000</td>\n",
       "      <td>95.400000</td>\n",
       "      <td>100.500000</td>\n",
       "      <td>84.700000</td>\n",
       "      <td>92.300000</td>\n",
       "      <td>48.700000</td>\n",
       "      <td>...</td>\n",
       "      <td>0</td>\n",
       "      <td>0</td>\n",
       "      <td>0</td>\n",
       "      <td>0</td>\n",
       "      <td>0</td>\n",
       "      <td>0</td>\n",
       "      <td>1</td>\n",
       "      <td>0</td>\n",
       "      <td>0</td>\n",
       "      <td>0</td>\n",
       "    </tr>\n",
       "    <tr>\n",
       "      <th>2</th>\n",
       "      <td>9</td>\n",
       "      <td>2024</td>\n",
       "      <td>1725865200</td>\n",
       "      <td>105.000000</td>\n",
       "      <td>83.900000</td>\n",
       "      <td>94.700000</td>\n",
       "      <td>99.900000</td>\n",
       "      <td>81.600000</td>\n",
       "      <td>90.600000</td>\n",
       "      <td>41.700000</td>\n",
       "      <td>...</td>\n",
       "      <td>0</td>\n",
       "      <td>0</td>\n",
       "      <td>0</td>\n",
       "      <td>0</td>\n",
       "      <td>0</td>\n",
       "      <td>0</td>\n",
       "      <td>1</td>\n",
       "      <td>0</td>\n",
       "      <td>0</td>\n",
       "      <td>0</td>\n",
       "    </tr>\n",
       "    <tr>\n",
       "      <th>3</th>\n",
       "      <td>9</td>\n",
       "      <td>2024</td>\n",
       "      <td>1725951600</td>\n",
       "      <td>106.100000</td>\n",
       "      <td>81.200000</td>\n",
       "      <td>93.900000</td>\n",
       "      <td>100.600000</td>\n",
       "      <td>79.500000</td>\n",
       "      <td>89.800000</td>\n",
       "      <td>39.100000</td>\n",
       "      <td>...</td>\n",
       "      <td>0</td>\n",
       "      <td>0</td>\n",
       "      <td>0</td>\n",
       "      <td>0</td>\n",
       "      <td>0</td>\n",
       "      <td>0</td>\n",
       "      <td>1</td>\n",
       "      <td>0</td>\n",
       "      <td>0</td>\n",
       "      <td>0</td>\n",
       "    </tr>\n",
       "    <tr>\n",
       "      <th>4</th>\n",
       "      <td>9</td>\n",
       "      <td>2024</td>\n",
       "      <td>1726038000</td>\n",
       "      <td>106.100000</td>\n",
       "      <td>82.100000</td>\n",
       "      <td>94.000000</td>\n",
       "      <td>101.000000</td>\n",
       "      <td>80.000000</td>\n",
       "      <td>90.000000</td>\n",
       "      <td>40.100000</td>\n",
       "      <td>...</td>\n",
       "      <td>0</td>\n",
       "      <td>0</td>\n",
       "      <td>0</td>\n",
       "      <td>0</td>\n",
       "      <td>0</td>\n",
       "      <td>0</td>\n",
       "      <td>1</td>\n",
       "      <td>0</td>\n",
       "      <td>0</td>\n",
       "      <td>0</td>\n",
       "    </tr>\n",
       "    <tr>\n",
       "      <th>...</th>\n",
       "      <td>...</td>\n",
       "      <td>...</td>\n",
       "      <td>...</td>\n",
       "      <td>...</td>\n",
       "      <td>...</td>\n",
       "      <td>...</td>\n",
       "      <td>...</td>\n",
       "      <td>...</td>\n",
       "      <td>...</td>\n",
       "      <td>...</td>\n",
       "      <td>...</td>\n",
       "      <td>...</td>\n",
       "      <td>...</td>\n",
       "      <td>...</td>\n",
       "      <td>...</td>\n",
       "      <td>...</td>\n",
       "      <td>...</td>\n",
       "      <td>...</td>\n",
       "      <td>...</td>\n",
       "      <td>...</td>\n",
       "      <td>...</td>\n",
       "    </tr>\n",
       "    <tr>\n",
       "      <th>995</th>\n",
       "      <td>9</td>\n",
       "      <td>2024</td>\n",
       "      <td>1726632592</td>\n",
       "      <td>76.060546</td>\n",
       "      <td>64.359387</td>\n",
       "      <td>69.002142</td>\n",
       "      <td>77.673823</td>\n",
       "      <td>63.510920</td>\n",
       "      <td>67.003338</td>\n",
       "      <td>59.936776</td>\n",
       "      <td>...</td>\n",
       "      <td>1</td>\n",
       "      <td>0</td>\n",
       "      <td>0</td>\n",
       "      <td>0</td>\n",
       "      <td>0</td>\n",
       "      <td>0</td>\n",
       "      <td>0</td>\n",
       "      <td>0</td>\n",
       "      <td>0</td>\n",
       "      <td>0</td>\n",
       "    </tr>\n",
       "    <tr>\n",
       "      <th>996</th>\n",
       "      <td>9</td>\n",
       "      <td>2024</td>\n",
       "      <td>1726550178</td>\n",
       "      <td>68.409198</td>\n",
       "      <td>65.939319</td>\n",
       "      <td>66.567410</td>\n",
       "      <td>68.956722</td>\n",
       "      <td>64.805635</td>\n",
       "      <td>65.992526</td>\n",
       "      <td>59.010257</td>\n",
       "      <td>...</td>\n",
       "      <td>1</td>\n",
       "      <td>0</td>\n",
       "      <td>0</td>\n",
       "      <td>0</td>\n",
       "      <td>0</td>\n",
       "      <td>0</td>\n",
       "      <td>0</td>\n",
       "      <td>0</td>\n",
       "      <td>0</td>\n",
       "      <td>0</td>\n",
       "    </tr>\n",
       "    <tr>\n",
       "      <th>997</th>\n",
       "      <td>9</td>\n",
       "      <td>2024</td>\n",
       "      <td>1726121998</td>\n",
       "      <td>69.756690</td>\n",
       "      <td>65.286919</td>\n",
       "      <td>65.919492</td>\n",
       "      <td>68.158536</td>\n",
       "      <td>63.662942</td>\n",
       "      <td>67.313322</td>\n",
       "      <td>62.024442</td>\n",
       "      <td>...</td>\n",
       "      <td>1</td>\n",
       "      <td>0</td>\n",
       "      <td>0</td>\n",
       "      <td>0</td>\n",
       "      <td>0</td>\n",
       "      <td>0</td>\n",
       "      <td>0</td>\n",
       "      <td>0</td>\n",
       "      <td>0</td>\n",
       "      <td>0</td>\n",
       "    </tr>\n",
       "    <tr>\n",
       "      <th>998</th>\n",
       "      <td>9</td>\n",
       "      <td>2024</td>\n",
       "      <td>1726283774</td>\n",
       "      <td>77.106797</td>\n",
       "      <td>61.481724</td>\n",
       "      <td>68.106569</td>\n",
       "      <td>76.426959</td>\n",
       "      <td>60.901526</td>\n",
       "      <td>68.094309</td>\n",
       "      <td>63.169608</td>\n",
       "      <td>...</td>\n",
       "      <td>1</td>\n",
       "      <td>0</td>\n",
       "      <td>0</td>\n",
       "      <td>0</td>\n",
       "      <td>0</td>\n",
       "      <td>0</td>\n",
       "      <td>0</td>\n",
       "      <td>0</td>\n",
       "      <td>0</td>\n",
       "      <td>0</td>\n",
       "    </tr>\n",
       "    <tr>\n",
       "      <th>999</th>\n",
       "      <td>9</td>\n",
       "      <td>2024</td>\n",
       "      <td>1726618425</td>\n",
       "      <td>90.923080</td>\n",
       "      <td>79.296868</td>\n",
       "      <td>81.636991</td>\n",
       "      <td>94.180423</td>\n",
       "      <td>78.071851</td>\n",
       "      <td>84.987113</td>\n",
       "      <td>73.393045</td>\n",
       "      <td>...</td>\n",
       "      <td>1</td>\n",
       "      <td>0</td>\n",
       "      <td>0</td>\n",
       "      <td>0</td>\n",
       "      <td>0</td>\n",
       "      <td>0</td>\n",
       "      <td>0</td>\n",
       "      <td>0</td>\n",
       "      <td>0</td>\n",
       "      <td>0</td>\n",
       "    </tr>\n",
       "  </tbody>\n",
       "</table>\n",
       "<p>1000 rows × 109 columns</p>\n",
       "</div>"
      ],
      "text/plain": [
       "     monthtime  yeartime  datetimeEpoch     tempmax    tempmin       temp  \\\n",
       "0            9      2024     1725692400  106.100000  91.000000  98.500000   \n",
       "1            9      2024     1725778800  103.900000  87.000000  95.400000   \n",
       "2            9      2024     1725865200  105.000000  83.900000  94.700000   \n",
       "3            9      2024     1725951600  106.100000  81.200000  93.900000   \n",
       "4            9      2024     1726038000  106.100000  82.100000  94.000000   \n",
       "..         ...       ...            ...         ...        ...        ...   \n",
       "995          9      2024     1726632592   76.060546  64.359387  69.002142   \n",
       "996          9      2024     1726550178   68.409198  65.939319  66.567410   \n",
       "997          9      2024     1726121998   69.756690  65.286919  65.919492   \n",
       "998          9      2024     1726283774   77.106797  61.481724  68.106569   \n",
       "999          9      2024     1726618425   90.923080  79.296868  81.636991   \n",
       "\n",
       "     feelslikemax  feelslikemin  feelslike        dew  ...  \\\n",
       "0      104.000000     88.100000  95.900000  51.500000  ...   \n",
       "1      100.500000     84.700000  92.300000  48.700000  ...   \n",
       "2       99.900000     81.600000  90.600000  41.700000  ...   \n",
       "3      100.600000     79.500000  89.800000  39.100000  ...   \n",
       "4      101.000000     80.000000  90.000000  40.100000  ...   \n",
       "..            ...           ...        ...        ...  ...   \n",
       "995     77.673823     63.510920  67.003338  59.936776  ...   \n",
       "996     68.956722     64.805635  65.992526  59.010257  ...   \n",
       "997     68.158536     63.662942  67.313322  62.024442  ...   \n",
       "998     76.426959     60.901526  68.094309  63.169608  ...   \n",
       "999     94.180423     78.071851  84.987113  73.393045  ...   \n",
       "\n",
       "     stations_F8578 KLNC KHQZ KDAL KDFW KGKY KRBD KGPM  \\\n",
       "0                                                    0   \n",
       "1                                                    0   \n",
       "2                                                    0   \n",
       "3                                                    0   \n",
       "4                                                    0   \n",
       "..                                                 ...   \n",
       "995                                                  1   \n",
       "996                                                  1   \n",
       "997                                                  1   \n",
       "998                                                  1   \n",
       "999                                                  1   \n",
       "\n",
       "     stations_KHHR KBUR KSMO SE428 KLAX F1624 CQ070 KLGB  \\\n",
       "0                                                    0     \n",
       "1                                                    0     \n",
       "2                                                    0     \n",
       "3                                                    0     \n",
       "4                                                    0     \n",
       "..                                                 ...     \n",
       "995                                                  0     \n",
       "996                                                  0     \n",
       "997                                                  0     \n",
       "998                                                  0     \n",
       "999                                                  0     \n",
       "\n",
       "     stations_KHOU KIAH KMCJ D0326  stations_KLGA KJRB F1417 KNYC  \\\n",
       "0                                0                              0   \n",
       "1                                0                              0   \n",
       "2                                0                              0   \n",
       "3                                0                              0   \n",
       "4                                0                              0   \n",
       "..                             ...                            ...   \n",
       "995                              0                              0   \n",
       "996                              0                              0   \n",
       "997                              0                              0   \n",
       "998                              0                              0   \n",
       "999                              0                              0   \n",
       "\n",
       "     stations_KNZY KSAN E8360 KMYF  stations_KORD KMDW F1983 KPWK  \\\n",
       "0                                0                              0   \n",
       "1                                0                              0   \n",
       "2                                0                              0   \n",
       "3                                0                              0   \n",
       "4                                0                              0   \n",
       "..                             ...                            ...   \n",
       "995                              0                              0   \n",
       "996                              0                              0   \n",
       "997                              0                              0   \n",
       "998                              0                              0   \n",
       "999                              0                              0   \n",
       "\n",
       "     stations_KSDL KDVT AZM15 KPHX  stations_KSJC KLVK E6873 KHWD KWVI KOAK  \\\n",
       "0                                1                                        0   \n",
       "1                                1                                        0   \n",
       "2                                1                                        0   \n",
       "3                                1                                        0   \n",
       "4                                1                                        0   \n",
       "..                             ...                                      ...   \n",
       "995                              0                                        0   \n",
       "996                              0                                        0   \n",
       "997                              0                                        0   \n",
       "998                              0                                        0   \n",
       "999                              0                                        0   \n",
       "\n",
       "     stations_KSKF KSSF KSAT F6098  \\\n",
       "0                                0   \n",
       "1                                0   \n",
       "2                                0   \n",
       "3                                0   \n",
       "4                                0   \n",
       "..                             ...   \n",
       "995                              0   \n",
       "996                              0   \n",
       "997                              0   \n",
       "998                              0   \n",
       "999                              0   \n",
       "\n",
       "     stations_KVAY E8199 KPHL KPTW KLOM KPNE KDYL  \n",
       "0                                               0  \n",
       "1                                               0  \n",
       "2                                               0  \n",
       "3                                               0  \n",
       "4                                               0  \n",
       "..                                            ...  \n",
       "995                                             0  \n",
       "996                                             0  \n",
       "997                                             0  \n",
       "998                                             0  \n",
       "999                                             0  \n",
       "\n",
       "[1000 rows x 109 columns]"
      ]
     },
     "execution_count": 302,
     "metadata": {},
     "output_type": "execute_result"
    }
   ],
   "source": [
    "df=pd.get_dummies(df, columns=['stations'], dtype=int)\n",
    "df"
   ]
  },
  {
   "cell_type": "markdown",
   "id": "5b868858-1912-41e4-9d48-dbb7bb6ce5ed",
   "metadata": {},
   "source": [
    "### 3.36 source"
   ]
  },
  {
   "cell_type": "code",
   "execution_count": 303,
   "id": "04ec1332-df89-443c-9099-b9c2817c06b8",
   "metadata": {},
   "outputs": [
    {
     "name": "stdout",
     "output_type": "stream",
     "text": [
      "<class 'pandas.core.series.Series'>\n",
      "RangeIndex: 1000 entries, 0 to 999\n",
      "Series name: source\n",
      "Non-Null Count  Dtype \n",
      "--------------  ----- \n",
      "1000 non-null   object\n",
      "dtypes: object(1)\n",
      "memory usage: 7.9+ KB\n"
     ]
    }
   ],
   "source": [
    "df['source'].info()"
   ]
  },
  {
   "cell_type": "code",
   "execution_count": 304,
   "id": "ff5c7cf7-4a5c-45cc-b937-129f46df5e17",
   "metadata": {},
   "outputs": [
    {
     "data": {
      "text/plain": [
       "{'fcst': 933, 'comb': 67}"
      ]
     },
     "execution_count": 304,
     "metadata": {},
     "output_type": "execute_result"
    }
   ],
   "source": [
    "df['source'].value_counts().to_dict()"
   ]
  },
  {
   "cell_type": "code",
   "execution_count": 305,
   "id": "d19fc48d-35a5-4edc-b0a4-93ad428ad9b2",
   "metadata": {},
   "outputs": [
    {
     "data": {
      "text/plain": [
       "0      comb\n",
       "1      fcst\n",
       "2      fcst\n",
       "3      fcst\n",
       "4      fcst\n",
       "       ... \n",
       "995    fcst\n",
       "996    fcst\n",
       "997    fcst\n",
       "998    fcst\n",
       "999    fcst\n",
       "Name: source, Length: 1000, dtype: object"
      ]
     },
     "execution_count": 305,
     "metadata": {},
     "output_type": "execute_result"
    }
   ],
   "source": [
    "df['source']"
   ]
  },
  {
   "cell_type": "code",
   "execution_count": 306,
   "id": "63c1f79d-7e36-4f00-a6c0-c52e7989e7c1",
   "metadata": {},
   "outputs": [
    {
     "data": {
      "text/plain": [
       "0      2\n",
       "1      1\n",
       "2      1\n",
       "3      1\n",
       "4      1\n",
       "      ..\n",
       "995    1\n",
       "996    1\n",
       "997    1\n",
       "998    1\n",
       "999    1\n",
       "Name: source, Length: 1000, dtype: int64"
      ]
     },
     "execution_count": 306,
     "metadata": {},
     "output_type": "execute_result"
    }
   ],
   "source": [
    "df['source'].replace({'fcst':1, 'comb':2}, inplace=True)\n",
    "df['source']"
   ]
  },
  {
   "cell_type": "code",
   "execution_count": 307,
   "id": "d77c59cd-06b5-4713-b3a8-7bb518389a91",
   "metadata": {},
   "outputs": [
    {
     "data": {
      "text/plain": [
       "source\n",
       "1    933\n",
       "2     67\n",
       "Name: count, dtype: int64"
      ]
     },
     "execution_count": 307,
     "metadata": {},
     "output_type": "execute_result"
    }
   ],
   "source": [
    "df['source'].value_counts()"
   ]
  },
  {
   "cell_type": "markdown",
   "id": "39e52864-99c6-4c5d-a029-27b760d74907",
   "metadata": {},
   "source": [
    "### 3.37 city"
   ]
  },
  {
   "cell_type": "code",
   "execution_count": 308,
   "id": "4c06bcd0-a950-415f-9cc1-f787cb4a72a2",
   "metadata": {},
   "outputs": [
    {
     "name": "stdout",
     "output_type": "stream",
     "text": [
      "<class 'pandas.core.series.Series'>\n",
      "RangeIndex: 1000 entries, 0 to 999\n",
      "Series name: City\n",
      "Non-Null Count  Dtype \n",
      "--------------  ----- \n",
      "1000 non-null   object\n",
      "dtypes: object(1)\n",
      "memory usage: 7.9+ KB\n"
     ]
    }
   ],
   "source": [
    "\n",
    "df['City'].info()"
   ]
  },
  {
   "cell_type": "code",
   "execution_count": 309,
   "id": "0758a7eb-7371-4e11-8018-6dee45837d77",
   "metadata": {},
   "outputs": [
    {
     "data": {
      "text/plain": [
       "City\n",
       "Chicago          131\n",
       "New York City    113\n",
       "Dallas           106\n",
       "Phoenix          106\n",
       "Philadelphia      94\n",
       "Los Angeles       93\n",
       "San Diego         93\n",
       "San Jose          90\n",
       "Houston           89\n",
       "San Antonio       85\n",
       "Name: count, dtype: int64"
      ]
     },
     "execution_count": 309,
     "metadata": {},
     "output_type": "execute_result"
    }
   ],
   "source": [
    "df['City'].value_counts()"
   ]
  },
  {
   "cell_type": "code",
   "execution_count": 310,
   "id": "2aa63538-8367-4055-88ba-e4134cdd7ed1",
   "metadata": {},
   "outputs": [
    {
     "data": {
      "text/plain": [
       "0           Phoenix\n",
       "1           Phoenix\n",
       "2           Phoenix\n",
       "3           Phoenix\n",
       "4           Phoenix\n",
       "           ...     \n",
       "995    Philadelphia\n",
       "996       San Diego\n",
       "997       San Diego\n",
       "998     Los Angeles\n",
       "999         Houston\n",
       "Name: City, Length: 1000, dtype: object"
      ]
     },
     "execution_count": 310,
     "metadata": {},
     "output_type": "execute_result"
    }
   ],
   "source": [
    "df['City']"
   ]
  },
  {
   "cell_type": "code",
   "execution_count": 311,
   "id": "e9adac25-e2c5-441a-94aa-e3d590fcc0c4",
   "metadata": {},
   "outputs": [
    {
     "data": {
      "text/plain": [
       "{'Chicago': 131,\n",
       " 'New York City': 113,\n",
       " 'Dallas': 106,\n",
       " 'Phoenix': 106,\n",
       " 'Philadelphia': 94,\n",
       " 'Los Angeles': 93,\n",
       " 'San Diego': 93,\n",
       " 'San Jose': 90,\n",
       " 'Houston': 89,\n",
       " 'San Antonio': 85}"
      ]
     },
     "execution_count": 311,
     "metadata": {},
     "output_type": "execute_result"
    }
   ],
   "source": [
    "df['City'].value_counts().to_dict()"
   ]
  },
  {
   "cell_type": "code",
   "execution_count": 312,
   "id": "3fa4602c-0e3f-419c-bbf1-f925b0922512",
   "metadata": {},
   "outputs": [
    {
     "data": {
      "text/html": [
       "<div>\n",
       "<style scoped>\n",
       "    .dataframe tbody tr th:only-of-type {\n",
       "        vertical-align: middle;\n",
       "    }\n",
       "\n",
       "    .dataframe tbody tr th {\n",
       "        vertical-align: top;\n",
       "    }\n",
       "\n",
       "    .dataframe thead th {\n",
       "        text-align: right;\n",
       "    }\n",
       "</style>\n",
       "<table border=\"1\" class=\"dataframe\">\n",
       "  <thead>\n",
       "    <tr style=\"text-align: right;\">\n",
       "      <th></th>\n",
       "      <th>monthtime</th>\n",
       "      <th>yeartime</th>\n",
       "      <th>datetimeEpoch</th>\n",
       "      <th>tempmax</th>\n",
       "      <th>tempmin</th>\n",
       "      <th>temp</th>\n",
       "      <th>feelslikemax</th>\n",
       "      <th>feelslikemin</th>\n",
       "      <th>feelslike</th>\n",
       "      <th>dew</th>\n",
       "      <th>...</th>\n",
       "      <th>City_Chicago</th>\n",
       "      <th>City_Dallas</th>\n",
       "      <th>City_Houston</th>\n",
       "      <th>City_Los Angeles</th>\n",
       "      <th>City_New York City</th>\n",
       "      <th>City_Philadelphia</th>\n",
       "      <th>City_Phoenix</th>\n",
       "      <th>City_San Antonio</th>\n",
       "      <th>City_San Diego</th>\n",
       "      <th>City_San Jose</th>\n",
       "    </tr>\n",
       "  </thead>\n",
       "  <tbody>\n",
       "    <tr>\n",
       "      <th>0</th>\n",
       "      <td>9</td>\n",
       "      <td>2024</td>\n",
       "      <td>1725692400</td>\n",
       "      <td>106.100000</td>\n",
       "      <td>91.000000</td>\n",
       "      <td>98.500000</td>\n",
       "      <td>104.000000</td>\n",
       "      <td>88.100000</td>\n",
       "      <td>95.900000</td>\n",
       "      <td>51.500000</td>\n",
       "      <td>...</td>\n",
       "      <td>0</td>\n",
       "      <td>0</td>\n",
       "      <td>0</td>\n",
       "      <td>0</td>\n",
       "      <td>0</td>\n",
       "      <td>0</td>\n",
       "      <td>1</td>\n",
       "      <td>0</td>\n",
       "      <td>0</td>\n",
       "      <td>0</td>\n",
       "    </tr>\n",
       "    <tr>\n",
       "      <th>1</th>\n",
       "      <td>9</td>\n",
       "      <td>2024</td>\n",
       "      <td>1725778800</td>\n",
       "      <td>103.900000</td>\n",
       "      <td>87.000000</td>\n",
       "      <td>95.400000</td>\n",
       "      <td>100.500000</td>\n",
       "      <td>84.700000</td>\n",
       "      <td>92.300000</td>\n",
       "      <td>48.700000</td>\n",
       "      <td>...</td>\n",
       "      <td>0</td>\n",
       "      <td>0</td>\n",
       "      <td>0</td>\n",
       "      <td>0</td>\n",
       "      <td>0</td>\n",
       "      <td>0</td>\n",
       "      <td>1</td>\n",
       "      <td>0</td>\n",
       "      <td>0</td>\n",
       "      <td>0</td>\n",
       "    </tr>\n",
       "    <tr>\n",
       "      <th>2</th>\n",
       "      <td>9</td>\n",
       "      <td>2024</td>\n",
       "      <td>1725865200</td>\n",
       "      <td>105.000000</td>\n",
       "      <td>83.900000</td>\n",
       "      <td>94.700000</td>\n",
       "      <td>99.900000</td>\n",
       "      <td>81.600000</td>\n",
       "      <td>90.600000</td>\n",
       "      <td>41.700000</td>\n",
       "      <td>...</td>\n",
       "      <td>0</td>\n",
       "      <td>0</td>\n",
       "      <td>0</td>\n",
       "      <td>0</td>\n",
       "      <td>0</td>\n",
       "      <td>0</td>\n",
       "      <td>1</td>\n",
       "      <td>0</td>\n",
       "      <td>0</td>\n",
       "      <td>0</td>\n",
       "    </tr>\n",
       "    <tr>\n",
       "      <th>3</th>\n",
       "      <td>9</td>\n",
       "      <td>2024</td>\n",
       "      <td>1725951600</td>\n",
       "      <td>106.100000</td>\n",
       "      <td>81.200000</td>\n",
       "      <td>93.900000</td>\n",
       "      <td>100.600000</td>\n",
       "      <td>79.500000</td>\n",
       "      <td>89.800000</td>\n",
       "      <td>39.100000</td>\n",
       "      <td>...</td>\n",
       "      <td>0</td>\n",
       "      <td>0</td>\n",
       "      <td>0</td>\n",
       "      <td>0</td>\n",
       "      <td>0</td>\n",
       "      <td>0</td>\n",
       "      <td>1</td>\n",
       "      <td>0</td>\n",
       "      <td>0</td>\n",
       "      <td>0</td>\n",
       "    </tr>\n",
       "    <tr>\n",
       "      <th>4</th>\n",
       "      <td>9</td>\n",
       "      <td>2024</td>\n",
       "      <td>1726038000</td>\n",
       "      <td>106.100000</td>\n",
       "      <td>82.100000</td>\n",
       "      <td>94.000000</td>\n",
       "      <td>101.000000</td>\n",
       "      <td>80.000000</td>\n",
       "      <td>90.000000</td>\n",
       "      <td>40.100000</td>\n",
       "      <td>...</td>\n",
       "      <td>0</td>\n",
       "      <td>0</td>\n",
       "      <td>0</td>\n",
       "      <td>0</td>\n",
       "      <td>0</td>\n",
       "      <td>0</td>\n",
       "      <td>1</td>\n",
       "      <td>0</td>\n",
       "      <td>0</td>\n",
       "      <td>0</td>\n",
       "    </tr>\n",
       "    <tr>\n",
       "      <th>...</th>\n",
       "      <td>...</td>\n",
       "      <td>...</td>\n",
       "      <td>...</td>\n",
       "      <td>...</td>\n",
       "      <td>...</td>\n",
       "      <td>...</td>\n",
       "      <td>...</td>\n",
       "      <td>...</td>\n",
       "      <td>...</td>\n",
       "      <td>...</td>\n",
       "      <td>...</td>\n",
       "      <td>...</td>\n",
       "      <td>...</td>\n",
       "      <td>...</td>\n",
       "      <td>...</td>\n",
       "      <td>...</td>\n",
       "      <td>...</td>\n",
       "      <td>...</td>\n",
       "      <td>...</td>\n",
       "      <td>...</td>\n",
       "      <td>...</td>\n",
       "    </tr>\n",
       "    <tr>\n",
       "      <th>995</th>\n",
       "      <td>9</td>\n",
       "      <td>2024</td>\n",
       "      <td>1726632592</td>\n",
       "      <td>76.060546</td>\n",
       "      <td>64.359387</td>\n",
       "      <td>69.002142</td>\n",
       "      <td>77.673823</td>\n",
       "      <td>63.510920</td>\n",
       "      <td>67.003338</td>\n",
       "      <td>59.936776</td>\n",
       "      <td>...</td>\n",
       "      <td>0</td>\n",
       "      <td>0</td>\n",
       "      <td>0</td>\n",
       "      <td>0</td>\n",
       "      <td>0</td>\n",
       "      <td>1</td>\n",
       "      <td>0</td>\n",
       "      <td>0</td>\n",
       "      <td>0</td>\n",
       "      <td>0</td>\n",
       "    </tr>\n",
       "    <tr>\n",
       "      <th>996</th>\n",
       "      <td>9</td>\n",
       "      <td>2024</td>\n",
       "      <td>1726550178</td>\n",
       "      <td>68.409198</td>\n",
       "      <td>65.939319</td>\n",
       "      <td>66.567410</td>\n",
       "      <td>68.956722</td>\n",
       "      <td>64.805635</td>\n",
       "      <td>65.992526</td>\n",
       "      <td>59.010257</td>\n",
       "      <td>...</td>\n",
       "      <td>0</td>\n",
       "      <td>0</td>\n",
       "      <td>0</td>\n",
       "      <td>0</td>\n",
       "      <td>0</td>\n",
       "      <td>0</td>\n",
       "      <td>0</td>\n",
       "      <td>0</td>\n",
       "      <td>1</td>\n",
       "      <td>0</td>\n",
       "    </tr>\n",
       "    <tr>\n",
       "      <th>997</th>\n",
       "      <td>9</td>\n",
       "      <td>2024</td>\n",
       "      <td>1726121998</td>\n",
       "      <td>69.756690</td>\n",
       "      <td>65.286919</td>\n",
       "      <td>65.919492</td>\n",
       "      <td>68.158536</td>\n",
       "      <td>63.662942</td>\n",
       "      <td>67.313322</td>\n",
       "      <td>62.024442</td>\n",
       "      <td>...</td>\n",
       "      <td>0</td>\n",
       "      <td>0</td>\n",
       "      <td>0</td>\n",
       "      <td>0</td>\n",
       "      <td>0</td>\n",
       "      <td>0</td>\n",
       "      <td>0</td>\n",
       "      <td>0</td>\n",
       "      <td>1</td>\n",
       "      <td>0</td>\n",
       "    </tr>\n",
       "    <tr>\n",
       "      <th>998</th>\n",
       "      <td>9</td>\n",
       "      <td>2024</td>\n",
       "      <td>1726283774</td>\n",
       "      <td>77.106797</td>\n",
       "      <td>61.481724</td>\n",
       "      <td>68.106569</td>\n",
       "      <td>76.426959</td>\n",
       "      <td>60.901526</td>\n",
       "      <td>68.094309</td>\n",
       "      <td>63.169608</td>\n",
       "      <td>...</td>\n",
       "      <td>0</td>\n",
       "      <td>0</td>\n",
       "      <td>0</td>\n",
       "      <td>1</td>\n",
       "      <td>0</td>\n",
       "      <td>0</td>\n",
       "      <td>0</td>\n",
       "      <td>0</td>\n",
       "      <td>0</td>\n",
       "      <td>0</td>\n",
       "    </tr>\n",
       "    <tr>\n",
       "      <th>999</th>\n",
       "      <td>9</td>\n",
       "      <td>2024</td>\n",
       "      <td>1726618425</td>\n",
       "      <td>90.923080</td>\n",
       "      <td>79.296868</td>\n",
       "      <td>81.636991</td>\n",
       "      <td>94.180423</td>\n",
       "      <td>78.071851</td>\n",
       "      <td>84.987113</td>\n",
       "      <td>73.393045</td>\n",
       "      <td>...</td>\n",
       "      <td>0</td>\n",
       "      <td>0</td>\n",
       "      <td>1</td>\n",
       "      <td>0</td>\n",
       "      <td>0</td>\n",
       "      <td>0</td>\n",
       "      <td>0</td>\n",
       "      <td>0</td>\n",
       "      <td>0</td>\n",
       "      <td>0</td>\n",
       "    </tr>\n",
       "  </tbody>\n",
       "</table>\n",
       "<p>1000 rows × 118 columns</p>\n",
       "</div>"
      ],
      "text/plain": [
       "     monthtime  yeartime  datetimeEpoch     tempmax    tempmin       temp  \\\n",
       "0            9      2024     1725692400  106.100000  91.000000  98.500000   \n",
       "1            9      2024     1725778800  103.900000  87.000000  95.400000   \n",
       "2            9      2024     1725865200  105.000000  83.900000  94.700000   \n",
       "3            9      2024     1725951600  106.100000  81.200000  93.900000   \n",
       "4            9      2024     1726038000  106.100000  82.100000  94.000000   \n",
       "..         ...       ...            ...         ...        ...        ...   \n",
       "995          9      2024     1726632592   76.060546  64.359387  69.002142   \n",
       "996          9      2024     1726550178   68.409198  65.939319  66.567410   \n",
       "997          9      2024     1726121998   69.756690  65.286919  65.919492   \n",
       "998          9      2024     1726283774   77.106797  61.481724  68.106569   \n",
       "999          9      2024     1726618425   90.923080  79.296868  81.636991   \n",
       "\n",
       "     feelslikemax  feelslikemin  feelslike        dew  ...  City_Chicago  \\\n",
       "0      104.000000     88.100000  95.900000  51.500000  ...             0   \n",
       "1      100.500000     84.700000  92.300000  48.700000  ...             0   \n",
       "2       99.900000     81.600000  90.600000  41.700000  ...             0   \n",
       "3      100.600000     79.500000  89.800000  39.100000  ...             0   \n",
       "4      101.000000     80.000000  90.000000  40.100000  ...             0   \n",
       "..            ...           ...        ...        ...  ...           ...   \n",
       "995     77.673823     63.510920  67.003338  59.936776  ...             0   \n",
       "996     68.956722     64.805635  65.992526  59.010257  ...             0   \n",
       "997     68.158536     63.662942  67.313322  62.024442  ...             0   \n",
       "998     76.426959     60.901526  68.094309  63.169608  ...             0   \n",
       "999     94.180423     78.071851  84.987113  73.393045  ...             0   \n",
       "\n",
       "     City_Dallas  City_Houston  City_Los Angeles  City_New York City  \\\n",
       "0              0             0                 0                   0   \n",
       "1              0             0                 0                   0   \n",
       "2              0             0                 0                   0   \n",
       "3              0             0                 0                   0   \n",
       "4              0             0                 0                   0   \n",
       "..           ...           ...               ...                 ...   \n",
       "995            0             0                 0                   0   \n",
       "996            0             0                 0                   0   \n",
       "997            0             0                 0                   0   \n",
       "998            0             0                 1                   0   \n",
       "999            0             1                 0                   0   \n",
       "\n",
       "     City_Philadelphia  City_Phoenix  City_San Antonio  City_San Diego  \\\n",
       "0                    0             1                 0               0   \n",
       "1                    0             1                 0               0   \n",
       "2                    0             1                 0               0   \n",
       "3                    0             1                 0               0   \n",
       "4                    0             1                 0               0   \n",
       "..                 ...           ...               ...             ...   \n",
       "995                  1             0                 0               0   \n",
       "996                  0             0                 0               1   \n",
       "997                  0             0                 0               1   \n",
       "998                  0             0                 0               0   \n",
       "999                  0             0                 0               0   \n",
       "\n",
       "     City_San Jose  \n",
       "0                0  \n",
       "1                0  \n",
       "2                0  \n",
       "3                0  \n",
       "4                0  \n",
       "..             ...  \n",
       "995              0  \n",
       "996              0  \n",
       "997              0  \n",
       "998              0  \n",
       "999              0  \n",
       "\n",
       "[1000 rows x 118 columns]"
      ]
     },
     "execution_count": 312,
     "metadata": {},
     "output_type": "execute_result"
    }
   ],
   "source": [
    "df=pd.get_dummies(df, columns=['City'], dtype=int)\n",
    "df"
   ]
  },
  {
   "cell_type": "markdown",
   "id": "73d1416d-800e-431c-9cf8-8f1ef273edfe",
   "metadata": {},
   "source": [
    "### 3.38 Temp_Range \n"
   ]
  },
  {
   "cell_type": "code",
   "execution_count": 313,
   "id": "7f00b980-942e-4b43-a2ed-ecde674c4d67",
   "metadata": {},
   "outputs": [
    {
     "data": {
      "text/plain": [
       "0      15.100000\n",
       "1      16.900000\n",
       "2      21.100000\n",
       "3      24.900000\n",
       "4      24.000000\n",
       "         ...    \n",
       "995    12.886665\n",
       "996     2.613629\n",
       "997     4.598936\n",
       "998    15.477717\n",
       "999    11.017871\n",
       "Name: Temp_Range, Length: 1000, dtype: float64"
      ]
     },
     "execution_count": 313,
     "metadata": {},
     "output_type": "execute_result"
    }
   ],
   "source": [
    "df['Temp_Range']\n"
   ]
  },
  {
   "cell_type": "code",
   "execution_count": 314,
   "id": "94f4a731-8abb-4c6a-8ccf-40299d20e699",
   "metadata": {},
   "outputs": [
    {
     "data": {
      "text/plain": [
       "Temp_Range\n",
       "16.200000    6\n",
       "21.400000    5\n",
       "16.400000    4\n",
       "17.100000    4\n",
       "18.000000    4\n",
       "            ..\n",
       "12.886665    1\n",
       "2.613629     1\n",
       "4.598936     1\n",
       "15.477717    1\n",
       "22.432540    1\n",
       "Name: count, Length: 946, dtype: int64"
      ]
     },
     "execution_count": 314,
     "metadata": {},
     "output_type": "execute_result"
    }
   ],
   "source": [
    "df['Temp_Range'].value_counts()\n"
   ]
  },
  {
   "cell_type": "code",
   "execution_count": 315,
   "id": "0e48a350-babc-488f-937c-aa1618ed024f",
   "metadata": {},
   "outputs": [
    {
     "name": "stdout",
     "output_type": "stream",
     "text": [
      "<class 'pandas.core.series.Series'>\n",
      "RangeIndex: 1000 entries, 0 to 999\n",
      "Series name: Temp_Range\n",
      "Non-Null Count  Dtype  \n",
      "--------------  -----  \n",
      "1000 non-null   float64\n",
      "dtypes: float64(1)\n",
      "memory usage: 7.9 KB\n"
     ]
    }
   ],
   "source": [
    "\n",
    "df['Temp_Range'].info()"
   ]
  },
  {
   "cell_type": "markdown",
   "id": "d71b46ba-6683-4f28-8006-f69bf14adbc6",
   "metadata": {},
   "source": [
    "### 3.39  Heat_Index  \n"
   ]
  },
  {
   "cell_type": "code",
   "execution_count": 316,
   "id": "47f199f8-946f-462a-afd7-73099a307b00",
   "metadata": {},
   "outputs": [
    {
     "data": {
      "text/plain": [
       "0      95.918703\n",
       "1      92.281316\n",
       "2      90.599165\n",
       "3      89.638811\n",
       "4      89.760414\n",
       "         ...    \n",
       "995    71.837558\n",
       "996    72.463491\n",
       "997    67.560060\n",
       "998    67.930437\n",
       "999    86.802712\n",
       "Name: Heat_Index, Length: 1000, dtype: float64"
      ]
     },
     "execution_count": 316,
     "metadata": {},
     "output_type": "execute_result"
    }
   ],
   "source": [
    "df['Heat_Index']\n"
   ]
  },
  {
   "cell_type": "code",
   "execution_count": 317,
   "id": "ca1e874d-bd56-43e5-88aa-4a6cba98c7be",
   "metadata": {},
   "outputs": [
    {
     "data": {
      "text/plain": [
       "Heat_Index\n",
       "86.802712    1\n",
       "95.918703    1\n",
       "92.281316    1\n",
       "90.599165    1\n",
       "89.638811    1\n",
       "            ..\n",
       "85.147082    1\n",
       "86.203603    1\n",
       "91.131887    1\n",
       "93.208952    1\n",
       "92.167586    1\n",
       "Name: count, Length: 1000, dtype: int64"
      ]
     },
     "execution_count": 317,
     "metadata": {},
     "output_type": "execute_result"
    }
   ],
   "source": [
    "df['Heat_Index'].value_counts()\n"
   ]
  },
  {
   "cell_type": "code",
   "execution_count": 318,
   "id": "c8d3068f-c457-4d6b-9a43-6b7c5f2b35c9",
   "metadata": {},
   "outputs": [
    {
     "name": "stdout",
     "output_type": "stream",
     "text": [
      "<class 'pandas.core.series.Series'>\n",
      "RangeIndex: 1000 entries, 0 to 999\n",
      "Series name: Heat_Index\n",
      "Non-Null Count  Dtype  \n",
      "--------------  -----  \n",
      "1000 non-null   float64\n",
      "dtypes: float64(1)\n",
      "memory usage: 7.9 KB\n"
     ]
    }
   ],
   "source": [
    "\n",
    "df['Heat_Index'].info()"
   ]
  },
  {
   "cell_type": "markdown",
   "id": "a051a053-8c5d-4534-9676-6c8f34ab76f8",
   "metadata": {},
   "source": [
    "### 3.40  Severity_Score \n"
   ]
  },
  {
   "cell_type": "code",
   "execution_count": 319,
   "id": "1bdde9a5-1d89-4fbe-ae0a-b70dc7688e18",
   "metadata": {},
   "outputs": [
    {
     "data": {
      "text/plain": [
       "0      4.430000\n",
       "1      3.880000\n",
       "2      3.630000\n",
       "3      2.851200\n",
       "4      3.390800\n",
       "         ...   \n",
       "995    1.957318\n",
       "996    2.537413\n",
       "997    3.595470\n",
       "998    3.498942\n",
       "999    3.040020\n",
       "Name: Severity_Score, Length: 1000, dtype: float64"
      ]
     },
     "execution_count": 319,
     "metadata": {},
     "output_type": "execute_result"
    }
   ],
   "source": [
    "df['Severity_Score']\n"
   ]
  },
  {
   "cell_type": "code",
   "execution_count": 320,
   "id": "6bf8acd8-9392-45d5-a839-496ceeac2cc1",
   "metadata": {},
   "outputs": [
    {
     "data": {
      "text/plain": [
       "Severity_Score\n",
       "3.210000    4\n",
       "2.610000    3\n",
       "2.490000    3\n",
       "3.790000    3\n",
       "3.370000    3\n",
       "           ..\n",
       "1.957318    1\n",
       "2.537413    1\n",
       "3.595470    1\n",
       "3.498942    1\n",
       "2.708344    1\n",
       "Name: count, Length: 968, dtype: int64"
      ]
     },
     "execution_count": 320,
     "metadata": {},
     "output_type": "execute_result"
    }
   ],
   "source": [
    "df['Severity_Score'].value_counts()\n"
   ]
  },
  {
   "cell_type": "code",
   "execution_count": 321,
   "id": "d993efef-8477-4efd-8f8c-98ffb115f3cb",
   "metadata": {},
   "outputs": [
    {
     "name": "stdout",
     "output_type": "stream",
     "text": [
      "<class 'pandas.core.series.Series'>\n",
      "RangeIndex: 1000 entries, 0 to 999\n",
      "Series name: Severity_Score\n",
      "Non-Null Count  Dtype  \n",
      "--------------  -----  \n",
      "1000 non-null   float64\n",
      "dtypes: float64(1)\n",
      "memory usage: 7.9 KB\n"
     ]
    }
   ],
   "source": [
    "\n",
    "df['Severity_Score'].info()"
   ]
  },
  {
   "cell_type": "markdown",
   "id": "52e4150d-d045-472c-8f37-badcff366bef",
   "metadata": {},
   "source": [
    "### 3.41  Condition_Code \n"
   ]
  },
  {
   "cell_type": "raw",
   "id": "df09c1e3-27f7-47d8-bb01-c6cb153502d9",
   "metadata": {},
   "source": [
    "df['Condition_Code']"
   ]
  },
  {
   "cell_type": "raw",
   "id": "4fb19821-dc85-4ee9-a929-b864f74679dc",
   "metadata": {},
   "source": [
    "df['Condition_Code'].value_counts().to_dict()"
   ]
  },
  {
   "cell_type": "raw",
   "id": "eb86ffcf-6782-4f37-b827-badf65906da7",
   "metadata": {},
   "source": [
    "df['Condition_Code'].info()"
   ]
  },
  {
   "cell_type": "markdown",
   "id": "ede5ec4c-eb76-4ce6-87a7-7b76b022be8d",
   "metadata": {},
   "source": [
    "### 3.42  Month  \n"
   ]
  },
  {
   "cell_type": "code",
   "execution_count": 322,
   "id": "966c79a4-b719-4ec8-b882-391a826bbc5b",
   "metadata": {},
   "outputs": [
    {
     "data": {
      "text/plain": [
       "0      9\n",
       "1      9\n",
       "2      9\n",
       "3      9\n",
       "4      9\n",
       "      ..\n",
       "995    9\n",
       "996    9\n",
       "997    9\n",
       "998    9\n",
       "999    9\n",
       "Name: Month, Length: 1000, dtype: int64"
      ]
     },
     "execution_count": 322,
     "metadata": {},
     "output_type": "execute_result"
    }
   ],
   "source": [
    "df['Month']"
   ]
  },
  {
   "cell_type": "code",
   "execution_count": 323,
   "id": "bd5ce7b1-9516-46aa-a7f2-d1c3bd1cd8d2",
   "metadata": {},
   "outputs": [
    {
     "data": {
      "text/plain": [
       "Month\n",
       "9    1000\n",
       "Name: count, dtype: int64"
      ]
     },
     "execution_count": 323,
     "metadata": {},
     "output_type": "execute_result"
    }
   ],
   "source": [
    "df['Month'].value_counts()"
   ]
  },
  {
   "cell_type": "code",
   "execution_count": 324,
   "id": "583cc9ba-c35f-4d7a-8a07-9f455047bb93",
   "metadata": {},
   "outputs": [
    {
     "name": "stdout",
     "output_type": "stream",
     "text": [
      "<class 'pandas.core.series.Series'>\n",
      "RangeIndex: 1000 entries, 0 to 999\n",
      "Series name: Month\n",
      "Non-Null Count  Dtype\n",
      "--------------  -----\n",
      "1000 non-null   int64\n",
      "dtypes: int64(1)\n",
      "memory usage: 7.9 KB\n"
     ]
    }
   ],
   "source": [
    "df['Month'].info()"
   ]
  },
  {
   "cell_type": "markdown",
   "id": "3fc22f35-fed8-41d5-89e8-ab8b06096846",
   "metadata": {},
   "source": [
    "### 3.43 Season"
   ]
  },
  {
   "cell_type": "code",
   "execution_count": 325,
   "id": "0969aaa6-e515-429e-b75f-76c6c65c41fa",
   "metadata": {},
   "outputs": [
    {
     "name": "stdout",
     "output_type": "stream",
     "text": [
      "<class 'pandas.core.series.Series'>\n",
      "RangeIndex: 1000 entries, 0 to 999\n",
      "Series name: Season\n",
      "Non-Null Count  Dtype \n",
      "--------------  ----- \n",
      "1000 non-null   object\n",
      "dtypes: object(1)\n",
      "memory usage: 7.9+ KB\n"
     ]
    }
   ],
   "source": [
    "df['Season'].info() "
   ]
  },
  {
   "cell_type": "code",
   "execution_count": 326,
   "id": "ad075cf4-5b8d-4241-b78a-62622e2f57fa",
   "metadata": {},
   "outputs": [
    {
     "data": {
      "text/plain": [
       "{'Fall': 1000}"
      ]
     },
     "execution_count": 326,
     "metadata": {},
     "output_type": "execute_result"
    }
   ],
   "source": [
    "df['Season'].value_counts().to_dict() "
   ]
  },
  {
   "cell_type": "code",
   "execution_count": 327,
   "id": "3f0bfd1a-e570-49b9-be83-0a9d9961f521",
   "metadata": {},
   "outputs": [
    {
     "data": {
      "text/plain": [
       "0      Fall\n",
       "1      Fall\n",
       "2      Fall\n",
       "3      Fall\n",
       "4      Fall\n",
       "       ... \n",
       "995    Fall\n",
       "996    Fall\n",
       "997    Fall\n",
       "998    Fall\n",
       "999    Fall\n",
       "Name: Season, Length: 1000, dtype: object"
      ]
     },
     "execution_count": 327,
     "metadata": {},
     "output_type": "execute_result"
    }
   ],
   "source": [
    "df['Season']"
   ]
  },
  {
   "cell_type": "code",
   "execution_count": 328,
   "id": "8ab3569f-98d9-4033-bc34-f4a45bd5d35d",
   "metadata": {},
   "outputs": [
    {
     "data": {
      "text/plain": [
       "0      1\n",
       "1      1\n",
       "2      1\n",
       "3      1\n",
       "4      1\n",
       "      ..\n",
       "995    1\n",
       "996    1\n",
       "997    1\n",
       "998    1\n",
       "999    1\n",
       "Name: Season, Length: 1000, dtype: int64"
      ]
     },
     "execution_count": 328,
     "metadata": {},
     "output_type": "execute_result"
    }
   ],
   "source": [
    "df['Season'].replace({'Fall': 1}, inplace=True)\n",
    "df['Season']"
   ]
  },
  {
   "cell_type": "code",
   "execution_count": 329,
   "id": "e73b1d33-5a33-412d-b0c9-0b186a519e6d",
   "metadata": {},
   "outputs": [
    {
     "data": {
      "text/plain": [
       "Season\n",
       "1    1000\n",
       "Name: count, dtype: int64"
      ]
     },
     "execution_count": 329,
     "metadata": {},
     "output_type": "execute_result"
    }
   ],
   "source": [
    "df['Season'].value_counts()"
   ]
  },
  {
   "cell_type": "markdown",
   "id": "97573a02-78c0-4391-bb59-68c74126207a",
   "metadata": {},
   "source": [
    "### 3.44 Day_of_week"
   ]
  },
  {
   "cell_type": "code",
   "execution_count": 330,
   "id": "17f54a0e-5960-48a0-84e7-7ceec4203709",
   "metadata": {},
   "outputs": [
    {
     "data": {
      "text/plain": [
       "0       Saturday\n",
       "1         Sunday\n",
       "2         Monday\n",
       "3        Tuesday\n",
       "4      Wednesday\n",
       "         ...    \n",
       "995    Wednesday\n",
       "996      Tuesday\n",
       "997     Thursday\n",
       "998     Saturday\n",
       "999    Wednesday\n",
       "Name: Day_of_Week, Length: 1000, dtype: object"
      ]
     },
     "execution_count": 330,
     "metadata": {},
     "output_type": "execute_result"
    }
   ],
   "source": [
    "df['Day_of_Week']"
   ]
  },
  {
   "cell_type": "code",
   "execution_count": 331,
   "id": "2ffb9241-eed2-4a0c-804a-4a733efcf991",
   "metadata": {},
   "outputs": [
    {
     "data": {
      "text/plain": [
       "Day_of_Week\n",
       "Saturday     205\n",
       "Monday       139\n",
       "Wednesday    138\n",
       "Thursday     132\n",
       "Friday       131\n",
       "Tuesday      128\n",
       "Sunday       127\n",
       "Name: count, dtype: int64"
      ]
     },
     "execution_count": 331,
     "metadata": {},
     "output_type": "execute_result"
    }
   ],
   "source": [
    "df['Day_of_Week'].value_counts()"
   ]
  },
  {
   "cell_type": "code",
   "execution_count": 332,
   "id": "b7db7214-e42d-48ea-a3d7-a9bd13f799c0",
   "metadata": {},
   "outputs": [
    {
     "name": "stdout",
     "output_type": "stream",
     "text": [
      "<class 'pandas.core.series.Series'>\n",
      "RangeIndex: 1000 entries, 0 to 999\n",
      "Series name: Day_of_Week\n",
      "Non-Null Count  Dtype \n",
      "--------------  ----- \n",
      "1000 non-null   object\n",
      "dtypes: object(1)\n",
      "memory usage: 7.9+ KB\n"
     ]
    }
   ],
   "source": [
    "df['Day_of_Week'].info()"
   ]
  },
  {
   "cell_type": "code",
   "execution_count": 333,
   "id": "0ca94202-f1e2-4d29-9d19-fe8af808a4bc",
   "metadata": {},
   "outputs": [
    {
     "data": {
      "text/html": [
       "<div>\n",
       "<style scoped>\n",
       "    .dataframe tbody tr th:only-of-type {\n",
       "        vertical-align: middle;\n",
       "    }\n",
       "\n",
       "    .dataframe tbody tr th {\n",
       "        vertical-align: top;\n",
       "    }\n",
       "\n",
       "    .dataframe thead th {\n",
       "        text-align: right;\n",
       "    }\n",
       "</style>\n",
       "<table border=\"1\" class=\"dataframe\">\n",
       "  <thead>\n",
       "    <tr style=\"text-align: right;\">\n",
       "      <th></th>\n",
       "      <th>monthtime</th>\n",
       "      <th>yeartime</th>\n",
       "      <th>datetimeEpoch</th>\n",
       "      <th>tempmax</th>\n",
       "      <th>tempmin</th>\n",
       "      <th>temp</th>\n",
       "      <th>feelslikemax</th>\n",
       "      <th>feelslikemin</th>\n",
       "      <th>feelslike</th>\n",
       "      <th>dew</th>\n",
       "      <th>...</th>\n",
       "      <th>City_San Antonio</th>\n",
       "      <th>City_San Diego</th>\n",
       "      <th>City_San Jose</th>\n",
       "      <th>Day_of_Week_Friday</th>\n",
       "      <th>Day_of_Week_Monday</th>\n",
       "      <th>Day_of_Week_Saturday</th>\n",
       "      <th>Day_of_Week_Sunday</th>\n",
       "      <th>Day_of_Week_Thursday</th>\n",
       "      <th>Day_of_Week_Tuesday</th>\n",
       "      <th>Day_of_Week_Wednesday</th>\n",
       "    </tr>\n",
       "  </thead>\n",
       "  <tbody>\n",
       "    <tr>\n",
       "      <th>0</th>\n",
       "      <td>9</td>\n",
       "      <td>2024</td>\n",
       "      <td>1725692400</td>\n",
       "      <td>106.100000</td>\n",
       "      <td>91.000000</td>\n",
       "      <td>98.500000</td>\n",
       "      <td>104.000000</td>\n",
       "      <td>88.100000</td>\n",
       "      <td>95.900000</td>\n",
       "      <td>51.500000</td>\n",
       "      <td>...</td>\n",
       "      <td>0</td>\n",
       "      <td>0</td>\n",
       "      <td>0</td>\n",
       "      <td>0</td>\n",
       "      <td>0</td>\n",
       "      <td>1</td>\n",
       "      <td>0</td>\n",
       "      <td>0</td>\n",
       "      <td>0</td>\n",
       "      <td>0</td>\n",
       "    </tr>\n",
       "    <tr>\n",
       "      <th>1</th>\n",
       "      <td>9</td>\n",
       "      <td>2024</td>\n",
       "      <td>1725778800</td>\n",
       "      <td>103.900000</td>\n",
       "      <td>87.000000</td>\n",
       "      <td>95.400000</td>\n",
       "      <td>100.500000</td>\n",
       "      <td>84.700000</td>\n",
       "      <td>92.300000</td>\n",
       "      <td>48.700000</td>\n",
       "      <td>...</td>\n",
       "      <td>0</td>\n",
       "      <td>0</td>\n",
       "      <td>0</td>\n",
       "      <td>0</td>\n",
       "      <td>0</td>\n",
       "      <td>0</td>\n",
       "      <td>1</td>\n",
       "      <td>0</td>\n",
       "      <td>0</td>\n",
       "      <td>0</td>\n",
       "    </tr>\n",
       "    <tr>\n",
       "      <th>2</th>\n",
       "      <td>9</td>\n",
       "      <td>2024</td>\n",
       "      <td>1725865200</td>\n",
       "      <td>105.000000</td>\n",
       "      <td>83.900000</td>\n",
       "      <td>94.700000</td>\n",
       "      <td>99.900000</td>\n",
       "      <td>81.600000</td>\n",
       "      <td>90.600000</td>\n",
       "      <td>41.700000</td>\n",
       "      <td>...</td>\n",
       "      <td>0</td>\n",
       "      <td>0</td>\n",
       "      <td>0</td>\n",
       "      <td>0</td>\n",
       "      <td>1</td>\n",
       "      <td>0</td>\n",
       "      <td>0</td>\n",
       "      <td>0</td>\n",
       "      <td>0</td>\n",
       "      <td>0</td>\n",
       "    </tr>\n",
       "    <tr>\n",
       "      <th>3</th>\n",
       "      <td>9</td>\n",
       "      <td>2024</td>\n",
       "      <td>1725951600</td>\n",
       "      <td>106.100000</td>\n",
       "      <td>81.200000</td>\n",
       "      <td>93.900000</td>\n",
       "      <td>100.600000</td>\n",
       "      <td>79.500000</td>\n",
       "      <td>89.800000</td>\n",
       "      <td>39.100000</td>\n",
       "      <td>...</td>\n",
       "      <td>0</td>\n",
       "      <td>0</td>\n",
       "      <td>0</td>\n",
       "      <td>0</td>\n",
       "      <td>0</td>\n",
       "      <td>0</td>\n",
       "      <td>0</td>\n",
       "      <td>0</td>\n",
       "      <td>1</td>\n",
       "      <td>0</td>\n",
       "    </tr>\n",
       "    <tr>\n",
       "      <th>4</th>\n",
       "      <td>9</td>\n",
       "      <td>2024</td>\n",
       "      <td>1726038000</td>\n",
       "      <td>106.100000</td>\n",
       "      <td>82.100000</td>\n",
       "      <td>94.000000</td>\n",
       "      <td>101.000000</td>\n",
       "      <td>80.000000</td>\n",
       "      <td>90.000000</td>\n",
       "      <td>40.100000</td>\n",
       "      <td>...</td>\n",
       "      <td>0</td>\n",
       "      <td>0</td>\n",
       "      <td>0</td>\n",
       "      <td>0</td>\n",
       "      <td>0</td>\n",
       "      <td>0</td>\n",
       "      <td>0</td>\n",
       "      <td>0</td>\n",
       "      <td>0</td>\n",
       "      <td>1</td>\n",
       "    </tr>\n",
       "    <tr>\n",
       "      <th>...</th>\n",
       "      <td>...</td>\n",
       "      <td>...</td>\n",
       "      <td>...</td>\n",
       "      <td>...</td>\n",
       "      <td>...</td>\n",
       "      <td>...</td>\n",
       "      <td>...</td>\n",
       "      <td>...</td>\n",
       "      <td>...</td>\n",
       "      <td>...</td>\n",
       "      <td>...</td>\n",
       "      <td>...</td>\n",
       "      <td>...</td>\n",
       "      <td>...</td>\n",
       "      <td>...</td>\n",
       "      <td>...</td>\n",
       "      <td>...</td>\n",
       "      <td>...</td>\n",
       "      <td>...</td>\n",
       "      <td>...</td>\n",
       "      <td>...</td>\n",
       "    </tr>\n",
       "    <tr>\n",
       "      <th>995</th>\n",
       "      <td>9</td>\n",
       "      <td>2024</td>\n",
       "      <td>1726632592</td>\n",
       "      <td>76.060546</td>\n",
       "      <td>64.359387</td>\n",
       "      <td>69.002142</td>\n",
       "      <td>77.673823</td>\n",
       "      <td>63.510920</td>\n",
       "      <td>67.003338</td>\n",
       "      <td>59.936776</td>\n",
       "      <td>...</td>\n",
       "      <td>0</td>\n",
       "      <td>0</td>\n",
       "      <td>0</td>\n",
       "      <td>0</td>\n",
       "      <td>0</td>\n",
       "      <td>0</td>\n",
       "      <td>0</td>\n",
       "      <td>0</td>\n",
       "      <td>0</td>\n",
       "      <td>1</td>\n",
       "    </tr>\n",
       "    <tr>\n",
       "      <th>996</th>\n",
       "      <td>9</td>\n",
       "      <td>2024</td>\n",
       "      <td>1726550178</td>\n",
       "      <td>68.409198</td>\n",
       "      <td>65.939319</td>\n",
       "      <td>66.567410</td>\n",
       "      <td>68.956722</td>\n",
       "      <td>64.805635</td>\n",
       "      <td>65.992526</td>\n",
       "      <td>59.010257</td>\n",
       "      <td>...</td>\n",
       "      <td>0</td>\n",
       "      <td>1</td>\n",
       "      <td>0</td>\n",
       "      <td>0</td>\n",
       "      <td>0</td>\n",
       "      <td>0</td>\n",
       "      <td>0</td>\n",
       "      <td>0</td>\n",
       "      <td>1</td>\n",
       "      <td>0</td>\n",
       "    </tr>\n",
       "    <tr>\n",
       "      <th>997</th>\n",
       "      <td>9</td>\n",
       "      <td>2024</td>\n",
       "      <td>1726121998</td>\n",
       "      <td>69.756690</td>\n",
       "      <td>65.286919</td>\n",
       "      <td>65.919492</td>\n",
       "      <td>68.158536</td>\n",
       "      <td>63.662942</td>\n",
       "      <td>67.313322</td>\n",
       "      <td>62.024442</td>\n",
       "      <td>...</td>\n",
       "      <td>0</td>\n",
       "      <td>1</td>\n",
       "      <td>0</td>\n",
       "      <td>0</td>\n",
       "      <td>0</td>\n",
       "      <td>0</td>\n",
       "      <td>0</td>\n",
       "      <td>1</td>\n",
       "      <td>0</td>\n",
       "      <td>0</td>\n",
       "    </tr>\n",
       "    <tr>\n",
       "      <th>998</th>\n",
       "      <td>9</td>\n",
       "      <td>2024</td>\n",
       "      <td>1726283774</td>\n",
       "      <td>77.106797</td>\n",
       "      <td>61.481724</td>\n",
       "      <td>68.106569</td>\n",
       "      <td>76.426959</td>\n",
       "      <td>60.901526</td>\n",
       "      <td>68.094309</td>\n",
       "      <td>63.169608</td>\n",
       "      <td>...</td>\n",
       "      <td>0</td>\n",
       "      <td>0</td>\n",
       "      <td>0</td>\n",
       "      <td>0</td>\n",
       "      <td>0</td>\n",
       "      <td>1</td>\n",
       "      <td>0</td>\n",
       "      <td>0</td>\n",
       "      <td>0</td>\n",
       "      <td>0</td>\n",
       "    </tr>\n",
       "    <tr>\n",
       "      <th>999</th>\n",
       "      <td>9</td>\n",
       "      <td>2024</td>\n",
       "      <td>1726618425</td>\n",
       "      <td>90.923080</td>\n",
       "      <td>79.296868</td>\n",
       "      <td>81.636991</td>\n",
       "      <td>94.180423</td>\n",
       "      <td>78.071851</td>\n",
       "      <td>84.987113</td>\n",
       "      <td>73.393045</td>\n",
       "      <td>...</td>\n",
       "      <td>0</td>\n",
       "      <td>0</td>\n",
       "      <td>0</td>\n",
       "      <td>0</td>\n",
       "      <td>0</td>\n",
       "      <td>0</td>\n",
       "      <td>0</td>\n",
       "      <td>0</td>\n",
       "      <td>0</td>\n",
       "      <td>1</td>\n",
       "    </tr>\n",
       "  </tbody>\n",
       "</table>\n",
       "<p>1000 rows × 124 columns</p>\n",
       "</div>"
      ],
      "text/plain": [
       "     monthtime  yeartime  datetimeEpoch     tempmax    tempmin       temp  \\\n",
       "0            9      2024     1725692400  106.100000  91.000000  98.500000   \n",
       "1            9      2024     1725778800  103.900000  87.000000  95.400000   \n",
       "2            9      2024     1725865200  105.000000  83.900000  94.700000   \n",
       "3            9      2024     1725951600  106.100000  81.200000  93.900000   \n",
       "4            9      2024     1726038000  106.100000  82.100000  94.000000   \n",
       "..         ...       ...            ...         ...        ...        ...   \n",
       "995          9      2024     1726632592   76.060546  64.359387  69.002142   \n",
       "996          9      2024     1726550178   68.409198  65.939319  66.567410   \n",
       "997          9      2024     1726121998   69.756690  65.286919  65.919492   \n",
       "998          9      2024     1726283774   77.106797  61.481724  68.106569   \n",
       "999          9      2024     1726618425   90.923080  79.296868  81.636991   \n",
       "\n",
       "     feelslikemax  feelslikemin  feelslike        dew  ...  City_San Antonio  \\\n",
       "0      104.000000     88.100000  95.900000  51.500000  ...                 0   \n",
       "1      100.500000     84.700000  92.300000  48.700000  ...                 0   \n",
       "2       99.900000     81.600000  90.600000  41.700000  ...                 0   \n",
       "3      100.600000     79.500000  89.800000  39.100000  ...                 0   \n",
       "4      101.000000     80.000000  90.000000  40.100000  ...                 0   \n",
       "..            ...           ...        ...        ...  ...               ...   \n",
       "995     77.673823     63.510920  67.003338  59.936776  ...                 0   \n",
       "996     68.956722     64.805635  65.992526  59.010257  ...                 0   \n",
       "997     68.158536     63.662942  67.313322  62.024442  ...                 0   \n",
       "998     76.426959     60.901526  68.094309  63.169608  ...                 0   \n",
       "999     94.180423     78.071851  84.987113  73.393045  ...                 0   \n",
       "\n",
       "     City_San Diego  City_San Jose  Day_of_Week_Friday  Day_of_Week_Monday  \\\n",
       "0                 0              0                   0                   0   \n",
       "1                 0              0                   0                   0   \n",
       "2                 0              0                   0                   1   \n",
       "3                 0              0                   0                   0   \n",
       "4                 0              0                   0                   0   \n",
       "..              ...            ...                 ...                 ...   \n",
       "995               0              0                   0                   0   \n",
       "996               1              0                   0                   0   \n",
       "997               1              0                   0                   0   \n",
       "998               0              0                   0                   0   \n",
       "999               0              0                   0                   0   \n",
       "\n",
       "     Day_of_Week_Saturday  Day_of_Week_Sunday  Day_of_Week_Thursday  \\\n",
       "0                       1                   0                     0   \n",
       "1                       0                   1                     0   \n",
       "2                       0                   0                     0   \n",
       "3                       0                   0                     0   \n",
       "4                       0                   0                     0   \n",
       "..                    ...                 ...                   ...   \n",
       "995                     0                   0                     0   \n",
       "996                     0                   0                     0   \n",
       "997                     0                   0                     1   \n",
       "998                     1                   0                     0   \n",
       "999                     0                   0                     0   \n",
       "\n",
       "     Day_of_Week_Tuesday  Day_of_Week_Wednesday  \n",
       "0                      0                      0  \n",
       "1                      0                      0  \n",
       "2                      0                      0  \n",
       "3                      1                      0  \n",
       "4                      0                      1  \n",
       "..                   ...                    ...  \n",
       "995                    0                      1  \n",
       "996                    1                      0  \n",
       "997                    0                      0  \n",
       "998                    0                      0  \n",
       "999                    0                      1  \n",
       "\n",
       "[1000 rows x 124 columns]"
      ]
     },
     "execution_count": 333,
     "metadata": {},
     "output_type": "execute_result"
    }
   ],
   "source": [
    "df=pd.get_dummies(df, columns=['Day_of_Week'], dtype=int)\n",
    "df"
   ]
  },
  {
   "cell_type": "markdown",
   "id": "867ad8fb-363f-49a2-91c5-91f9aabe7043",
   "metadata": {},
   "source": [
    "### 3.45 Is_weekend\n",
    "  \n",
    " "
   ]
  },
  {
   "cell_type": "code",
   "execution_count": 334,
   "id": "b93ed2ce-e6da-470a-b9f9-9e7ed502830b",
   "metadata": {},
   "outputs": [
    {
     "name": "stdout",
     "output_type": "stream",
     "text": [
      "<class 'pandas.core.series.Series'>\n",
      "RangeIndex: 1000 entries, 0 to 999\n",
      "Series name: Is_Weekend\n",
      "Non-Null Count  Dtype\n",
      "--------------  -----\n",
      "1000 non-null   bool \n",
      "dtypes: bool(1)\n",
      "memory usage: 1.1 KB\n"
     ]
    }
   ],
   "source": [
    "df['Is_Weekend'].info()"
   ]
  },
  {
   "cell_type": "code",
   "execution_count": 335,
   "id": "ef5d900d-6ac0-4fea-90f9-8c072f4e91d0",
   "metadata": {},
   "outputs": [
    {
     "data": {
      "text/plain": [
       "Is_Weekend\n",
       "False    668\n",
       "True     332\n",
       "Name: count, dtype: int64"
      ]
     },
     "execution_count": 335,
     "metadata": {},
     "output_type": "execute_result"
    }
   ],
   "source": [
    "df['Is_Weekend'].value_counts()"
   ]
  },
  {
   "cell_type": "markdown",
   "id": "014c29fa-8720-4e42-b978-2771e27c341b",
   "metadata": {},
   "source": [
    "#### 4. Model Training"
   ]
  },
  {
   "cell_type": "code",
   "execution_count": 336,
   "id": "045d5c5c-8782-4fce-8a3b-770d3634811f",
   "metadata": {},
   "outputs": [],
   "source": [
    "x=df.drop('Health_Risk_Score', axis=1)\n",
    "y=df['Health_Risk_Score']"
   ]
  },
  {
   "cell_type": "markdown",
   "id": "1ebb31b4-059c-4796-ab0c-e97aa343c046",
   "metadata": {},
   "source": [
    "### Scalling Added Here"
   ]
  },
  {
   "cell_type": "raw",
   "id": "a7cecc5e-f5ab-47c9-adea-ada87f1f1e46",
   "metadata": {},
   "source": [
    "from sklearn.preprocessing import MinMaxScaler\n",
    "\n",
    "normal_scaler=MinMaxScaler()\n",
    "array=normal_scaler.fit_transform(x)\n",
    "x=pd.DataFrame(array, columns=x.columns)\n",
    "x"
   ]
  },
  {
   "cell_type": "code",
   "execution_count": 337,
   "id": "364d9bac-6af1-4dca-bc37-6cd4d35d4945",
   "metadata": {},
   "outputs": [
    {
     "data": {
      "text/html": [
       "<div>\n",
       "<style scoped>\n",
       "    .dataframe tbody tr th:only-of-type {\n",
       "        vertical-align: middle;\n",
       "    }\n",
       "\n",
       "    .dataframe tbody tr th {\n",
       "        vertical-align: top;\n",
       "    }\n",
       "\n",
       "    .dataframe thead th {\n",
       "        text-align: right;\n",
       "    }\n",
       "</style>\n",
       "<table border=\"1\" class=\"dataframe\">\n",
       "  <thead>\n",
       "    <tr style=\"text-align: right;\">\n",
       "      <th></th>\n",
       "      <th>monthtime</th>\n",
       "      <th>datetimeEpoch</th>\n",
       "      <th>tempmax</th>\n",
       "      <th>tempmin</th>\n",
       "      <th>temp</th>\n",
       "      <th>feelslikemax</th>\n",
       "      <th>feelslikemin</th>\n",
       "      <th>feelslike</th>\n",
       "      <th>dew</th>\n",
       "      <th>humidity</th>\n",
       "      <th>...</th>\n",
       "      <th>City_San Antonio</th>\n",
       "      <th>City_San Diego</th>\n",
       "      <th>City_San Jose</th>\n",
       "      <th>Day_of_Week_Friday</th>\n",
       "      <th>Day_of_Week_Monday</th>\n",
       "      <th>Day_of_Week_Saturday</th>\n",
       "      <th>Day_of_Week_Sunday</th>\n",
       "      <th>Day_of_Week_Thursday</th>\n",
       "      <th>Day_of_Week_Tuesday</th>\n",
       "      <th>Day_of_Week_Wednesday</th>\n",
       "    </tr>\n",
       "  </thead>\n",
       "  <tbody>\n",
       "    <tr>\n",
       "      <th>0</th>\n",
       "      <td>9</td>\n",
       "      <td>1725692400</td>\n",
       "      <td>106.100000</td>\n",
       "      <td>91.000000</td>\n",
       "      <td>98.500000</td>\n",
       "      <td>104.000000</td>\n",
       "      <td>88.100000</td>\n",
       "      <td>95.900000</td>\n",
       "      <td>51.500000</td>\n",
       "      <td>21.000000</td>\n",
       "      <td>...</td>\n",
       "      <td>0</td>\n",
       "      <td>0</td>\n",
       "      <td>0</td>\n",
       "      <td>0</td>\n",
       "      <td>0</td>\n",
       "      <td>1</td>\n",
       "      <td>0</td>\n",
       "      <td>0</td>\n",
       "      <td>0</td>\n",
       "      <td>0</td>\n",
       "    </tr>\n",
       "    <tr>\n",
       "      <th>1</th>\n",
       "      <td>9</td>\n",
       "      <td>1725778800</td>\n",
       "      <td>103.900000</td>\n",
       "      <td>87.000000</td>\n",
       "      <td>95.400000</td>\n",
       "      <td>100.500000</td>\n",
       "      <td>84.700000</td>\n",
       "      <td>92.300000</td>\n",
       "      <td>48.700000</td>\n",
       "      <td>21.500000</td>\n",
       "      <td>...</td>\n",
       "      <td>0</td>\n",
       "      <td>0</td>\n",
       "      <td>0</td>\n",
       "      <td>0</td>\n",
       "      <td>0</td>\n",
       "      <td>0</td>\n",
       "      <td>1</td>\n",
       "      <td>0</td>\n",
       "      <td>0</td>\n",
       "      <td>0</td>\n",
       "    </tr>\n",
       "    <tr>\n",
       "      <th>2</th>\n",
       "      <td>9</td>\n",
       "      <td>1725865200</td>\n",
       "      <td>105.000000</td>\n",
       "      <td>83.900000</td>\n",
       "      <td>94.700000</td>\n",
       "      <td>99.900000</td>\n",
       "      <td>81.600000</td>\n",
       "      <td>90.600000</td>\n",
       "      <td>41.700000</td>\n",
       "      <td>16.900000</td>\n",
       "      <td>...</td>\n",
       "      <td>0</td>\n",
       "      <td>0</td>\n",
       "      <td>0</td>\n",
       "      <td>0</td>\n",
       "      <td>1</td>\n",
       "      <td>0</td>\n",
       "      <td>0</td>\n",
       "      <td>0</td>\n",
       "      <td>0</td>\n",
       "      <td>0</td>\n",
       "    </tr>\n",
       "    <tr>\n",
       "      <th>3</th>\n",
       "      <td>9</td>\n",
       "      <td>1725951600</td>\n",
       "      <td>106.100000</td>\n",
       "      <td>81.200000</td>\n",
       "      <td>93.900000</td>\n",
       "      <td>100.600000</td>\n",
       "      <td>79.500000</td>\n",
       "      <td>89.800000</td>\n",
       "      <td>39.100000</td>\n",
       "      <td>15.700000</td>\n",
       "      <td>...</td>\n",
       "      <td>0</td>\n",
       "      <td>0</td>\n",
       "      <td>0</td>\n",
       "      <td>0</td>\n",
       "      <td>0</td>\n",
       "      <td>0</td>\n",
       "      <td>0</td>\n",
       "      <td>0</td>\n",
       "      <td>1</td>\n",
       "      <td>0</td>\n",
       "    </tr>\n",
       "    <tr>\n",
       "      <th>4</th>\n",
       "      <td>9</td>\n",
       "      <td>1726038000</td>\n",
       "      <td>106.100000</td>\n",
       "      <td>82.100000</td>\n",
       "      <td>94.000000</td>\n",
       "      <td>101.000000</td>\n",
       "      <td>80.000000</td>\n",
       "      <td>90.000000</td>\n",
       "      <td>40.100000</td>\n",
       "      <td>15.900000</td>\n",
       "      <td>...</td>\n",
       "      <td>0</td>\n",
       "      <td>0</td>\n",
       "      <td>0</td>\n",
       "      <td>0</td>\n",
       "      <td>0</td>\n",
       "      <td>0</td>\n",
       "      <td>0</td>\n",
       "      <td>0</td>\n",
       "      <td>0</td>\n",
       "      <td>1</td>\n",
       "    </tr>\n",
       "    <tr>\n",
       "      <th>...</th>\n",
       "      <td>...</td>\n",
       "      <td>...</td>\n",
       "      <td>...</td>\n",
       "      <td>...</td>\n",
       "      <td>...</td>\n",
       "      <td>...</td>\n",
       "      <td>...</td>\n",
       "      <td>...</td>\n",
       "      <td>...</td>\n",
       "      <td>...</td>\n",
       "      <td>...</td>\n",
       "      <td>...</td>\n",
       "      <td>...</td>\n",
       "      <td>...</td>\n",
       "      <td>...</td>\n",
       "      <td>...</td>\n",
       "      <td>...</td>\n",
       "      <td>...</td>\n",
       "      <td>...</td>\n",
       "      <td>...</td>\n",
       "      <td>...</td>\n",
       "    </tr>\n",
       "    <tr>\n",
       "      <th>995</th>\n",
       "      <td>9</td>\n",
       "      <td>1726632592</td>\n",
       "      <td>76.060546</td>\n",
       "      <td>64.359387</td>\n",
       "      <td>69.002142</td>\n",
       "      <td>77.673823</td>\n",
       "      <td>63.510920</td>\n",
       "      <td>67.003338</td>\n",
       "      <td>59.936776</td>\n",
       "      <td>73.189130</td>\n",
       "      <td>...</td>\n",
       "      <td>0</td>\n",
       "      <td>0</td>\n",
       "      <td>0</td>\n",
       "      <td>0</td>\n",
       "      <td>0</td>\n",
       "      <td>0</td>\n",
       "      <td>0</td>\n",
       "      <td>0</td>\n",
       "      <td>0</td>\n",
       "      <td>1</td>\n",
       "    </tr>\n",
       "    <tr>\n",
       "      <th>996</th>\n",
       "      <td>9</td>\n",
       "      <td>1726550178</td>\n",
       "      <td>68.409198</td>\n",
       "      <td>65.939319</td>\n",
       "      <td>66.567410</td>\n",
       "      <td>68.956722</td>\n",
       "      <td>64.805635</td>\n",
       "      <td>65.992526</td>\n",
       "      <td>59.010257</td>\n",
       "      <td>74.137401</td>\n",
       "      <td>...</td>\n",
       "      <td>0</td>\n",
       "      <td>1</td>\n",
       "      <td>0</td>\n",
       "      <td>0</td>\n",
       "      <td>0</td>\n",
       "      <td>0</td>\n",
       "      <td>0</td>\n",
       "      <td>0</td>\n",
       "      <td>1</td>\n",
       "      <td>0</td>\n",
       "    </tr>\n",
       "    <tr>\n",
       "      <th>997</th>\n",
       "      <td>9</td>\n",
       "      <td>1726121998</td>\n",
       "      <td>69.756690</td>\n",
       "      <td>65.286919</td>\n",
       "      <td>65.919492</td>\n",
       "      <td>68.158536</td>\n",
       "      <td>63.662942</td>\n",
       "      <td>67.313322</td>\n",
       "      <td>62.024442</td>\n",
       "      <td>84.650482</td>\n",
       "      <td>...</td>\n",
       "      <td>0</td>\n",
       "      <td>1</td>\n",
       "      <td>0</td>\n",
       "      <td>0</td>\n",
       "      <td>0</td>\n",
       "      <td>0</td>\n",
       "      <td>0</td>\n",
       "      <td>1</td>\n",
       "      <td>0</td>\n",
       "      <td>0</td>\n",
       "    </tr>\n",
       "    <tr>\n",
       "      <th>998</th>\n",
       "      <td>9</td>\n",
       "      <td>1726283774</td>\n",
       "      <td>77.106797</td>\n",
       "      <td>61.481724</td>\n",
       "      <td>68.106569</td>\n",
       "      <td>76.426959</td>\n",
       "      <td>60.901526</td>\n",
       "      <td>68.094309</td>\n",
       "      <td>63.169608</td>\n",
       "      <td>86.860261</td>\n",
       "      <td>...</td>\n",
       "      <td>0</td>\n",
       "      <td>0</td>\n",
       "      <td>0</td>\n",
       "      <td>0</td>\n",
       "      <td>0</td>\n",
       "      <td>1</td>\n",
       "      <td>0</td>\n",
       "      <td>0</td>\n",
       "      <td>0</td>\n",
       "      <td>0</td>\n",
       "    </tr>\n",
       "    <tr>\n",
       "      <th>999</th>\n",
       "      <td>9</td>\n",
       "      <td>1726618425</td>\n",
       "      <td>90.923080</td>\n",
       "      <td>79.296868</td>\n",
       "      <td>81.636991</td>\n",
       "      <td>94.180423</td>\n",
       "      <td>78.071851</td>\n",
       "      <td>84.987113</td>\n",
       "      <td>73.393045</td>\n",
       "      <td>74.734715</td>\n",
       "      <td>...</td>\n",
       "      <td>0</td>\n",
       "      <td>0</td>\n",
       "      <td>0</td>\n",
       "      <td>0</td>\n",
       "      <td>0</td>\n",
       "      <td>0</td>\n",
       "      <td>0</td>\n",
       "      <td>0</td>\n",
       "      <td>0</td>\n",
       "      <td>1</td>\n",
       "    </tr>\n",
       "  </tbody>\n",
       "</table>\n",
       "<p>1000 rows × 120 columns</p>\n",
       "</div>"
      ],
      "text/plain": [
       "     monthtime  datetimeEpoch     tempmax    tempmin       temp  feelslikemax  \\\n",
       "0            9     1725692400  106.100000  91.000000  98.500000    104.000000   \n",
       "1            9     1725778800  103.900000  87.000000  95.400000    100.500000   \n",
       "2            9     1725865200  105.000000  83.900000  94.700000     99.900000   \n",
       "3            9     1725951600  106.100000  81.200000  93.900000    100.600000   \n",
       "4            9     1726038000  106.100000  82.100000  94.000000    101.000000   \n",
       "..         ...            ...         ...        ...        ...           ...   \n",
       "995          9     1726632592   76.060546  64.359387  69.002142     77.673823   \n",
       "996          9     1726550178   68.409198  65.939319  66.567410     68.956722   \n",
       "997          9     1726121998   69.756690  65.286919  65.919492     68.158536   \n",
       "998          9     1726283774   77.106797  61.481724  68.106569     76.426959   \n",
       "999          9     1726618425   90.923080  79.296868  81.636991     94.180423   \n",
       "\n",
       "     feelslikemin  feelslike        dew   humidity  ...  City_San Antonio  \\\n",
       "0       88.100000  95.900000  51.500000  21.000000  ...                 0   \n",
       "1       84.700000  92.300000  48.700000  21.500000  ...                 0   \n",
       "2       81.600000  90.600000  41.700000  16.900000  ...                 0   \n",
       "3       79.500000  89.800000  39.100000  15.700000  ...                 0   \n",
       "4       80.000000  90.000000  40.100000  15.900000  ...                 0   \n",
       "..            ...        ...        ...        ...  ...               ...   \n",
       "995     63.510920  67.003338  59.936776  73.189130  ...                 0   \n",
       "996     64.805635  65.992526  59.010257  74.137401  ...                 0   \n",
       "997     63.662942  67.313322  62.024442  84.650482  ...                 0   \n",
       "998     60.901526  68.094309  63.169608  86.860261  ...                 0   \n",
       "999     78.071851  84.987113  73.393045  74.734715  ...                 0   \n",
       "\n",
       "     City_San Diego  City_San Jose  Day_of_Week_Friday  Day_of_Week_Monday  \\\n",
       "0                 0              0                   0                   0   \n",
       "1                 0              0                   0                   0   \n",
       "2                 0              0                   0                   1   \n",
       "3                 0              0                   0                   0   \n",
       "4                 0              0                   0                   0   \n",
       "..              ...            ...                 ...                 ...   \n",
       "995               0              0                   0                   0   \n",
       "996               1              0                   0                   0   \n",
       "997               1              0                   0                   0   \n",
       "998               0              0                   0                   0   \n",
       "999               0              0                   0                   0   \n",
       "\n",
       "     Day_of_Week_Saturday  Day_of_Week_Sunday  Day_of_Week_Thursday  \\\n",
       "0                       1                   0                     0   \n",
       "1                       0                   1                     0   \n",
       "2                       0                   0                     0   \n",
       "3                       0                   0                     0   \n",
       "4                       0                   0                     0   \n",
       "..                    ...                 ...                   ...   \n",
       "995                     0                   0                     0   \n",
       "996                     0                   0                     0   \n",
       "997                     0                   0                     1   \n",
       "998                     1                   0                     0   \n",
       "999                     0                   0                     0   \n",
       "\n",
       "     Day_of_Week_Tuesday  Day_of_Week_Wednesday  \n",
       "0                      0                      0  \n",
       "1                      0                      0  \n",
       "2                      0                      0  \n",
       "3                      1                      0  \n",
       "4                      0                      1  \n",
       "..                   ...                    ...  \n",
       "995                    0                      1  \n",
       "996                    1                      0  \n",
       "997                    0                      0  \n",
       "998                    0                      0  \n",
       "999                    0                      1  \n",
       "\n",
       "[1000 rows x 120 columns]"
      ]
     },
     "execution_count": 337,
     "metadata": {},
     "output_type": "execute_result"
    }
   ],
   "source": [
    "#### this are effected based having some 0 vlaues so droped in before model negotiate \n",
    "# snowdepth, Condition_Code (delete) , snow, (delete)\n",
    "\n",
    "x=df.drop(columns=['snowdepth','Condition_Code','snow', 'yeartime'] ,axis=1)\n",
    "x"
   ]
  },
  {
   "cell_type": "raw",
   "id": "8a84cfbc-658c-4559-8cc1-3835587f231d",
   "metadata": {},
   "source": [
    "from sklearn.feature_selection import mutual_info_regression\n",
    "array=mutual_info_regression(x,y)\n",
    "s2=pd.Series(array, index=x.columns)\n",
    "print(s2) \n",
    "s2.sort_values().plot(kind='bar')"
   ]
  },
  {
   "cell_type": "code",
   "execution_count": 338,
   "id": "eaaa42f2-7975-4a92-bb09-cdf77bac2266",
   "metadata": {},
   "outputs": [
    {
     "data": {
      "text/html": [
       "<div>\n",
       "<style scoped>\n",
       "    .dataframe tbody tr th:only-of-type {\n",
       "        vertical-align: middle;\n",
       "    }\n",
       "\n",
       "    .dataframe tbody tr th {\n",
       "        vertical-align: top;\n",
       "    }\n",
       "\n",
       "    .dataframe thead th {\n",
       "        text-align: right;\n",
       "    }\n",
       "</style>\n",
       "<table border=\"1\" class=\"dataframe\">\n",
       "  <thead>\n",
       "    <tr style=\"text-align: right;\">\n",
       "      <th></th>\n",
       "      <th>monthtime</th>\n",
       "      <th>datetimeEpoch</th>\n",
       "      <th>tempmax</th>\n",
       "      <th>tempmin</th>\n",
       "      <th>temp</th>\n",
       "      <th>feelslikemax</th>\n",
       "      <th>feelslikemin</th>\n",
       "      <th>feelslike</th>\n",
       "      <th>dew</th>\n",
       "      <th>humidity</th>\n",
       "      <th>...</th>\n",
       "      <th>City_San Antonio</th>\n",
       "      <th>City_San Diego</th>\n",
       "      <th>City_San Jose</th>\n",
       "      <th>Day_of_Week_Friday</th>\n",
       "      <th>Day_of_Week_Monday</th>\n",
       "      <th>Day_of_Week_Saturday</th>\n",
       "      <th>Day_of_Week_Sunday</th>\n",
       "      <th>Day_of_Week_Thursday</th>\n",
       "      <th>Day_of_Week_Tuesday</th>\n",
       "      <th>Day_of_Week_Wednesday</th>\n",
       "    </tr>\n",
       "  </thead>\n",
       "  <tbody>\n",
       "    <tr>\n",
       "      <th>0</th>\n",
       "      <td>0.727273</td>\n",
       "      <td>0.048839</td>\n",
       "      <td>0.962908</td>\n",
       "      <td>0.985056</td>\n",
       "      <td>0.969490</td>\n",
       "      <td>0.975261</td>\n",
       "      <td>0.968673</td>\n",
       "      <td>0.943282</td>\n",
       "      <td>0.500888</td>\n",
       "      <td>0.114585</td>\n",
       "      <td>...</td>\n",
       "      <td>0.0</td>\n",
       "      <td>0.0</td>\n",
       "      <td>0.0</td>\n",
       "      <td>0.0</td>\n",
       "      <td>0.0</td>\n",
       "      <td>1.0</td>\n",
       "      <td>0.0</td>\n",
       "      <td>0.0</td>\n",
       "      <td>0.0</td>\n",
       "      <td>0.0</td>\n",
       "    </tr>\n",
       "    <tr>\n",
       "      <th>1</th>\n",
       "      <td>0.727273</td>\n",
       "      <td>0.110674</td>\n",
       "      <td>0.914833</td>\n",
       "      <td>0.890998</td>\n",
       "      <td>0.899518</td>\n",
       "      <td>0.893588</td>\n",
       "      <td>0.884797</td>\n",
       "      <td>0.854272</td>\n",
       "      <td>0.445318</td>\n",
       "      <td>0.120781</td>\n",
       "      <td>...</td>\n",
       "      <td>0.0</td>\n",
       "      <td>0.0</td>\n",
       "      <td>0.0</td>\n",
       "      <td>0.0</td>\n",
       "      <td>0.0</td>\n",
       "      <td>0.0</td>\n",
       "      <td>1.0</td>\n",
       "      <td>0.0</td>\n",
       "      <td>0.0</td>\n",
       "      <td>0.0</td>\n",
       "    </tr>\n",
       "    <tr>\n",
       "      <th>2</th>\n",
       "      <td>0.727273</td>\n",
       "      <td>0.172509</td>\n",
       "      <td>0.938871</td>\n",
       "      <td>0.818104</td>\n",
       "      <td>0.883718</td>\n",
       "      <td>0.879587</td>\n",
       "      <td>0.808321</td>\n",
       "      <td>0.812240</td>\n",
       "      <td>0.306393</td>\n",
       "      <td>0.063784</td>\n",
       "      <td>...</td>\n",
       "      <td>0.0</td>\n",
       "      <td>0.0</td>\n",
       "      <td>0.0</td>\n",
       "      <td>0.0</td>\n",
       "      <td>1.0</td>\n",
       "      <td>0.0</td>\n",
       "      <td>0.0</td>\n",
       "      <td>0.0</td>\n",
       "      <td>0.0</td>\n",
       "      <td>0.0</td>\n",
       "    </tr>\n",
       "    <tr>\n",
       "      <th>3</th>\n",
       "      <td>0.727273</td>\n",
       "      <td>0.234344</td>\n",
       "      <td>0.962908</td>\n",
       "      <td>0.754616</td>\n",
       "      <td>0.865660</td>\n",
       "      <td>0.895921</td>\n",
       "      <td>0.756515</td>\n",
       "      <td>0.792460</td>\n",
       "      <td>0.254792</td>\n",
       "      <td>0.048916</td>\n",
       "      <td>...</td>\n",
       "      <td>0.0</td>\n",
       "      <td>0.0</td>\n",
       "      <td>0.0</td>\n",
       "      <td>0.0</td>\n",
       "      <td>0.0</td>\n",
       "      <td>0.0</td>\n",
       "      <td>0.0</td>\n",
       "      <td>0.0</td>\n",
       "      <td>1.0</td>\n",
       "      <td>0.0</td>\n",
       "    </tr>\n",
       "    <tr>\n",
       "      <th>4</th>\n",
       "      <td>0.727273</td>\n",
       "      <td>0.296179</td>\n",
       "      <td>0.962908</td>\n",
       "      <td>0.775778</td>\n",
       "      <td>0.867918</td>\n",
       "      <td>0.905255</td>\n",
       "      <td>0.768850</td>\n",
       "      <td>0.797405</td>\n",
       "      <td>0.274639</td>\n",
       "      <td>0.051394</td>\n",
       "      <td>...</td>\n",
       "      <td>0.0</td>\n",
       "      <td>0.0</td>\n",
       "      <td>0.0</td>\n",
       "      <td>0.0</td>\n",
       "      <td>0.0</td>\n",
       "      <td>0.0</td>\n",
       "      <td>0.0</td>\n",
       "      <td>0.0</td>\n",
       "      <td>0.0</td>\n",
       "      <td>1.0</td>\n",
       "    </tr>\n",
       "    <tr>\n",
       "      <th>...</th>\n",
       "      <td>...</td>\n",
       "      <td>...</td>\n",
       "      <td>...</td>\n",
       "      <td>...</td>\n",
       "      <td>...</td>\n",
       "      <td>...</td>\n",
       "      <td>...</td>\n",
       "      <td>...</td>\n",
       "      <td>...</td>\n",
       "      <td>...</td>\n",
       "      <td>...</td>\n",
       "      <td>...</td>\n",
       "      <td>...</td>\n",
       "      <td>...</td>\n",
       "      <td>...</td>\n",
       "      <td>...</td>\n",
       "      <td>...</td>\n",
       "      <td>...</td>\n",
       "      <td>...</td>\n",
       "      <td>...</td>\n",
       "      <td>...</td>\n",
       "    </tr>\n",
       "    <tr>\n",
       "      <th>995</th>\n",
       "      <td>0.727273</td>\n",
       "      <td>0.721718</td>\n",
       "      <td>0.306480</td>\n",
       "      <td>0.358620</td>\n",
       "      <td>0.303673</td>\n",
       "      <td>0.360935</td>\n",
       "      <td>0.362072</td>\n",
       "      <td>0.228816</td>\n",
       "      <td>0.668328</td>\n",
       "      <td>0.761234</td>\n",
       "      <td>...</td>\n",
       "      <td>0.0</td>\n",
       "      <td>0.0</td>\n",
       "      <td>0.0</td>\n",
       "      <td>0.0</td>\n",
       "      <td>0.0</td>\n",
       "      <td>0.0</td>\n",
       "      <td>0.0</td>\n",
       "      <td>0.0</td>\n",
       "      <td>0.0</td>\n",
       "      <td>1.0</td>\n",
       "    </tr>\n",
       "    <tr>\n",
       "      <th>996</th>\n",
       "      <td>0.727273</td>\n",
       "      <td>0.662736</td>\n",
       "      <td>0.139281</td>\n",
       "      <td>0.395771</td>\n",
       "      <td>0.248717</td>\n",
       "      <td>0.157520</td>\n",
       "      <td>0.394012</td>\n",
       "      <td>0.203824</td>\n",
       "      <td>0.649940</td>\n",
       "      <td>0.772983</td>\n",
       "      <td>...</td>\n",
       "      <td>0.0</td>\n",
       "      <td>1.0</td>\n",
       "      <td>0.0</td>\n",
       "      <td>0.0</td>\n",
       "      <td>0.0</td>\n",
       "      <td>0.0</td>\n",
       "      <td>0.0</td>\n",
       "      <td>0.0</td>\n",
       "      <td>1.0</td>\n",
       "      <td>0.0</td>\n",
       "    </tr>\n",
       "    <tr>\n",
       "      <th>997</th>\n",
       "      <td>0.727273</td>\n",
       "      <td>0.356295</td>\n",
       "      <td>0.168727</td>\n",
       "      <td>0.380431</td>\n",
       "      <td>0.234093</td>\n",
       "      <td>0.138894</td>\n",
       "      <td>0.365822</td>\n",
       "      <td>0.236481</td>\n",
       "      <td>0.709761</td>\n",
       "      <td>0.903245</td>\n",
       "      <td>...</td>\n",
       "      <td>0.0</td>\n",
       "      <td>1.0</td>\n",
       "      <td>0.0</td>\n",
       "      <td>0.0</td>\n",
       "      <td>0.0</td>\n",
       "      <td>0.0</td>\n",
       "      <td>0.0</td>\n",
       "      <td>1.0</td>\n",
       "      <td>0.0</td>\n",
       "      <td>0.0</td>\n",
       "    </tr>\n",
       "    <tr>\n",
       "      <th>998</th>\n",
       "      <td>0.727273</td>\n",
       "      <td>0.472075</td>\n",
       "      <td>0.329343</td>\n",
       "      <td>0.290954</td>\n",
       "      <td>0.283459</td>\n",
       "      <td>0.331839</td>\n",
       "      <td>0.297699</td>\n",
       "      <td>0.255790</td>\n",
       "      <td>0.732489</td>\n",
       "      <td>0.930625</td>\n",
       "      <td>...</td>\n",
       "      <td>0.0</td>\n",
       "      <td>0.0</td>\n",
       "      <td>0.0</td>\n",
       "      <td>0.0</td>\n",
       "      <td>0.0</td>\n",
       "      <td>1.0</td>\n",
       "      <td>0.0</td>\n",
       "      <td>0.0</td>\n",
       "      <td>0.0</td>\n",
       "      <td>0.0</td>\n",
       "    </tr>\n",
       "    <tr>\n",
       "      <th>999</th>\n",
       "      <td>0.727273</td>\n",
       "      <td>0.711579</td>\n",
       "      <td>0.631259</td>\n",
       "      <td>0.709865</td>\n",
       "      <td>0.588863</td>\n",
       "      <td>0.746119</td>\n",
       "      <td>0.721283</td>\n",
       "      <td>0.673462</td>\n",
       "      <td>0.935387</td>\n",
       "      <td>0.780384</td>\n",
       "      <td>...</td>\n",
       "      <td>0.0</td>\n",
       "      <td>0.0</td>\n",
       "      <td>0.0</td>\n",
       "      <td>0.0</td>\n",
       "      <td>0.0</td>\n",
       "      <td>0.0</td>\n",
       "      <td>0.0</td>\n",
       "      <td>0.0</td>\n",
       "      <td>0.0</td>\n",
       "      <td>1.0</td>\n",
       "    </tr>\n",
       "  </tbody>\n",
       "</table>\n",
       "<p>1000 rows × 120 columns</p>\n",
       "</div>"
      ],
      "text/plain": [
       "     monthtime  datetimeEpoch   tempmax   tempmin      temp  feelslikemax  \\\n",
       "0     0.727273       0.048839  0.962908  0.985056  0.969490      0.975261   \n",
       "1     0.727273       0.110674  0.914833  0.890998  0.899518      0.893588   \n",
       "2     0.727273       0.172509  0.938871  0.818104  0.883718      0.879587   \n",
       "3     0.727273       0.234344  0.962908  0.754616  0.865660      0.895921   \n",
       "4     0.727273       0.296179  0.962908  0.775778  0.867918      0.905255   \n",
       "..         ...            ...       ...       ...       ...           ...   \n",
       "995   0.727273       0.721718  0.306480  0.358620  0.303673      0.360935   \n",
       "996   0.727273       0.662736  0.139281  0.395771  0.248717      0.157520   \n",
       "997   0.727273       0.356295  0.168727  0.380431  0.234093      0.138894   \n",
       "998   0.727273       0.472075  0.329343  0.290954  0.283459      0.331839   \n",
       "999   0.727273       0.711579  0.631259  0.709865  0.588863      0.746119   \n",
       "\n",
       "     feelslikemin  feelslike       dew  humidity  ...  City_San Antonio  \\\n",
       "0        0.968673   0.943282  0.500888  0.114585  ...               0.0   \n",
       "1        0.884797   0.854272  0.445318  0.120781  ...               0.0   \n",
       "2        0.808321   0.812240  0.306393  0.063784  ...               0.0   \n",
       "3        0.756515   0.792460  0.254792  0.048916  ...               0.0   \n",
       "4        0.768850   0.797405  0.274639  0.051394  ...               0.0   \n",
       "..            ...        ...       ...       ...  ...               ...   \n",
       "995      0.362072   0.228816  0.668328  0.761234  ...               0.0   \n",
       "996      0.394012   0.203824  0.649940  0.772983  ...               0.0   \n",
       "997      0.365822   0.236481  0.709761  0.903245  ...               0.0   \n",
       "998      0.297699   0.255790  0.732489  0.930625  ...               0.0   \n",
       "999      0.721283   0.673462  0.935387  0.780384  ...               0.0   \n",
       "\n",
       "     City_San Diego  City_San Jose  Day_of_Week_Friday  Day_of_Week_Monday  \\\n",
       "0               0.0            0.0                 0.0                 0.0   \n",
       "1               0.0            0.0                 0.0                 0.0   \n",
       "2               0.0            0.0                 0.0                 1.0   \n",
       "3               0.0            0.0                 0.0                 0.0   \n",
       "4               0.0            0.0                 0.0                 0.0   \n",
       "..              ...            ...                 ...                 ...   \n",
       "995             0.0            0.0                 0.0                 0.0   \n",
       "996             1.0            0.0                 0.0                 0.0   \n",
       "997             1.0            0.0                 0.0                 0.0   \n",
       "998             0.0            0.0                 0.0                 0.0   \n",
       "999             0.0            0.0                 0.0                 0.0   \n",
       "\n",
       "     Day_of_Week_Saturday  Day_of_Week_Sunday  Day_of_Week_Thursday  \\\n",
       "0                     1.0                 0.0                   0.0   \n",
       "1                     0.0                 1.0                   0.0   \n",
       "2                     0.0                 0.0                   0.0   \n",
       "3                     0.0                 0.0                   0.0   \n",
       "4                     0.0                 0.0                   0.0   \n",
       "..                    ...                 ...                   ...   \n",
       "995                   0.0                 0.0                   0.0   \n",
       "996                   0.0                 0.0                   0.0   \n",
       "997                   0.0                 0.0                   1.0   \n",
       "998                   1.0                 0.0                   0.0   \n",
       "999                   0.0                 0.0                   0.0   \n",
       "\n",
       "     Day_of_Week_Tuesday  Day_of_Week_Wednesday  \n",
       "0                    0.0                    0.0  \n",
       "1                    0.0                    0.0  \n",
       "2                    0.0                    0.0  \n",
       "3                    1.0                    0.0  \n",
       "4                    0.0                    1.0  \n",
       "..                   ...                    ...  \n",
       "995                  0.0                    1.0  \n",
       "996                  1.0                    0.0  \n",
       "997                  0.0                    0.0  \n",
       "998                  0.0                    0.0  \n",
       "999                  0.0                    1.0  \n",
       "\n",
       "[1000 rows x 120 columns]"
      ]
     },
     "execution_count": 338,
     "metadata": {},
     "output_type": "execute_result"
    }
   ],
   "source": [
    "from sklearn.preprocessing import MinMaxScaler\n",
    "normal_scaler=MinMaxScaler()\n",
    "array=normal_scaler.fit_transform(x)\n",
    "x=pd.DataFrame(array, columns=x.columns)\n",
    "x"
   ]
  },
  {
   "cell_type": "code",
   "execution_count": 339,
   "id": "1f2d3959-6bf2-4ec2-aaa0-09b7a88caff1",
   "metadata": {},
   "outputs": [],
   "source": [
    "x=df.drop('Health_Risk_Score', axis=1)\n",
    "y=df['Health_Risk_Score']"
   ]
  },
  {
   "cell_type": "code",
   "execution_count": 340,
   "id": "fb07b34f-4d0c-4147-a4ce-9c388c722eb3",
   "metadata": {},
   "outputs": [],
   "source": [
    "x_train, x_test, y_train, y_test=train_test_split(x,y, test_size=0.2, random_state=30, shuffle=True)"
   ]
  },
  {
   "cell_type": "code",
   "execution_count": 346,
   "id": "02bd8369-cc22-403b-a25d-3641c501f1ab",
   "metadata": {},
   "outputs": [
    {
     "data": {
      "text/html": [
       "<style>#sk-container-id-1 {\n",
       "  /* Definition of color scheme common for light and dark mode */\n",
       "  --sklearn-color-text: black;\n",
       "  --sklearn-color-line: gray;\n",
       "  /* Definition of color scheme for unfitted estimators */\n",
       "  --sklearn-color-unfitted-level-0: #fff5e6;\n",
       "  --sklearn-color-unfitted-level-1: #f6e4d2;\n",
       "  --sklearn-color-unfitted-level-2: #ffe0b3;\n",
       "  --sklearn-color-unfitted-level-3: chocolate;\n",
       "  /* Definition of color scheme for fitted estimators */\n",
       "  --sklearn-color-fitted-level-0: #f0f8ff;\n",
       "  --sklearn-color-fitted-level-1: #d4ebff;\n",
       "  --sklearn-color-fitted-level-2: #b3dbfd;\n",
       "  --sklearn-color-fitted-level-3: cornflowerblue;\n",
       "\n",
       "  /* Specific color for light theme */\n",
       "  --sklearn-color-text-on-default-background: var(--sg-text-color, var(--theme-code-foreground, var(--jp-content-font-color1, black)));\n",
       "  --sklearn-color-background: var(--sg-background-color, var(--theme-background, var(--jp-layout-color0, white)));\n",
       "  --sklearn-color-border-box: var(--sg-text-color, var(--theme-code-foreground, var(--jp-content-font-color1, black)));\n",
       "  --sklearn-color-icon: #696969;\n",
       "\n",
       "  @media (prefers-color-scheme: dark) {\n",
       "    /* Redefinition of color scheme for dark theme */\n",
       "    --sklearn-color-text-on-default-background: var(--sg-text-color, var(--theme-code-foreground, var(--jp-content-font-color1, white)));\n",
       "    --sklearn-color-background: var(--sg-background-color, var(--theme-background, var(--jp-layout-color0, #111)));\n",
       "    --sklearn-color-border-box: var(--sg-text-color, var(--theme-code-foreground, var(--jp-content-font-color1, white)));\n",
       "    --sklearn-color-icon: #878787;\n",
       "  }\n",
       "}\n",
       "\n",
       "#sk-container-id-1 {\n",
       "  color: var(--sklearn-color-text);\n",
       "}\n",
       "\n",
       "#sk-container-id-1 pre {\n",
       "  padding: 0;\n",
       "}\n",
       "\n",
       "#sk-container-id-1 input.sk-hidden--visually {\n",
       "  border: 0;\n",
       "  clip: rect(1px 1px 1px 1px);\n",
       "  clip: rect(1px, 1px, 1px, 1px);\n",
       "  height: 1px;\n",
       "  margin: -1px;\n",
       "  overflow: hidden;\n",
       "  padding: 0;\n",
       "  position: absolute;\n",
       "  width: 1px;\n",
       "}\n",
       "\n",
       "#sk-container-id-1 div.sk-dashed-wrapped {\n",
       "  border: 1px dashed var(--sklearn-color-line);\n",
       "  margin: 0 0.4em 0.5em 0.4em;\n",
       "  box-sizing: border-box;\n",
       "  padding-bottom: 0.4em;\n",
       "  background-color: var(--sklearn-color-background);\n",
       "}\n",
       "\n",
       "#sk-container-id-1 div.sk-container {\n",
       "  /* jupyter's `normalize.less` sets `[hidden] { display: none; }`\n",
       "     but bootstrap.min.css set `[hidden] { display: none !important; }`\n",
       "     so we also need the `!important` here to be able to override the\n",
       "     default hidden behavior on the sphinx rendered scikit-learn.org.\n",
       "     See: https://github.com/scikit-learn/scikit-learn/issues/21755 */\n",
       "  display: inline-block !important;\n",
       "  position: relative;\n",
       "}\n",
       "\n",
       "#sk-container-id-1 div.sk-text-repr-fallback {\n",
       "  display: none;\n",
       "}\n",
       "\n",
       "div.sk-parallel-item,\n",
       "div.sk-serial,\n",
       "div.sk-item {\n",
       "  /* draw centered vertical line to link estimators */\n",
       "  background-image: linear-gradient(var(--sklearn-color-text-on-default-background), var(--sklearn-color-text-on-default-background));\n",
       "  background-size: 2px 100%;\n",
       "  background-repeat: no-repeat;\n",
       "  background-position: center center;\n",
       "}\n",
       "\n",
       "/* Parallel-specific style estimator block */\n",
       "\n",
       "#sk-container-id-1 div.sk-parallel-item::after {\n",
       "  content: \"\";\n",
       "  width: 100%;\n",
       "  border-bottom: 2px solid var(--sklearn-color-text-on-default-background);\n",
       "  flex-grow: 1;\n",
       "}\n",
       "\n",
       "#sk-container-id-1 div.sk-parallel {\n",
       "  display: flex;\n",
       "  align-items: stretch;\n",
       "  justify-content: center;\n",
       "  background-color: var(--sklearn-color-background);\n",
       "  position: relative;\n",
       "}\n",
       "\n",
       "#sk-container-id-1 div.sk-parallel-item {\n",
       "  display: flex;\n",
       "  flex-direction: column;\n",
       "}\n",
       "\n",
       "#sk-container-id-1 div.sk-parallel-item:first-child::after {\n",
       "  align-self: flex-end;\n",
       "  width: 50%;\n",
       "}\n",
       "\n",
       "#sk-container-id-1 div.sk-parallel-item:last-child::after {\n",
       "  align-self: flex-start;\n",
       "  width: 50%;\n",
       "}\n",
       "\n",
       "#sk-container-id-1 div.sk-parallel-item:only-child::after {\n",
       "  width: 0;\n",
       "}\n",
       "\n",
       "/* Serial-specific style estimator block */\n",
       "\n",
       "#sk-container-id-1 div.sk-serial {\n",
       "  display: flex;\n",
       "  flex-direction: column;\n",
       "  align-items: center;\n",
       "  background-color: var(--sklearn-color-background);\n",
       "  padding-right: 1em;\n",
       "  padding-left: 1em;\n",
       "}\n",
       "\n",
       "\n",
       "/* Toggleable style: style used for estimator/Pipeline/ColumnTransformer box that is\n",
       "clickable and can be expanded/collapsed.\n",
       "- Pipeline and ColumnTransformer use this feature and define the default style\n",
       "- Estimators will overwrite some part of the style using the `sk-estimator` class\n",
       "*/\n",
       "\n",
       "/* Pipeline and ColumnTransformer style (default) */\n",
       "\n",
       "#sk-container-id-1 div.sk-toggleable {\n",
       "  /* Default theme specific background. It is overwritten whether we have a\n",
       "  specific estimator or a Pipeline/ColumnTransformer */\n",
       "  background-color: var(--sklearn-color-background);\n",
       "}\n",
       "\n",
       "/* Toggleable label */\n",
       "#sk-container-id-1 label.sk-toggleable__label {\n",
       "  cursor: pointer;\n",
       "  display: block;\n",
       "  width: 100%;\n",
       "  margin-bottom: 0;\n",
       "  padding: 0.5em;\n",
       "  box-sizing: border-box;\n",
       "  text-align: center;\n",
       "}\n",
       "\n",
       "#sk-container-id-1 label.sk-toggleable__label-arrow:before {\n",
       "  /* Arrow on the left of the label */\n",
       "  content: \"▸\";\n",
       "  float: left;\n",
       "  margin-right: 0.25em;\n",
       "  color: var(--sklearn-color-icon);\n",
       "}\n",
       "\n",
       "#sk-container-id-1 label.sk-toggleable__label-arrow:hover:before {\n",
       "  color: var(--sklearn-color-text);\n",
       "}\n",
       "\n",
       "/* Toggleable content - dropdown */\n",
       "\n",
       "#sk-container-id-1 div.sk-toggleable__content {\n",
       "  max-height: 0;\n",
       "  max-width: 0;\n",
       "  overflow: hidden;\n",
       "  text-align: left;\n",
       "  /* unfitted */\n",
       "  background-color: var(--sklearn-color-unfitted-level-0);\n",
       "}\n",
       "\n",
       "#sk-container-id-1 div.sk-toggleable__content.fitted {\n",
       "  /* fitted */\n",
       "  background-color: var(--sklearn-color-fitted-level-0);\n",
       "}\n",
       "\n",
       "#sk-container-id-1 div.sk-toggleable__content pre {\n",
       "  margin: 0.2em;\n",
       "  border-radius: 0.25em;\n",
       "  color: var(--sklearn-color-text);\n",
       "  /* unfitted */\n",
       "  background-color: var(--sklearn-color-unfitted-level-0);\n",
       "}\n",
       "\n",
       "#sk-container-id-1 div.sk-toggleable__content.fitted pre {\n",
       "  /* unfitted */\n",
       "  background-color: var(--sklearn-color-fitted-level-0);\n",
       "}\n",
       "\n",
       "#sk-container-id-1 input.sk-toggleable__control:checked~div.sk-toggleable__content {\n",
       "  /* Expand drop-down */\n",
       "  max-height: 200px;\n",
       "  max-width: 100%;\n",
       "  overflow: auto;\n",
       "}\n",
       "\n",
       "#sk-container-id-1 input.sk-toggleable__control:checked~label.sk-toggleable__label-arrow:before {\n",
       "  content: \"▾\";\n",
       "}\n",
       "\n",
       "/* Pipeline/ColumnTransformer-specific style */\n",
       "\n",
       "#sk-container-id-1 div.sk-label input.sk-toggleable__control:checked~label.sk-toggleable__label {\n",
       "  color: var(--sklearn-color-text);\n",
       "  background-color: var(--sklearn-color-unfitted-level-2);\n",
       "}\n",
       "\n",
       "#sk-container-id-1 div.sk-label.fitted input.sk-toggleable__control:checked~label.sk-toggleable__label {\n",
       "  background-color: var(--sklearn-color-fitted-level-2);\n",
       "}\n",
       "\n",
       "/* Estimator-specific style */\n",
       "\n",
       "/* Colorize estimator box */\n",
       "#sk-container-id-1 div.sk-estimator input.sk-toggleable__control:checked~label.sk-toggleable__label {\n",
       "  /* unfitted */\n",
       "  background-color: var(--sklearn-color-unfitted-level-2);\n",
       "}\n",
       "\n",
       "#sk-container-id-1 div.sk-estimator.fitted input.sk-toggleable__control:checked~label.sk-toggleable__label {\n",
       "  /* fitted */\n",
       "  background-color: var(--sklearn-color-fitted-level-2);\n",
       "}\n",
       "\n",
       "#sk-container-id-1 div.sk-label label.sk-toggleable__label,\n",
       "#sk-container-id-1 div.sk-label label {\n",
       "  /* The background is the default theme color */\n",
       "  color: var(--sklearn-color-text-on-default-background);\n",
       "}\n",
       "\n",
       "/* On hover, darken the color of the background */\n",
       "#sk-container-id-1 div.sk-label:hover label.sk-toggleable__label {\n",
       "  color: var(--sklearn-color-text);\n",
       "  background-color: var(--sklearn-color-unfitted-level-2);\n",
       "}\n",
       "\n",
       "/* Label box, darken color on hover, fitted */\n",
       "#sk-container-id-1 div.sk-label.fitted:hover label.sk-toggleable__label.fitted {\n",
       "  color: var(--sklearn-color-text);\n",
       "  background-color: var(--sklearn-color-fitted-level-2);\n",
       "}\n",
       "\n",
       "/* Estimator label */\n",
       "\n",
       "#sk-container-id-1 div.sk-label label {\n",
       "  font-family: monospace;\n",
       "  font-weight: bold;\n",
       "  display: inline-block;\n",
       "  line-height: 1.2em;\n",
       "}\n",
       "\n",
       "#sk-container-id-1 div.sk-label-container {\n",
       "  text-align: center;\n",
       "}\n",
       "\n",
       "/* Estimator-specific */\n",
       "#sk-container-id-1 div.sk-estimator {\n",
       "  font-family: monospace;\n",
       "  border: 1px dotted var(--sklearn-color-border-box);\n",
       "  border-radius: 0.25em;\n",
       "  box-sizing: border-box;\n",
       "  margin-bottom: 0.5em;\n",
       "  /* unfitted */\n",
       "  background-color: var(--sklearn-color-unfitted-level-0);\n",
       "}\n",
       "\n",
       "#sk-container-id-1 div.sk-estimator.fitted {\n",
       "  /* fitted */\n",
       "  background-color: var(--sklearn-color-fitted-level-0);\n",
       "}\n",
       "\n",
       "/* on hover */\n",
       "#sk-container-id-1 div.sk-estimator:hover {\n",
       "  /* unfitted */\n",
       "  background-color: var(--sklearn-color-unfitted-level-2);\n",
       "}\n",
       "\n",
       "#sk-container-id-1 div.sk-estimator.fitted:hover {\n",
       "  /* fitted */\n",
       "  background-color: var(--sklearn-color-fitted-level-2);\n",
       "}\n",
       "\n",
       "/* Specification for estimator info (e.g. \"i\" and \"?\") */\n",
       "\n",
       "/* Common style for \"i\" and \"?\" */\n",
       "\n",
       ".sk-estimator-doc-link,\n",
       "a:link.sk-estimator-doc-link,\n",
       "a:visited.sk-estimator-doc-link {\n",
       "  float: right;\n",
       "  font-size: smaller;\n",
       "  line-height: 1em;\n",
       "  font-family: monospace;\n",
       "  background-color: var(--sklearn-color-background);\n",
       "  border-radius: 1em;\n",
       "  height: 1em;\n",
       "  width: 1em;\n",
       "  text-decoration: none !important;\n",
       "  margin-left: 1ex;\n",
       "  /* unfitted */\n",
       "  border: var(--sklearn-color-unfitted-level-1) 1pt solid;\n",
       "  color: var(--sklearn-color-unfitted-level-1);\n",
       "}\n",
       "\n",
       ".sk-estimator-doc-link.fitted,\n",
       "a:link.sk-estimator-doc-link.fitted,\n",
       "a:visited.sk-estimator-doc-link.fitted {\n",
       "  /* fitted */\n",
       "  border: var(--sklearn-color-fitted-level-1) 1pt solid;\n",
       "  color: var(--sklearn-color-fitted-level-1);\n",
       "}\n",
       "\n",
       "/* On hover */\n",
       "div.sk-estimator:hover .sk-estimator-doc-link:hover,\n",
       ".sk-estimator-doc-link:hover,\n",
       "div.sk-label-container:hover .sk-estimator-doc-link:hover,\n",
       ".sk-estimator-doc-link:hover {\n",
       "  /* unfitted */\n",
       "  background-color: var(--sklearn-color-unfitted-level-3);\n",
       "  color: var(--sklearn-color-background);\n",
       "  text-decoration: none;\n",
       "}\n",
       "\n",
       "div.sk-estimator.fitted:hover .sk-estimator-doc-link.fitted:hover,\n",
       ".sk-estimator-doc-link.fitted:hover,\n",
       "div.sk-label-container:hover .sk-estimator-doc-link.fitted:hover,\n",
       ".sk-estimator-doc-link.fitted:hover {\n",
       "  /* fitted */\n",
       "  background-color: var(--sklearn-color-fitted-level-3);\n",
       "  color: var(--sklearn-color-background);\n",
       "  text-decoration: none;\n",
       "}\n",
       "\n",
       "/* Span, style for the box shown on hovering the info icon */\n",
       ".sk-estimator-doc-link span {\n",
       "  display: none;\n",
       "  z-index: 9999;\n",
       "  position: relative;\n",
       "  font-weight: normal;\n",
       "  right: .2ex;\n",
       "  padding: .5ex;\n",
       "  margin: .5ex;\n",
       "  width: min-content;\n",
       "  min-width: 20ex;\n",
       "  max-width: 50ex;\n",
       "  color: var(--sklearn-color-text);\n",
       "  box-shadow: 2pt 2pt 4pt #999;\n",
       "  /* unfitted */\n",
       "  background: var(--sklearn-color-unfitted-level-0);\n",
       "  border: .5pt solid var(--sklearn-color-unfitted-level-3);\n",
       "}\n",
       "\n",
       ".sk-estimator-doc-link.fitted span {\n",
       "  /* fitted */\n",
       "  background: var(--sklearn-color-fitted-level-0);\n",
       "  border: var(--sklearn-color-fitted-level-3);\n",
       "}\n",
       "\n",
       ".sk-estimator-doc-link:hover span {\n",
       "  display: block;\n",
       "}\n",
       "\n",
       "/* \"?\"-specific style due to the `<a>` HTML tag */\n",
       "\n",
       "#sk-container-id-1 a.estimator_doc_link {\n",
       "  float: right;\n",
       "  font-size: 1rem;\n",
       "  line-height: 1em;\n",
       "  font-family: monospace;\n",
       "  background-color: var(--sklearn-color-background);\n",
       "  border-radius: 1rem;\n",
       "  height: 1rem;\n",
       "  width: 1rem;\n",
       "  text-decoration: none;\n",
       "  /* unfitted */\n",
       "  color: var(--sklearn-color-unfitted-level-1);\n",
       "  border: var(--sklearn-color-unfitted-level-1) 1pt solid;\n",
       "}\n",
       "\n",
       "#sk-container-id-1 a.estimator_doc_link.fitted {\n",
       "  /* fitted */\n",
       "  border: var(--sklearn-color-fitted-level-1) 1pt solid;\n",
       "  color: var(--sklearn-color-fitted-level-1);\n",
       "}\n",
       "\n",
       "/* On hover */\n",
       "#sk-container-id-1 a.estimator_doc_link:hover {\n",
       "  /* unfitted */\n",
       "  background-color: var(--sklearn-color-unfitted-level-3);\n",
       "  color: var(--sklearn-color-background);\n",
       "  text-decoration: none;\n",
       "}\n",
       "\n",
       "#sk-container-id-1 a.estimator_doc_link.fitted:hover {\n",
       "  /* fitted */\n",
       "  background-color: var(--sklearn-color-fitted-level-3);\n",
       "}\n",
       "</style><div id=\"sk-container-id-1\" class=\"sk-top-container\"><div class=\"sk-text-repr-fallback\"><pre>LinearRegression()</pre><b>In a Jupyter environment, please rerun this cell to show the HTML representation or trust the notebook. <br />On GitHub, the HTML representation is unable to render, please try loading this page with nbviewer.org.</b></div><div class=\"sk-container\" hidden><div class=\"sk-item\"><div class=\"sk-estimator fitted sk-toggleable\"><input class=\"sk-toggleable__control sk-hidden--visually\" id=\"sk-estimator-id-1\" type=\"checkbox\" checked><label for=\"sk-estimator-id-1\" class=\"sk-toggleable__label fitted sk-toggleable__label-arrow fitted\">&nbsp;&nbsp;LinearRegression<a class=\"sk-estimator-doc-link fitted\" rel=\"noreferrer\" target=\"_blank\" href=\"https://scikit-learn.org/1.5/modules/generated/sklearn.linear_model.LinearRegression.html\">?<span>Documentation for LinearRegression</span></a><span class=\"sk-estimator-doc-link fitted\">i<span>Fitted</span></span></label><div class=\"sk-toggleable__content fitted\"><pre>LinearRegression()</pre></div> </div></div></div></div>"
      ],
      "text/plain": [
       "LinearRegression()"
      ]
     },
     "execution_count": 346,
     "metadata": {},
     "output_type": "execute_result"
    }
   ],
   "source": [
    "linear_Reg_model=LinearRegression()\n",
    "linear_Reg_model.fit(x_train, y_train)"
   ]
  },
  {
   "cell_type": "markdown",
   "id": "478afe67-77f2-4dcc-9f4a-6a8bc2f25e38",
   "metadata": {},
   "source": [
    "### 5. Model Evaluation"
   ]
  },
  {
   "cell_type": "markdown",
   "id": "2f692def-459c-4ac4-a1ba-44ff60f4dba5",
   "metadata": {},
   "source": [
    "#### Training Data Evalutation"
   ]
  },
  {
   "cell_type": "code",
   "execution_count": 360,
   "id": "daf67c2e-cb17-4a6e-b2d2-b3224501aad7",
   "metadata": {},
   "outputs": [
    {
     "name": "stdout",
     "output_type": "stream",
     "text": [
      "The MSE Output Is: 0.009790153792185617\n",
      "********************\n",
      "The RMSE Output Is: 0.09894520600911201\n",
      "********************\n",
      "The MAE Output Is: 0.07857408952604533\n",
      "********************\n",
      "The R_SQUARED Output Is: 0.9786536722994215\n",
      "********************\n"
     ]
    }
   ],
   "source": [
    "y_pred_train=linear_Reg_model.predict(x_train)\n",
    "\n",
    "# Mse\n",
    "mse=mean_squared_error(y_train,y_pred_train)\n",
    "print(\"The MSE Output Is:\",mse)\n",
    "print(\"*\"*20)\n",
    "#Rmse\n",
    "rmse=np.sqrt(mse)\n",
    "print(\"The RMSE Output Is:\",rmse)\n",
    "print(\"*\"*20)\n",
    "\n",
    "#Mae\n",
    "mae=mean_absolute_error(y_train, y_pred_train)\n",
    "print(\"The MAE Output Is:\", mae)\n",
    "print(\"*\"*20)\n",
    "\n",
    "#R_squared\n",
    "r_squared=r2_score(y_train, y_pred_train)\n",
    "print(\"The R_SQUARED Output Is:\",r_squared)\n",
    "print(\"*\"*20)\n"
   ]
  },
  {
   "cell_type": "markdown",
   "id": "7fe25620-d345-4d36-8cbd-02e20bd4793c",
   "metadata": {},
   "source": [
    "#### Testing Data Evaluation"
   ]
  },
  {
   "cell_type": "code",
   "execution_count": 359,
   "id": "8a99ec68-5265-4389-9e77-0891c40e0095",
   "metadata": {},
   "outputs": [
    {
     "name": "stdout",
     "output_type": "stream",
     "text": [
      "The MSE Output Is: 0.013337952633846895\n",
      "********************\n",
      "The RMSE Output Is: 0.11549005426376288\n",
      "********************\n",
      "The MAE Output Is: 0.08766457135303547\n",
      "********************\n",
      "The R_SQUARED Output Is: 0.9718004090579153\n"
     ]
    }
   ],
   "source": [
    "y_pred_test=linear_Reg_model.predict(x_test)\n",
    "\n",
    "# Mse\n",
    "mse=mean_squared_error(y_test,y_pred_test)\n",
    "print(\"The MSE Output Is:\",mse)\n",
    "print(\"*\"*20)\n",
    "#Rmse\n",
    "rmse=np.sqrt(mse)\n",
    "print(\"The RMSE Output Is:\",rmse)\n",
    "print(\"*\"*20)\n",
    "#Mae\n",
    "mae=mean_absolute_error(y_test,y_pred_test)\n",
    "print(\"The MAE Output Is:\", mae)\n",
    "print(\"*\"*20)\n",
    "#R_squared\n",
    "r_squared=r2_score(y_test, y_pred_test)\n",
    "print(\"The R_SQUARED Output Is:\",r_squared)"
   ]
  },
  {
   "cell_type": "code",
   "execution_count": null,
   "id": "b483a463-73d7-44db-8a4d-3394b13a63c2",
   "metadata": {},
   "outputs": [],
   "source": []
  },
  {
   "cell_type": "markdown",
   "id": "def61b48-cbd3-48c9-bfe9-a00018893985",
   "metadata": {},
   "source": [
    "### iris_pariplot.png"
   ]
  },
  {
   "cell_type": "raw",
   "id": "55bc48d2-c0b5-471d-8f0c-c3ad14e745d4",
   "metadata": {},
   "source": [
    "sns.pairplot(df, kind='reg')\n",
    "plt.show()\n",
    "\n",
    "plt.figure(figsize=(800,400))\n",
    "sns.heatmap(df, cmap= 'coolwarm')\n",
    "plt.show()\n",
    "# heatmap"
   ]
  },
  {
   "cell_type": "markdown",
   "id": "3a0a769c-a91c-435b-a637-a5035297acd8",
   "metadata": {},
   "source": [
    "### 6. Save Model"
   ]
  },
  {
   "cell_type": "code",
   "execution_count": null,
   "id": "59d8e215-9395-4a4e-8131-a2da1f5173f3",
   "metadata": {},
   "outputs": [],
   "source": [
    "with open('linear_reg_model.pkl', 'wb') as f:\n",
    "    pickle.dump(lin_reg_model, f)"
   ]
  },
  {
   "cell_type": "code",
   "execution_count": null,
   "id": "bc6de008-d47e-4e3c-b74b-e44e21be38d5",
   "metadata": {},
   "outputs": [],
   "source": [
    "column_data={'source': {'fcst':1, 'comb':2},'preciptype':{'rain': 1},'Season': {'Fall': 1}}\n",
    "\n",
    "\n",
    "# df=pd.get_dummies(df, columns=['preciptype'], dtype=int)\n",
    "# df\n",
    "\n",
    "with open('column_data.json', 'w') as f:\n",
    "    json.dump(column_data, f)"
   ]
  },
  {
   "cell_type": "markdown",
   "id": "2ef15b80-b73e-43b2-8c92-e0fa60a191a6",
   "metadata": {},
   "source": [
    "#### model testing on single row"
   ]
  },
  {
   "cell_type": "code",
   "execution_count": 361,
   "id": "6e49081d-94fd-4613-aad4-c902d0952d57",
   "metadata": {},
   "outputs": [
    {
     "data": {
      "text/html": [
       "<div>\n",
       "<style scoped>\n",
       "    .dataframe tbody tr th:only-of-type {\n",
       "        vertical-align: middle;\n",
       "    }\n",
       "\n",
       "    .dataframe tbody tr th {\n",
       "        vertical-align: top;\n",
       "    }\n",
       "\n",
       "    .dataframe thead th {\n",
       "        text-align: right;\n",
       "    }\n",
       "</style>\n",
       "<table border=\"1\" class=\"dataframe\">\n",
       "  <thead>\n",
       "    <tr style=\"text-align: right;\">\n",
       "      <th></th>\n",
       "      <th>monthtime</th>\n",
       "      <th>yeartime</th>\n",
       "      <th>datetimeEpoch</th>\n",
       "      <th>tempmax</th>\n",
       "      <th>tempmin</th>\n",
       "      <th>temp</th>\n",
       "      <th>feelslikemax</th>\n",
       "      <th>feelslikemin</th>\n",
       "      <th>feelslike</th>\n",
       "      <th>dew</th>\n",
       "      <th>...</th>\n",
       "      <th>City_San Antonio</th>\n",
       "      <th>City_San Diego</th>\n",
       "      <th>City_San Jose</th>\n",
       "      <th>Day_of_Week_Friday</th>\n",
       "      <th>Day_of_Week_Monday</th>\n",
       "      <th>Day_of_Week_Saturday</th>\n",
       "      <th>Day_of_Week_Sunday</th>\n",
       "      <th>Day_of_Week_Thursday</th>\n",
       "      <th>Day_of_Week_Tuesday</th>\n",
       "      <th>Day_of_Week_Wednesday</th>\n",
       "    </tr>\n",
       "  </thead>\n",
       "  <tbody>\n",
       "    <tr>\n",
       "      <th>152</th>\n",
       "      <td>2</td>\n",
       "      <td>2024</td>\n",
       "      <td>1726944415</td>\n",
       "      <td>96.279681</td>\n",
       "      <td>81.398977</td>\n",
       "      <td>88.663335</td>\n",
       "      <td>95.49264</td>\n",
       "      <td>84.222299</td>\n",
       "      <td>91.300143</td>\n",
       "      <td>60.99115</td>\n",
       "      <td>...</td>\n",
       "      <td>0</td>\n",
       "      <td>0</td>\n",
       "      <td>0</td>\n",
       "      <td>0</td>\n",
       "      <td>0</td>\n",
       "      <td>1</td>\n",
       "      <td>0</td>\n",
       "      <td>0</td>\n",
       "      <td>0</td>\n",
       "      <td>0</td>\n",
       "    </tr>\n",
       "  </tbody>\n",
       "</table>\n",
       "<p>1 rows × 123 columns</p>\n",
       "</div>"
      ],
      "text/plain": [
       "     monthtime  yeartime  datetimeEpoch    tempmax    tempmin       temp  \\\n",
       "152          2      2024     1726944415  96.279681  81.398977  88.663335   \n",
       "\n",
       "     feelslikemax  feelslikemin  feelslike       dew  ...  City_San Antonio  \\\n",
       "152      95.49264     84.222299  91.300143  60.99115  ...                 0   \n",
       "\n",
       "     City_San Diego  City_San Jose  Day_of_Week_Friday  Day_of_Week_Monday  \\\n",
       "152               0              0                   0                   0   \n",
       "\n",
       "     Day_of_Week_Saturday  Day_of_Week_Sunday  Day_of_Week_Thursday  \\\n",
       "152                     1                   0                     0   \n",
       "\n",
       "     Day_of_Week_Tuesday  Day_of_Week_Wednesday  \n",
       "152                    0                      0  \n",
       "\n",
       "[1 rows x 123 columns]"
      ]
     },
     "execution_count": 361,
     "metadata": {},
     "output_type": "execute_result"
    }
   ],
   "source": [
    "x_test[22:23]"
   ]
  },
  {
   "cell_type": "code",
   "execution_count": 362,
   "id": "defe57e3-2655-494a-937a-0608d1b67c58",
   "metadata": {},
   "outputs": [
    {
     "data": {
      "text/html": [
       "<div>\n",
       "<style scoped>\n",
       "    .dataframe tbody tr th:only-of-type {\n",
       "        vertical-align: middle;\n",
       "    }\n",
       "\n",
       "    .dataframe tbody tr th {\n",
       "        vertical-align: top;\n",
       "    }\n",
       "\n",
       "    .dataframe thead th {\n",
       "        text-align: right;\n",
       "    }\n",
       "</style>\n",
       "<table border=\"1\" class=\"dataframe\">\n",
       "  <thead>\n",
       "    <tr style=\"text-align: right;\">\n",
       "      <th></th>\n",
       "      <th>monthtime</th>\n",
       "      <th>yeartime</th>\n",
       "      <th>datetimeEpoch</th>\n",
       "      <th>tempmax</th>\n",
       "      <th>tempmin</th>\n",
       "      <th>temp</th>\n",
       "      <th>feelslikemax</th>\n",
       "      <th>feelslikemin</th>\n",
       "      <th>feelslike</th>\n",
       "      <th>dew</th>\n",
       "      <th>...</th>\n",
       "      <th>City_San Antonio</th>\n",
       "      <th>City_San Diego</th>\n",
       "      <th>City_San Jose</th>\n",
       "      <th>Day_of_Week_Friday</th>\n",
       "      <th>Day_of_Week_Monday</th>\n",
       "      <th>Day_of_Week_Saturday</th>\n",
       "      <th>Day_of_Week_Sunday</th>\n",
       "      <th>Day_of_Week_Thursday</th>\n",
       "      <th>Day_of_Week_Tuesday</th>\n",
       "      <th>Day_of_Week_Wednesday</th>\n",
       "    </tr>\n",
       "  </thead>\n",
       "  <tbody>\n",
       "    <tr>\n",
       "      <th>180</th>\n",
       "      <td>3</td>\n",
       "      <td>2024</td>\n",
       "      <td>1726525688</td>\n",
       "      <td>83.121229</td>\n",
       "      <td>62.547975</td>\n",
       "      <td>69.098142</td>\n",
       "      <td>78.861022</td>\n",
       "      <td>60.013616</td>\n",
       "      <td>67.308123</td>\n",
       "      <td>47.500395</td>\n",
       "      <td>...</td>\n",
       "      <td>0</td>\n",
       "      <td>0</td>\n",
       "      <td>1</td>\n",
       "      <td>0</td>\n",
       "      <td>0</td>\n",
       "      <td>0</td>\n",
       "      <td>0</td>\n",
       "      <td>0</td>\n",
       "      <td>1</td>\n",
       "      <td>0</td>\n",
       "    </tr>\n",
       "  </tbody>\n",
       "</table>\n",
       "<p>1 rows × 123 columns</p>\n",
       "</div>"
      ],
      "text/plain": [
       "     monthtime  yeartime  datetimeEpoch    tempmax    tempmin       temp  \\\n",
       "180          3      2024     1726525688  83.121229  62.547975  69.098142   \n",
       "\n",
       "     feelslikemax  feelslikemin  feelslike        dew  ...  City_San Antonio  \\\n",
       "180     78.861022     60.013616  67.308123  47.500395  ...                 0   \n",
       "\n",
       "     City_San Diego  City_San Jose  Day_of_Week_Friday  Day_of_Week_Monday  \\\n",
       "180               0              1                   0                   0   \n",
       "\n",
       "     Day_of_Week_Saturday  Day_of_Week_Sunday  Day_of_Week_Thursday  \\\n",
       "180                     0                   0                     0   \n",
       "\n",
       "     Day_of_Week_Tuesday  Day_of_Week_Wednesday  \n",
       "180                    1                      0  \n",
       "\n",
       "[1 rows x 123 columns]"
      ]
     },
     "execution_count": 362,
     "metadata": {},
     "output_type": "execute_result"
    }
   ],
   "source": [
    "x_test.iloc[[77]]"
   ]
  },
  {
   "cell_type": "code",
   "execution_count": 367,
   "id": "619fac62-f578-4135-bc86-f86730354a6f",
   "metadata": {},
   "outputs": [
    {
     "data": {
      "text/plain": [
       "np.float64(10.410142957583929)"
      ]
     },
     "execution_count": 367,
     "metadata": {},
     "output_type": "execute_result"
    }
   ],
   "source": [
    "linear_Reg_model.predict(x_test[34:35])[0]"
   ]
  },
  {
   "cell_type": "code",
   "execution_count": 368,
   "id": "5a5696a6-2a1f-4292-a278-989925ba053e",
   "metadata": {},
   "outputs": [
    {
     "data": {
      "text/plain": [
       "np.float64(9.189932267926935)"
      ]
     },
     "execution_count": 368,
     "metadata": {},
     "output_type": "execute_result"
    }
   ],
   "source": [
    "linear_Reg_model.predict(x_test[10:11])[0]"
   ]
  },
  {
   "cell_type": "code",
   "execution_count": 366,
   "id": "b55b21e4-5970-4dc5-aa29-9dcfcb265993",
   "metadata": {},
   "outputs": [
    {
     "data": {
      "text/plain": [
       "np.float64(10.410142957583929)"
      ]
     },
     "execution_count": 366,
     "metadata": {},
     "output_type": "execute_result"
    }
   ],
   "source": [
    "linear_Reg_model.predict(x_test.iloc[[34]])[0]"
   ]
  },
  {
   "cell_type": "code",
   "execution_count": 369,
   "id": "28a44e12-5a8e-4fda-9edf-5be6f151eefb",
   "metadata": {},
   "outputs": [
    {
     "name": "stdout",
     "output_type": "stream",
     "text": [
      "<class 'pandas.core.frame.DataFrame'>\n",
      "RangeIndex: 1000 entries, 0 to 999\n",
      "Columns: 124 entries, monthtime to Day_of_Week_Wednesday\n",
      "dtypes: bool(1), float64(26), int64(97)\n",
      "memory usage: 962.0 KB\n"
     ]
    }
   ],
   "source": [
    "df.info()"
   ]
  },
  {
   "cell_type": "raw",
   "id": "df92ca26-53cf-4f0b-9e1a-70e99346fb8f",
   "metadata": {},
   "source": [
    "# if wrong predecting check in it :\n",
    "check zero values columns  : condition_code, snow, snowdepth\n",
    "\n",
    " 26  sunrise            1000 non-null   object  \n",
    " 28  sunset             1000 non-null   object \n",
    " 31  conditions         1000 non-null   object \n",
    " 32  description        1000 non-null   object \n",
    " 33  icon               1000 non-null   object \n",
    " 34  stations           67 non-null     object \n",
    " 35  source             1000 non-null   object \n",
    " 36  City               1000 non-null   object  \n",
    " 42  Season             1000 non-null   object \n",
    " 43  Day_of_Week        1000 non-null   object \n",
    " 44  Is_Weekend         1000 non-null   bool   "
   ]
  },
  {
   "cell_type": "code",
   "execution_count": null,
   "id": "3d76b5a5-09ab-414b-8135-3e94087a7107",
   "metadata": {},
   "outputs": [],
   "source": []
  }
 ],
 "metadata": {
  "kernelspec": {
   "display_name": "Python 3 (ipykernel)",
   "language": "python",
   "name": "python3"
  },
  "language_info": {
   "codemirror_mode": {
    "name": "ipython",
    "version": 3
   },
   "file_extension": ".py",
   "mimetype": "text/x-python",
   "name": "python",
   "nbconvert_exporter": "python",
   "pygments_lexer": "ipython3",
   "version": "3.12.4"
  }
 },
 "nbformat": 4,
 "nbformat_minor": 5
}
